{
 "cells": [
  {
   "cell_type": "code",
   "execution_count": 433,
   "metadata": {
    "deletable": false,
    "editable": false
   },
   "outputs": [],
   "source": [
    "# Initialize Otter\n",
    "import otter\n",
    "grader = otter.Notebook(\"cs109a_hw5.ipynb\")"
   ]
  },
  {
   "cell_type": "markdown",
   "metadata": {
    "tags": []
   },
   "source": [
    "# <img style=\"float: left; padding-right: 10px; width: 45px\" src=\"https://raw.githubusercontent.com/Harvard-IACS/2018-CS109A/master/content/styles/iacs.png\"> CS109A Introduction to Data Science: \n",
    "## Homework 5: Predicting College Admissions\n",
    "\n",
    "**Harvard University**<br/>\n",
    "**Fall 2022**<br/>\n",
    "**Instructors**: Pavlos Protopapas, Natesh Pillai\n",
    "\n",
    "<hr style=\"height:2.4pt\">"
   ]
  },
  {
   "cell_type": "code",
   "execution_count": 434,
   "metadata": {},
   "outputs": [
    {
     "data": {
      "text/html": [
       "<style>\n",
       "blockquote { background: #AEDE94; }\n",
       "h1 {\n",
       "    padding-top: 25px;\n",
       "    padding-bottom: 25px;\n",
       "    text-align: left;\n",
       "    padding-left: 10px;\n",
       "    background-color: #63ACBE;\n",
       "    color: black;\n",
       "}\n",
       "h2 {\n",
       "    padding-top: 10px;\n",
       "    padding-bottom: 10px;\n",
       "    text-align: left;\n",
       "    padding-left: 5px;\n",
       "    background-color: #EEEEEE;\n",
       "    color: black;\n",
       "}\n",
       "\n",
       "div.exercise {\n",
       "\tbackground-color: #f8b4ab;\n",
       "\tborder-color: #E9967A;\n",
       "\tborder-left: 5px solid #601A4A;\n",
       "\tpadding: 0.5em;\n",
       "}\n",
       "\n",
       "div.exercise-r {\n",
       "\tbackground-color: #ffd0d0;\n",
       "\tborder-color: #E9967A;\n",
       "\tborder-left: 5px solid #601A4A;\n",
       "\tpadding: 0.5em;\n",
       "}\n",
       "\n",
       "\n",
       "span.sub-q {\n",
       "\tfont-weight: bold;\n",
       "}\n",
       "div.theme {\n",
       "\tbackground-color: #63ACBE;\n",
       "\tborder-color: #E9967A;\n",
       "\tborder-left: 5px solid #601A4A;\n",
       "\tpadding: 0.5em;\n",
       "\tfont-size: 18pt;\n",
       "}\n",
       "div.gc {\n",
       "\tbackground-color: #AEDE94;\n",
       "\tborder-color: #E9967A;\n",
       "\tborder-left: 5px solid #601A4A;\n",
       "\tpadding: 0.5em;\n",
       "\tfont-size: 12pt;\n",
       "}\n",
       "p.q1 {\n",
       "    padding-top: 5px;\n",
       "    padding-bottom: 5px;\n",
       "    text-align: left;\n",
       "    padding-left: 5px;\n",
       "    background-color: #EEEEEE;\n",
       "    color: black;\n",
       "}\n",
       "header {\n",
       "   padding-top: 35px;\n",
       "    padding-bottom: 35px;\n",
       "    text-align: left;\n",
       "    padding-left: 10px;\n",
       "    background-color: #DDDDDD;\n",
       "    color: black;\n",
       "}\n",
       "span.emph {\n",
       "\tcolor: #601A4A;\n",
       "\tfont-weight: bold;\n",
       "}\n",
       "\n",
       "</style>\n"
      ],
      "text/plain": [
       "<IPython.core.display.HTML object>"
      ]
     },
     "execution_count": 434,
     "metadata": {},
     "output_type": "execute_result"
    }
   ],
   "source": [
    "# RUN THIS CELL \n",
    "import requests\n",
    "from IPython.core.display import HTML\n",
    "styles = requests.get(\n",
    "    \"https://raw.githubusercontent.com/Harvard-IACS/2021-CS109A/master/\"\n",
    "    \"themes/static/css/cs109.css\"\n",
    ").text\n",
    "HTML(styles)"
   ]
  },
  {
   "cell_type": "markdown",
   "metadata": {},
   "source": [
    "### Import Libraries"
   ]
  },
  {
   "cell_type": "code",
   "execution_count": 435,
   "metadata": {},
   "outputs": [],
   "source": [
    "# RUN THIS CELL\n",
    "import itertools\n",
    "import math\n",
    "\n",
    "import numpy as np\n",
    "import pandas as pd\n",
    "import seaborn as sns\n",
    "import matplotlib.pyplot as plt\n",
    "\n",
    "from sklearn.model_selection import train_test_split\n",
    "from sklearn.preprocessing import PolynomialFeatures\n",
    "from sklearn.preprocessing import StandardScaler\n",
    "from sklearn.model_selection import cross_validate\n",
    "from sklearn.pipeline import make_pipeline\n",
    "\n",
    "from sklearn.linear_model import LogisticRegression\n",
    "from sklearn.neighbors import KNeighborsClassifier\n",
    "from sklearn.linear_model import LogisticRegressionCV\n",
    "\n",
    "from sklearn.metrics import accuracy_score\n",
    "from sklearn.metrics import roc_curve\n",
    "from sklearn.metrics import roc_auc_score\n",
    "\n",
    "# pandas tricks for better display\n",
    "pd.options.display.max_columns = 50  \n",
    "pd.options.display.max_rows = 500     \n",
    "pd.options.display.max_colwidth = 100\n",
    "pd.options.display.precision = 3\n",
    "\n",
    "%matplotlib inline"
   ]
  },
  {
   "cell_type": "markdown",
   "metadata": {},
   "source": [
    "#### Instructions\n",
    "- To submit your assignment follow the instructions given in Canvas.\n",
    "- Plots should be legible and interpretable without having to refer to the code that generated them, including labels for the $x$- and $y$-axes as well as a descriptive title and/or legend when appropriate.\n",
    "- When asked to interpret a visualization, do not simply describe it (e.g., \"the curve has a steep slope up\"), but instead explain what you think the plot *means*.\n",
    "- The use of 'hard-coded' values to try and pass tests rather than solving problems programmatically will not receive credit.\n",
    "- The use of *extremely* inefficient or error-prone code (e.g., copy-pasting nearly identical commands rather than looping) may result in only partial credit.\n",
    "- We have tried to include all the libraries you may need to do the assignment in the imports cell provided below. Please get course staff approval before importing any additional 3rd party libraries.\n",
    "- Enable scrolling output on cells with very long output.\n",
    "- Feel free to add additional code or markdown cells as needed.\n",
    "- Ensure your code runs top to bottom without error and passes all tests by restarting the kernel and running all cells. This is how the notebook will be evaluated (note that this can take a few minutes). \n",
    "- **You should do a \"Restart Kernel and Run All Cells\" before submitting to ensure (1) your notebook actually runs and (2) all output is visible**"
   ]
  },
  {
   "cell_type": "markdown",
   "metadata": {},
   "source": [
    "<a id=\"contents\"></a>\n",
    "\n",
    "## Notebook contents\n",
    "\n",
    "- [**Overview and data description**](#intro)\n",
    "\n",
    "\n",
    "- [**Question 1: Data exploration using train and basic models [16 pts]**](#part1)\n",
    "\n",
    "- [**Question 2: Interpretable modeling [18 pts]**](#part2)\n",
    "\n",
    "- [**Question 3: Harvard and Yale? [30 pts]**](#part3)\n",
    "\n",
    "- [**Question 4: Building predictive models for admitted [24 pts]**](#part4)\n",
    "\n",
    "- [**Question 5: Evaluating results [12 pts]**](#part5)"
   ]
  },
  {
   "cell_type": "markdown",
   "metadata": {},
   "source": [
    "<a id=\"intro\"></a>\n",
    "\n",
    "## Overview and data description\n",
    "\n",
    "[Return to contents](#contents)\n",
    "\n",
    "### Predicting admissions into elite universities\n",
    "\n",
    "In this problem set we will model the chances of high school students being accepted into two different elite undergraduate colleges (one is elite at least :) ): Harvard and Yale.  The data are provided in the file `data/college_admissions.csv` and were scraped from [collegedata.com](https://www.collegedata.com/) (where applicants volunteer to share their information).  Each observation corresponds to an applicant to one of the two different colleges (note: the same applicant may show up in two rows: once for each college).  The main response is the `\"admitted\"` variable (1 = admitted, 0 = denied), and there are are several predictors to consider:\n",
    "\n",
    "- **id**: a unique identifier for the applicant \n",
    "- **test_score**: a standardized measurement of the applicant's highest ACT or SAT combined score (2400 is the maximum)\n",
    "- **ap**: the number of AP tests taken\n",
    "- **avg_ap**: the average score on the AP tests taken (0 if no tests were taken)\n",
    "- **sat_subjects**: the number of SAT subject tests taken\n",
    "- **gpa**: the unweighted GPA of the applicant (max of 4.0)\n",
    "- **female**:  a binary indicator for gender: 1 = female, 0 = otherwise\n",
    "- **minority**: a binary indicator for under-represented minority: 1 = minority, 0 = otherwise \n",
    "- **international**: a binary indicator for international status: 1 = international, 0 = United States\n",
    "- **sports**: a binary indicator for High School All-American: 1 = all-American athlete, 0 = otherwise\n",
    "- **school**: a categorical variable for school applied to: \"Harvard\" or \"Yale\"\n",
    "- **early_app**: a binary indicator for application type: 1 = early action, 0 = regular\n",
    "- **alumni**:  a binary indicator for parents' alumni status of school: 1 = a parent is an alumnus, 0 = otherwise\n",
    "- **program**: the program applied to by the student with many choices (we will not use this as a predictor)\n",
    "- **add_info**: additional (optional) info provided by applicant (we will not use this as a predictor)\n",
    "\n",
    "**The main set of 12 predictors is:**\n",
    "\n",
    "```python\n",
    "[\n",
    "    \"test_score\", \"ap\", \"avg_ap\", \"sat_subjects\", \n",
    "    \"gpa\", \"female\", \"minority\", \"international\",\n",
    "    \"sports\", \"school\", \"early_app\", \"alumni\",\n",
    "]\n",
    "```\n",
    "\n",
    "Please note, you may need to modify this list when fitting different models, and you will be replacing the `\"school\"` variable with a binary `\"harvard\"` variable early in the questions below.\n",
    "\n",
    "\n",
    "**IMPORTANT NOTES:**\n",
    "\n",
    "- Unless stated otherwise, all logistic regression models should be unregularized (use `penalty=\"none\"`) and include the intercept (which is the default in `sklearn`).\n",
    "\n",
    "\n",
    "- When printing your output (e.g. coefficients, accuracy scores, etc.), DO NOT just print numbers without context. Please be certain provide clarifying labels for all printed numbers and limit the number of digits showing after decimals to a reasonable length (e.g. 4 decimal points for coefficients and accuracy scores).\n",
    "\n",
    "\n",
    "- Also be sure to practice good data science principles: always use train to do analysis and never touch the test set until the very end."
   ]
  },
  {
   "cell_type": "markdown",
   "metadata": {},
   "source": [
    "---"
   ]
  },
  {
   "cell_type": "markdown",
   "metadata": {},
   "source": [
    "<a id=\"part1\"></a>\n",
    "\n",
    "## <div class='exercise'>Question 1: Data exploration using train and basic models [16 pts]</div>\n",
    "\n",
    "[Return to contents](#contents)\n",
    "\n",
    "The first step is to split the observations into an approximate 80-20 train-test split.  Below is some code to do this for you (we want to make sure everyone has the same splits). It also prints the dataset's shape before splitting and after splitting. \n",
    "\n",
    "**IMPORTANT:** While an argument could be made to scale our predictors here, please **DO NOT** do so **UNTIL** it is requested of you in **[Question 4.1](#part4)**.\n"
   ]
  },
  {
   "cell_type": "code",
   "execution_count": 436,
   "metadata": {},
   "outputs": [
    {
     "name": "stdout",
     "output_type": "stream",
     "text": [
      "(1871, 16)\n",
      "(1496, 16) (375, 16)\n"
     ]
    },
    {
     "data": {
      "text/html": [
       "<div>\n",
       "<style scoped>\n",
       "    .dataframe tbody tr th:only-of-type {\n",
       "        vertical-align: middle;\n",
       "    }\n",
       "\n",
       "    .dataframe tbody tr th {\n",
       "        vertical-align: top;\n",
       "    }\n",
       "\n",
       "    .dataframe thead th {\n",
       "        text-align: right;\n",
       "    }\n",
       "</style>\n",
       "<table border=\"1\" class=\"dataframe\">\n",
       "  <thead>\n",
       "    <tr style=\"text-align: right;\">\n",
       "      <th></th>\n",
       "      <th>id</th>\n",
       "      <th>admitted</th>\n",
       "      <th>test_score</th>\n",
       "      <th>ap</th>\n",
       "      <th>avg_ap</th>\n",
       "      <th>sat_subjects</th>\n",
       "      <th>gpa</th>\n",
       "      <th>female</th>\n",
       "      <th>minority</th>\n",
       "      <th>international</th>\n",
       "      <th>sports</th>\n",
       "      <th>school</th>\n",
       "      <th>early_app</th>\n",
       "      <th>alumni</th>\n",
       "      <th>program</th>\n",
       "      <th>add_info</th>\n",
       "    </tr>\n",
       "  </thead>\n",
       "  <tbody>\n",
       "    <tr>\n",
       "      <th>584</th>\n",
       "      <td>JTEQOV7ZCB</td>\n",
       "      <td>0</td>\n",
       "      <td>2080</td>\n",
       "      <td>5</td>\n",
       "      <td>4.400</td>\n",
       "      <td>4</td>\n",
       "      <td>3.90</td>\n",
       "      <td>1</td>\n",
       "      <td>0</td>\n",
       "      <td>0</td>\n",
       "      <td>0</td>\n",
       "      <td>Harvard</td>\n",
       "      <td>1</td>\n",
       "      <td>0</td>\n",
       "      <td>Mechanical Engineering</td>\n",
       "      <td>Swimming 3 years Water Polo 3 years Foreign Language Honor Society PresidentMerit award in Socia...</td>\n",
       "    </tr>\n",
       "    <tr>\n",
       "      <th>1817</th>\n",
       "      <td>I03PV24OHY</td>\n",
       "      <td>1</td>\n",
       "      <td>2190</td>\n",
       "      <td>6</td>\n",
       "      <td>3.667</td>\n",
       "      <td>3</td>\n",
       "      <td>3.97</td>\n",
       "      <td>1</td>\n",
       "      <td>0</td>\n",
       "      <td>0</td>\n",
       "      <td>0</td>\n",
       "      <td>Yale</td>\n",
       "      <td>0</td>\n",
       "      <td>0</td>\n",
       "      <td>legal studies</td>\n",
       "      <td>horseback riding 5 hrs week year round marching concert jazz and orchestral ensembles 30 hrs wee...</td>\n",
       "    </tr>\n",
       "    <tr>\n",
       "      <th>1308</th>\n",
       "      <td>K42SAOUYJJ</td>\n",
       "      <td>0</td>\n",
       "      <td>2140</td>\n",
       "      <td>2</td>\n",
       "      <td>4.500</td>\n",
       "      <td>3</td>\n",
       "      <td>3.70</td>\n",
       "      <td>0</td>\n",
       "      <td>0</td>\n",
       "      <td>0</td>\n",
       "      <td>0</td>\n",
       "      <td>Yale</td>\n",
       "      <td>0</td>\n",
       "      <td>0</td>\n",
       "      <td>Film</td>\n",
       "      <td>Lacrosse Film Club Take Action Club NYU Tisch Summer Film WorkshopNational Honors Society World ...</td>\n",
       "    </tr>\n",
       "    <tr>\n",
       "      <th>1336</th>\n",
       "      <td>LODYYSRTYZ</td>\n",
       "      <td>0</td>\n",
       "      <td>2120</td>\n",
       "      <td>6</td>\n",
       "      <td>3.333</td>\n",
       "      <td>3</td>\n",
       "      <td>4.00</td>\n",
       "      <td>1</td>\n",
       "      <td>0</td>\n",
       "      <td>0</td>\n",
       "      <td>0</td>\n",
       "      <td>Yale</td>\n",
       "      <td>1</td>\n",
       "      <td>0</td>\n",
       "      <td>Biological Sciences</td>\n",
       "      <td>Varsity Orchestra Music Librarian 10 11 12 Violin Player Girl Scouts 10 year Member sold over 65...</td>\n",
       "    </tr>\n",
       "    <tr>\n",
       "      <th>3</th>\n",
       "      <td>OC717EAKXN</td>\n",
       "      <td>1</td>\n",
       "      <td>2400</td>\n",
       "      <td>5</td>\n",
       "      <td>5.000</td>\n",
       "      <td>5</td>\n",
       "      <td>4.00</td>\n",
       "      <td>1</td>\n",
       "      <td>0</td>\n",
       "      <td>0</td>\n",
       "      <td>0</td>\n",
       "      <td>Harvard</td>\n",
       "      <td>0</td>\n",
       "      <td>0</td>\n",
       "      <td>Mathematics</td>\n",
       "      <td>NaN</td>\n",
       "    </tr>\n",
       "  </tbody>\n",
       "</table>\n",
       "</div>"
      ],
      "text/plain": [
       "              id  admitted  test_score  ap  avg_ap  sat_subjects   gpa  \\\n",
       "584   JTEQOV7ZCB         0        2080   5   4.400             4  3.90   \n",
       "1817  I03PV24OHY         1        2190   6   3.667             3  3.97   \n",
       "1308  K42SAOUYJJ         0        2140   2   4.500             3  3.70   \n",
       "1336  LODYYSRTYZ         0        2120   6   3.333             3  4.00   \n",
       "3     OC717EAKXN         1        2400   5   5.000             5  4.00   \n",
       "\n",
       "      female  minority  international  sports   school  early_app  alumni  \\\n",
       "584        1         0              0       0  Harvard          1       0   \n",
       "1817       1         0              0       0     Yale          0       0   \n",
       "1308       0         0              0       0     Yale          0       0   \n",
       "1336       1         0              0       0     Yale          1       0   \n",
       "3          1         0              0       0  Harvard          0       0   \n",
       "\n",
       "                     program  \\\n",
       "584   Mechanical Engineering   \n",
       "1817           legal studies   \n",
       "1308                    Film   \n",
       "1336     Biological Sciences   \n",
       "3                Mathematics   \n",
       "\n",
       "                                                                                                 add_info  \n",
       "584   Swimming 3 years Water Polo 3 years Foreign Language Honor Society PresidentMerit award in Socia...  \n",
       "1817  horseback riding 5 hrs week year round marching concert jazz and orchestral ensembles 30 hrs wee...  \n",
       "1308  Lacrosse Film Club Take Action Club NYU Tisch Summer Film WorkshopNational Honors Society World ...  \n",
       "1336  Varsity Orchestra Music Librarian 10 11 12 Violin Player Girl Scouts 10 year Member sold over 65...  \n",
       "3                                                                                                     NaN  "
      ]
     },
     "metadata": {},
     "output_type": "display_data"
    },
    {
     "name": "stdout",
     "output_type": "stream",
     "text": [
      "<class 'pandas.core.frame.DataFrame'>\n",
      "Int64Index: 1496 entries, 584 to 1537\n",
      "Data columns (total 16 columns):\n",
      " #   Column         Non-Null Count  Dtype  \n",
      "---  ------         --------------  -----  \n",
      " 0   id             1496 non-null   object \n",
      " 1   admitted       1496 non-null   int64  \n",
      " 2   test_score     1496 non-null   int64  \n",
      " 3   ap             1496 non-null   int64  \n",
      " 4   avg_ap         1496 non-null   float64\n",
      " 5   sat_subjects   1496 non-null   int64  \n",
      " 6   gpa            1496 non-null   float64\n",
      " 7   female         1496 non-null   int64  \n",
      " 8   minority       1496 non-null   int64  \n",
      " 9   international  1496 non-null   int64  \n",
      " 10  sports         1496 non-null   int64  \n",
      " 11  school         1496 non-null   object \n",
      " 12  early_app      1496 non-null   int64  \n",
      " 13  alumni         1496 non-null   int64  \n",
      " 14  program        1294 non-null   object \n",
      " 15  add_info       933 non-null    object \n",
      "dtypes: float64(2), int64(10), object(4)\n",
      "memory usage: 198.7+ KB\n"
     ]
    }
   ],
   "source": [
    "#############################\n",
    "## DO NOT MODIFY THIS CODE ##\n",
    "#############################\n",
    "\n",
    "college = pd.read_csv(\"data/college_admissions.csv\")\n",
    "np.random.seed(121)\n",
    "\n",
    "college_train, college_test = train_test_split(\n",
    "    college,\n",
    "    test_size=0.2,\n",
    "    random_state=121,\n",
    "    shuffle=True,\n",
    "    stratify=college[\"school\"],\n",
    ")\n",
    "\n",
    "print(college.shape)\n",
    "print(college_train.shape, college_test.shape)\n",
    "display(college_train.head())\n",
    "college_train.info()"
   ]
  },
  {
   "cell_type": "code",
   "execution_count": 437,
   "metadata": {},
   "outputs": [
    {
     "data": {
      "text/html": [
       "<div>\n",
       "<style scoped>\n",
       "    .dataframe tbody tr th:only-of-type {\n",
       "        vertical-align: middle;\n",
       "    }\n",
       "\n",
       "    .dataframe tbody tr th {\n",
       "        vertical-align: top;\n",
       "    }\n",
       "\n",
       "    .dataframe thead th {\n",
       "        text-align: right;\n",
       "    }\n",
       "</style>\n",
       "<table border=\"1\" class=\"dataframe\">\n",
       "  <thead>\n",
       "    <tr style=\"text-align: right;\">\n",
       "      <th></th>\n",
       "      <th>admitted</th>\n",
       "      <th>test_score</th>\n",
       "      <th>ap</th>\n",
       "      <th>avg_ap</th>\n",
       "      <th>sat_subjects</th>\n",
       "      <th>gpa</th>\n",
       "      <th>female</th>\n",
       "      <th>minority</th>\n",
       "      <th>international</th>\n",
       "      <th>sports</th>\n",
       "      <th>early_app</th>\n",
       "      <th>alumni</th>\n",
       "    </tr>\n",
       "  </thead>\n",
       "  <tbody>\n",
       "    <tr>\n",
       "      <th>count</th>\n",
       "      <td>1871.000</td>\n",
       "      <td>1871.000</td>\n",
       "      <td>1871.000</td>\n",
       "      <td>1871.000</td>\n",
       "      <td>1871.000</td>\n",
       "      <td>1871.000</td>\n",
       "      <td>1871.000</td>\n",
       "      <td>1871.000</td>\n",
       "      <td>1871.000</td>\n",
       "      <td>1871.000</td>\n",
       "      <td>1871.000</td>\n",
       "      <td>1871.000</td>\n",
       "    </tr>\n",
       "    <tr>\n",
       "      <th>mean</th>\n",
       "      <td>0.270</td>\n",
       "      <td>2186.932</td>\n",
       "      <td>3.455</td>\n",
       "      <td>3.730</td>\n",
       "      <td>2.872</td>\n",
       "      <td>3.881</td>\n",
       "      <td>0.506</td>\n",
       "      <td>0.206</td>\n",
       "      <td>0.060</td>\n",
       "      <td>0.035</td>\n",
       "      <td>0.175</td>\n",
       "      <td>0.050</td>\n",
       "    </tr>\n",
       "    <tr>\n",
       "      <th>std</th>\n",
       "      <td>0.444</td>\n",
       "      <td>167.509</td>\n",
       "      <td>2.328</td>\n",
       "      <td>1.692</td>\n",
       "      <td>1.270</td>\n",
       "      <td>0.193</td>\n",
       "      <td>0.500</td>\n",
       "      <td>0.404</td>\n",
       "      <td>0.238</td>\n",
       "      <td>0.185</td>\n",
       "      <td>0.380</td>\n",
       "      <td>0.217</td>\n",
       "    </tr>\n",
       "    <tr>\n",
       "      <th>min</th>\n",
       "      <td>0.000</td>\n",
       "      <td>1150.000</td>\n",
       "      <td>0.000</td>\n",
       "      <td>0.000</td>\n",
       "      <td>0.000</td>\n",
       "      <td>1.980</td>\n",
       "      <td>0.000</td>\n",
       "      <td>0.000</td>\n",
       "      <td>0.000</td>\n",
       "      <td>0.000</td>\n",
       "      <td>0.000</td>\n",
       "      <td>0.000</td>\n",
       "    </tr>\n",
       "    <tr>\n",
       "      <th>25%</th>\n",
       "      <td>0.000</td>\n",
       "      <td>2110.000</td>\n",
       "      <td>2.000</td>\n",
       "      <td>3.500</td>\n",
       "      <td>2.000</td>\n",
       "      <td>3.840</td>\n",
       "      <td>0.000</td>\n",
       "      <td>0.000</td>\n",
       "      <td>0.000</td>\n",
       "      <td>0.000</td>\n",
       "      <td>0.000</td>\n",
       "      <td>0.000</td>\n",
       "    </tr>\n",
       "    <tr>\n",
       "      <th>50%</th>\n",
       "      <td>0.000</td>\n",
       "      <td>2220.000</td>\n",
       "      <td>3.000</td>\n",
       "      <td>4.429</td>\n",
       "      <td>3.000</td>\n",
       "      <td>3.960</td>\n",
       "      <td>1.000</td>\n",
       "      <td>0.000</td>\n",
       "      <td>0.000</td>\n",
       "      <td>0.000</td>\n",
       "      <td>0.000</td>\n",
       "      <td>0.000</td>\n",
       "    </tr>\n",
       "    <tr>\n",
       "      <th>75%</th>\n",
       "      <td>1.000</td>\n",
       "      <td>2310.000</td>\n",
       "      <td>5.000</td>\n",
       "      <td>4.857</td>\n",
       "      <td>3.000</td>\n",
       "      <td>4.000</td>\n",
       "      <td>1.000</td>\n",
       "      <td>0.000</td>\n",
       "      <td>0.000</td>\n",
       "      <td>0.000</td>\n",
       "      <td>0.000</td>\n",
       "      <td>0.000</td>\n",
       "    </tr>\n",
       "    <tr>\n",
       "      <th>max</th>\n",
       "      <td>1.000</td>\n",
       "      <td>2400.000</td>\n",
       "      <td>7.000</td>\n",
       "      <td>5.000</td>\n",
       "      <td>6.000</td>\n",
       "      <td>4.000</td>\n",
       "      <td>1.000</td>\n",
       "      <td>1.000</td>\n",
       "      <td>1.000</td>\n",
       "      <td>1.000</td>\n",
       "      <td>1.000</td>\n",
       "      <td>1.000</td>\n",
       "    </tr>\n",
       "  </tbody>\n",
       "</table>\n",
       "</div>"
      ],
      "text/plain": [
       "       admitted  test_score        ap    avg_ap  sat_subjects       gpa  \\\n",
       "count  1871.000    1871.000  1871.000  1871.000      1871.000  1871.000   \n",
       "mean      0.270    2186.932     3.455     3.730         2.872     3.881   \n",
       "std       0.444     167.509     2.328     1.692         1.270     0.193   \n",
       "min       0.000    1150.000     0.000     0.000         0.000     1.980   \n",
       "25%       0.000    2110.000     2.000     3.500         2.000     3.840   \n",
       "50%       0.000    2220.000     3.000     4.429         3.000     3.960   \n",
       "75%       1.000    2310.000     5.000     4.857         3.000     4.000   \n",
       "max       1.000    2400.000     7.000     5.000         6.000     4.000   \n",
       "\n",
       "         female  minority  international    sports  early_app    alumni  \n",
       "count  1871.000  1871.000       1871.000  1871.000   1871.000  1871.000  \n",
       "mean      0.506     0.206          0.060     0.035      0.175     0.050  \n",
       "std       0.500     0.404          0.238     0.185      0.380     0.217  \n",
       "min       0.000     0.000          0.000     0.000      0.000     0.000  \n",
       "25%       0.000     0.000          0.000     0.000      0.000     0.000  \n",
       "50%       1.000     0.000          0.000     0.000      0.000     0.000  \n",
       "75%       1.000     0.000          0.000     0.000      0.000     0.000  \n",
       "max       1.000     1.000          1.000     1.000      1.000     1.000  "
      ]
     },
     "execution_count": 437,
     "metadata": {},
     "output_type": "execute_result"
    }
   ],
   "source": [
    "college.describe()"
   ]
  },
  {
   "cell_type": "markdown",
   "metadata": {
    "cell_id": "0a790850-87c6-4f46-b89e-048a2295c92b",
    "colab_type": "text",
    "id": "IGFtXJmQap2q"
   },
   "source": [
    "<div class='exercise-r'>\n",
    "\n",
    "**Q1.1** Calculate the proportion of observations in the train data that were admitted and store this value in `prop_admitted_train`.  What would be the train and test classification accuracies for a baseline \"naive\" model where we classified *ALL* applicants as either admitted or not admitted using just this overall proportion to make our decision (i.e. we apply the same outcome to all applicants based on this proportion)? Store these classification accuracies in `naive_train_acc` and `naive_test_acc`.\n",
    "    \n",
    "**NOTE:** For this assignment, use the convention that accuracies range from 0 to 1 (to be consistant with sklearn).\n",
    "    \n",
    "</div>\n",
    "\n",
    "_Points:_ 2.5"
   ]
  },
  {
   "cell_type": "code",
   "execution_count": 438,
   "metadata": {
    "tags": []
   },
   "outputs": [],
   "source": [
    "# your code here\n",
    "# get subset of admitted students from train data\n",
    "y_train = college_train[\"admitted\"]\n",
    "y_test = college_test[\"admitted\"]\n",
    "\n",
    "\n",
    "admitted_train = college_train[college_train[\"admitted\"] == 1]\n",
    "\n",
    "# assigning non-admit to ALL students in both datasets\n",
    "y_pred_train = [0 for x in range(len(y_train))]\n",
    "y_pred_test = [0 for x in range(len(y_test))]\n",
    "\n",
    "prop_admitted_train = len(admitted_train)/len(college_train)\n",
    "\n",
    "# accuracy =  correct predictions/total predictions\n",
    "naive_train_acc = accuracy_score(y_train, y_pred_train)\n",
    "naive_test_acc =  accuracy_score(y_test, y_pred_test)"
   ]
  },
  {
   "cell_type": "code",
   "execution_count": 439,
   "metadata": {},
   "outputs": [
    {
     "name": "stdout",
     "output_type": "stream",
     "text": [
      "Proportion Admitted in training Data: 0.26\n",
      "Naive Classification Model Based on Training Proportions\n",
      "\tTrain Accuracy: 0.74\n",
      "\tTest Accuracy: 0.70\n"
     ]
    }
   ],
   "source": [
    "print(f\"Proportion Admitted in training Data: {prop_admitted_train:.2f}\")\n",
    "print(\"Naive Classification Model Based on Training Proportions\")\n",
    "print(f\"\\tTrain Accuracy: {naive_train_acc:.2f}\")\n",
    "print(f\"\\tTest Accuracy: {naive_test_acc:.2f}\")"
   ]
  },
  {
   "cell_type": "code",
   "execution_count": 440,
   "metadata": {
    "deletable": false,
    "editable": false
   },
   "outputs": [
    {
     "data": {
      "text/html": [
       "<p><strong><pre style='display: inline;'>q1.1</pre></strong> passed! 🙌</p>"
      ],
      "text/plain": [
       "q1.1 results: All test cases passed!"
      ]
     },
     "execution_count": 440,
     "metadata": {},
     "output_type": "execute_result"
    }
   ],
   "source": [
    "grader.check(\"q1.1\")"
   ]
  },
  {
   "cell_type": "markdown",
   "metadata": {
    "cell_id": "0a790850-87c6-4f46-b89e-048a2295c92b",
    "colab_type": "text",
    "id": "IGFtXJmQap2q"
   },
   "source": [
    "<!-- BEGIN QUESTION -->\n",
    "\n",
    "<div class='exercise-r'>\n",
    "\n",
    "**Q1.2** Create a binary (\"dummy\") variable named `\"harvard\"` in both the train and test DataFrames that takes on the value 1 if `school == \"Harvard\"` and 0 otherwise. Now, explore how each of our 12 predictors is associated with whether or not an applicant is admitted into the college to which they applied (`admitted`). Create a separate **visual** for each of our predictors to investigate their relationship with college admissions. **Suggestion:** Place these 12 visuals in a *matrix* of subplots with 3 columns and 4 rows.\n",
    "\n",
    "**NOTE:** We will be using our dummified `harvard` predictor instead of `school` throughout the remainder of this problem set.\n",
    "    \n",
    "</div>\n",
    "\n",
    "_Points:_ 0"
   ]
  },
  {
   "cell_type": "code",
   "execution_count": 441,
   "metadata": {
    "tags": []
   },
   "outputs": [],
   "source": [
    "# Create dummy variable\n",
    "# your code here\n",
    "college_train['harvard'] = college_train['school'].apply(lambda x: 1 if x == \"Harvard\" else 0)\n",
    "college_test['harvard'] = college_test['school'].apply(lambda x: 1 if x == \"Harvard\" else 0)"
   ]
  },
  {
   "cell_type": "code",
   "execution_count": 442,
   "metadata": {},
   "outputs": [
    {
     "data": {
      "text/html": [
       "<div>\n",
       "<style scoped>\n",
       "    .dataframe tbody tr th:only-of-type {\n",
       "        vertical-align: middle;\n",
       "    }\n",
       "\n",
       "    .dataframe tbody tr th {\n",
       "        vertical-align: top;\n",
       "    }\n",
       "\n",
       "    .dataframe thead th {\n",
       "        text-align: right;\n",
       "    }\n",
       "</style>\n",
       "<table border=\"1\" class=\"dataframe\">\n",
       "  <thead>\n",
       "    <tr style=\"text-align: right;\">\n",
       "      <th></th>\n",
       "      <th>id</th>\n",
       "      <th>admitted</th>\n",
       "      <th>test_score</th>\n",
       "      <th>ap</th>\n",
       "      <th>avg_ap</th>\n",
       "      <th>sat_subjects</th>\n",
       "      <th>gpa</th>\n",
       "      <th>female</th>\n",
       "      <th>minority</th>\n",
       "      <th>international</th>\n",
       "      <th>sports</th>\n",
       "      <th>school</th>\n",
       "      <th>early_app</th>\n",
       "      <th>alumni</th>\n",
       "      <th>program</th>\n",
       "      <th>add_info</th>\n",
       "      <th>harvard</th>\n",
       "    </tr>\n",
       "  </thead>\n",
       "  <tbody>\n",
       "    <tr>\n",
       "      <th>584</th>\n",
       "      <td>JTEQOV7ZCB</td>\n",
       "      <td>0</td>\n",
       "      <td>2080</td>\n",
       "      <td>5</td>\n",
       "      <td>4.400</td>\n",
       "      <td>4</td>\n",
       "      <td>3.90</td>\n",
       "      <td>1</td>\n",
       "      <td>0</td>\n",
       "      <td>0</td>\n",
       "      <td>0</td>\n",
       "      <td>Harvard</td>\n",
       "      <td>1</td>\n",
       "      <td>0</td>\n",
       "      <td>Mechanical Engineering</td>\n",
       "      <td>Swimming 3 years Water Polo 3 years Foreign Language Honor Society PresidentMerit award in Socia...</td>\n",
       "      <td>1</td>\n",
       "    </tr>\n",
       "    <tr>\n",
       "      <th>1817</th>\n",
       "      <td>I03PV24OHY</td>\n",
       "      <td>1</td>\n",
       "      <td>2190</td>\n",
       "      <td>6</td>\n",
       "      <td>3.667</td>\n",
       "      <td>3</td>\n",
       "      <td>3.97</td>\n",
       "      <td>1</td>\n",
       "      <td>0</td>\n",
       "      <td>0</td>\n",
       "      <td>0</td>\n",
       "      <td>Yale</td>\n",
       "      <td>0</td>\n",
       "      <td>0</td>\n",
       "      <td>legal studies</td>\n",
       "      <td>horseback riding 5 hrs week year round marching concert jazz and orchestral ensembles 30 hrs wee...</td>\n",
       "      <td>0</td>\n",
       "    </tr>\n",
       "    <tr>\n",
       "      <th>1308</th>\n",
       "      <td>K42SAOUYJJ</td>\n",
       "      <td>0</td>\n",
       "      <td>2140</td>\n",
       "      <td>2</td>\n",
       "      <td>4.500</td>\n",
       "      <td>3</td>\n",
       "      <td>3.70</td>\n",
       "      <td>0</td>\n",
       "      <td>0</td>\n",
       "      <td>0</td>\n",
       "      <td>0</td>\n",
       "      <td>Yale</td>\n",
       "      <td>0</td>\n",
       "      <td>0</td>\n",
       "      <td>Film</td>\n",
       "      <td>Lacrosse Film Club Take Action Club NYU Tisch Summer Film WorkshopNational Honors Society World ...</td>\n",
       "      <td>0</td>\n",
       "    </tr>\n",
       "  </tbody>\n",
       "</table>\n",
       "</div>"
      ],
      "text/plain": [
       "              id  admitted  test_score  ap  avg_ap  sat_subjects   gpa  \\\n",
       "584   JTEQOV7ZCB         0        2080   5   4.400             4  3.90   \n",
       "1817  I03PV24OHY         1        2190   6   3.667             3  3.97   \n",
       "1308  K42SAOUYJJ         0        2140   2   4.500             3  3.70   \n",
       "\n",
       "      female  minority  international  sports   school  early_app  alumni  \\\n",
       "584        1         0              0       0  Harvard          1       0   \n",
       "1817       1         0              0       0     Yale          0       0   \n",
       "1308       0         0              0       0     Yale          0       0   \n",
       "\n",
       "                     program  \\\n",
       "584   Mechanical Engineering   \n",
       "1817           legal studies   \n",
       "1308                    Film   \n",
       "\n",
       "                                                                                                 add_info  \\\n",
       "584   Swimming 3 years Water Polo 3 years Foreign Language Honor Society PresidentMerit award in Socia...   \n",
       "1817  horseback riding 5 hrs week year round marching concert jazz and orchestral ensembles 30 hrs wee...   \n",
       "1308  Lacrosse Film Club Take Action Club NYU Tisch Summer Film WorkshopNational Honors Society World ...   \n",
       "\n",
       "      harvard  \n",
       "584         1  \n",
       "1817        0  \n",
       "1308        0  "
      ]
     },
     "execution_count": 442,
     "metadata": {},
     "output_type": "execute_result"
    }
   ],
   "source": [
    "college_train.head(3)"
   ]
  },
  {
   "cell_type": "code",
   "execution_count": 443,
   "metadata": {},
   "outputs": [],
   "source": [
    "X_train, X_test = college_train, college_test"
   ]
  },
  {
   "cell_type": "code",
   "execution_count": 444,
   "metadata": {
    "tags": []
   },
   "outputs": [
    {
     "data": {
      "image/png": "[encoded data removed]",
      "text/plain": [
       "<Figure size 1200x1000 with 12 Axes>"
      ]
     },
     "metadata": {},
     "output_type": "display_data"
    }
   ],
   "source": [
    "# Heders of predictors of interest\n",
    "predictors = [\n",
    "    \"test_score\", \"ap\", \"avg_ap\", \"sat_subjects\", \n",
    "    \"gpa\", \"female\", \"minority\", \"international\",\n",
    "    \"sports\", \"harvard\", \"early_app\", \"alumni\"\n",
    "]\n",
    "# Plotting\n",
    "fig, axs = plt.subplots(nrows=4, ncols=3, figsize=(12,10))\n",
    "axs = axs.ravel()\n",
    "\n",
    "for i, p in enumerate(predictors):\n",
    "    axs[i].plot(college_train[p], college_train['admitted'], 'o', markersize=2,color=\"#011DAD\",label=\"Data\")\n",
    "    # Make a plot of the response (insuranceclaim) vs the predictor (age)\n",
    "    axs[i].set_xlabel(p)\n",
    "    axs[i].set_ylabel('Admitted (Yes = 1, No = 0)')\n",
    "    axs[i].set_title(f'Plot of {str(p)} against Admitted')\n",
    "    axs[i].set_yticks((0,1), labels=('No', 'Yes'))\n",
    "\n",
    "fig.tight_layout() # Or equivalently,  \"plt.tight_layout()\""
   ]
  },
  {
   "cell_type": "code",
   "execution_count": 445,
   "metadata": {
    "deletable": false,
    "editable": false
   },
   "outputs": [
    {
     "data": {
      "text/html": [
       "<p><strong><pre style='display: inline;'>q1.2</pre></strong> passed! 🙌</p>"
      ],
      "text/plain": [
       "q1.2 results: All test cases passed!"
      ]
     },
     "execution_count": 445,
     "metadata": {},
     "output_type": "execute_result"
    }
   ],
   "source": [
    "grader.check(\"q1.2\")"
   ]
  },
  {
   "cell_type": "markdown",
   "metadata": {
    "cell_id": "0a790850-87c6-4f46-b89e-048a2295c92b",
    "colab_type": "text",
    "id": "IGFtXJmQap2q"
   },
   "source": [
    "<!-- END QUESTION -->\n",
    "\n",
    "<!-- BEGIN QUESTION -->\n",
    "\n",
    "<div class='exercise-r'>\n",
    "\n",
    "**1.3** Based on the visuals above, which predictor seems to have the most potential for predicting `admitted`? Why do you think this it the best potential single predictor?\n",
    "    \n",
    "</div>\n",
    "\n",
    "_Points:_ 1.5"
   ]
  },
  {
   "cell_type": "markdown",
   "metadata": {},
   "source": [
    "Based on the visual, there are 3 predictors with continuous values potentially predicting admitted - test_score, avg_ap, and gpa. From these three with potential to plot a sigmoid line for logistic regression, test_score seems to be the best predictor as the plots have smaller variances. Admission == 1 clusters on right of the x-axis, and admission == 0 is more evenly scattered than the other 2 top potential predictors. In contrast, avg_ap and gpa have more outlier points, which is undesirable in choosing the best potential predictor. All the other 9 predictors might be unsuitable as the dotplots are separated at the 4 plot corners - which makes sense as they are binary, categorical, and ordinal variables."
   ]
  },
  {
   "cell_type": "markdown",
   "metadata": {
    "cell_id": "0a790850-87c6-4f46-b89e-048a2295c92b",
    "colab_type": "text",
    "id": "IGFtXJmQap2q"
   },
   "source": [
    "<!-- END QUESTION -->\n",
    "\n",
    "<!-- BEGIN QUESTION -->\n",
    "\n",
    "<div class='exercise-r'>\n",
    "    \n",
    "**Q1.4** Fit a logistic regression to predict `admitted` from `harvard` (call it `logit1_4`).  \n",
    "- Store the coefficient and intercept in `logit1_4_coef` and `logit1_4_intercept`. Interpret these values.\n",
    "- What are the estimated probabilities of getting into each school? Store these in `p_harvard` and `p_yale`. Which school is easier to get into according to this model?\n",
    "\n",
    "**IMPORTANT:** Remember, all models in this assignment should be **unregularized** unless you are specifically asked to use regularization for a particular model.\n",
    "</div>\n",
    "\n",
    "_Points:_ 2"
   ]
  },
  {
   "cell_type": "markdown",
   "metadata": {},
   "source": [
    "According to this model, Harvard is easier to get into, with a higher probability than into Yale (`p_harvard` > `p_yale`). To support this, if harvard = 1 and yale = 0, then application to harvard (X == 1) is associated with a e^(B1)) = e^0.1532 = 1.1655 times the odds of admission than applying to Yale."
   ]
  },
  {
   "cell_type": "code",
   "execution_count": 446,
   "metadata": {
    "tags": []
   },
   "outputs": [
    {
     "name": "stderr",
     "output_type": "stream",
     "text": [
      "c:\\Users\\sykri\\anaconda3\\envs\\cs109a\\lib\\site-packages\\sklearn\\base.py:450: UserWarning: X does not have valid feature names, but LogisticRegression was fitted with feature names\n",
      "  warnings.warn(\n",
      "c:\\Users\\sykri\\anaconda3\\envs\\cs109a\\lib\\site-packages\\sklearn\\base.py:450: UserWarning: X does not have valid feature names, but LogisticRegression was fitted with feature names\n",
      "  warnings.warn(\n"
     ]
    }
   ],
   "source": [
    "# your code here\n",
    "x_train = college_train[['harvard']]\n",
    "y_train = college_train['admitted']\n",
    "\n",
    "# Fit logistic regression model without regularization\n",
    "logit1_4 = LogisticRegression(penalty='none', max_iter = 1000).fit(x_train, y_train)\n",
    "\n",
    "# Identify and report coefficients\n",
    "logit1_4_coef = logit1_4.coef_[0][0]\n",
    "logit1_4_intercept = logit1_4.intercept_[0]\n",
    "# Calculate and report probabilities\n",
    "p_harvard = logit1_4.predict_proba([[1]])[0][1]\n",
    "p_yale = logit1_4.predict_proba([[0]])[0][1]"
   ]
  },
  {
   "cell_type": "code",
   "execution_count": 447,
   "metadata": {},
   "outputs": [
    {
     "name": "stdout",
     "output_type": "stream",
     "text": [
      "If harvard = 1 and yale = 0, then there is a e^(-(B0+B1)) = e^0.1532 = 1.1655 times the odds of admission into harvard\n"
     ]
    }
   ],
   "source": [
    "odds = np.exp((logit1_4_coef))\n",
    "print(f\"If harvard = 1 and yale = 0, then there is a e^(-(B0+B1)) = e^{(logit1_4_coef):.4f} = {odds:.4f} times the odds of admission into harvard\")"
   ]
  },
  {
   "cell_type": "code",
   "execution_count": 448,
   "metadata": {},
   "outputs": [
    {
     "name": "stdout",
     "output_type": "stream",
     "text": [
      "The coefficient for the 'logit1_4' model's only predictor 'harvard' is 0.1532 and the intercept is -1.1137\n",
      "\n",
      "Estimated probability of acceptance for Harvard: 0.2768\n",
      "Estimated probability of acceptance for Yale: 0.2472\n"
     ]
    }
   ],
   "source": [
    "print(\n",
    "    \"The coefficient for the 'logit1_4' model's only predictor 'harvard' \"\n",
    "    \"is {:.4f} and the intercept is {:.4f}\\n\".format(\n",
    "        logit1_4_coef, logit1_4_intercept\n",
    "    )\n",
    ")\n",
    "\n",
    "print(\n",
    "    \"Estimated probability of acceptance for Harvard: {:.4f}\"\n",
    "    .format(p_harvard)\n",
    ")\n",
    "print(\n",
    "    \"Estimated probability of acceptance for Yale: {:.4f}\"\n",
    "    .format(p_yale)\n",
    ")"
   ]
  },
  {
   "cell_type": "code",
   "execution_count": 449,
   "metadata": {
    "deletable": false,
    "editable": false
   },
   "outputs": [
    {
     "data": {
      "text/html": [
       "<p><strong><pre style='display: inline;'>q1.4</pre></strong> passed! 🍀</p>"
      ],
      "text/plain": [
       "q1.4 results: All test cases passed!"
      ]
     },
     "execution_count": 449,
     "metadata": {},
     "output_type": "execute_result"
    }
   ],
   "source": [
    "grader.check(\"q1.4\")"
   ]
  },
  {
   "cell_type": "markdown",
   "metadata": {
    "cell_id": "0a790850-87c6-4f46-b89e-048a2295c92b",
    "colab_type": "text",
    "id": "IGFtXJmQap2q"
   },
   "source": [
    "<!-- END QUESTION -->\n",
    "\n",
    "<!-- BEGIN QUESTION -->\n",
    "\n",
    "<div class='exercise-r'>\n",
    "\n",
    "**Q1.5** Create and display a [contingency table](https://en.wikipedia.org/wiki/Contingency_table) between `admitted` and `harvard`.  Use this table to calculate and confirm the coefficient estimates in the `logit1_4` model (both the intercept and slope). Show this calculation using $\\LaTeX$ in a markdown cell.\n",
    "    \n",
    "**Hint:** The Pandas [crosstab](https://pandas.pydata.org/pandas-docs/stable/reference/api/pandas.crosstab.html) method may be helpful here.\n",
    "\n",
    "</div>\n",
    "\n",
    "_Points:_ 3"
   ]
  },
  {
   "cell_type": "markdown",
   "metadata": {},
   "source": [
    "First, we calculate probabilities with `logit1_4`'s coefficients.\n",
    "\n",
    "Let $z = \\beta_0 + \\beta_1 x_1 + \\dots +\\beta_p x_p$\n",
    "\n",
    "where $\\beta_0 = -1.1137$\n",
    "\n",
    "and $\\beta_1 = 0.1532$\n",
    "\n",
    "Our logistic regression formula is: \n",
    "\n",
    "$$\\hat{p}= \\dfrac{e^{z}}{1+e^{z}}$$\n",
    "\n",
    "This is equivalent to: \n",
    "\n",
    "$$\\hat{p}= \\dfrac{1}{1+e^{-z}}$$\n",
    "\n",
    "$z = -1.1137 + 0.1532*X_1$\n",
    "\n",
    "$X_1 = [harvard]$\n",
    "\n",
    "With final formula:\n",
    "\n",
    "$$\\hat{p}= \\dfrac{1}{1+e^{-(-1.1137 + 0.1532*[harvard] )}}$$\n",
    "\n",
    "if $[harvard] = 1$\n",
    "\n",
    "$$\\hat{p}=0.2768$$\n",
    "\n",
    "if $[harvard] = 0$\n",
    "\n",
    "$$\\hat{p}=0.2472$$\n",
    "\n",
    "This is supported by the contingency table:\n",
    "\n",
    "\\begin{array}{c:ccccccc}\n",
    "Admitted/Harvard & Not-Admitted & Admitted \\\\ \\hline\n",
    "Yale & 536 & 176 \\\\\n",
    "Harvard & 567 & 217 \\\\ \n",
    "\n",
    "\\end {array}\n",
    "\n",
    "where,\n",
    "\n",
    "$$\\dfrac{Admitted\\ to\\ School}{(Admitted\\ to\\ School\\ + Not\\ Admitted\\ to\\ School)}$$\n",
    "\n",
    "With probabilities of admission into each school calculated as:\n",
    "\n",
    "Harvard \n",
    "\n",
    "$p[harvard] = 217/(217+567) = 0.2768$\n",
    "\n",
    "Yale\n",
    "\n",
    "$p[yale] = 176/(176+536) = 0.2472$\n",
    "\n",
    "We can conclude that contiungency table calculations are similar to regression formula output."
   ]
  },
  {
   "cell_type": "code",
   "execution_count": 450,
   "metadata": {
    "tags": []
   },
   "outputs": [
    {
     "data": {
      "text/html": [
       "<div>\n",
       "<style scoped>\n",
       "    .dataframe tbody tr th:only-of-type {\n",
       "        vertical-align: middle;\n",
       "    }\n",
       "\n",
       "    .dataframe tbody tr th {\n",
       "        vertical-align: top;\n",
       "    }\n",
       "\n",
       "    .dataframe thead th {\n",
       "        text-align: right;\n",
       "    }\n",
       "</style>\n",
       "<table border=\"1\" class=\"dataframe\">\n",
       "  <thead>\n",
       "    <tr style=\"text-align: right;\">\n",
       "      <th>admitted</th>\n",
       "      <th>0</th>\n",
       "      <th>1</th>\n",
       "    </tr>\n",
       "    <tr>\n",
       "      <th>harvard</th>\n",
       "      <th></th>\n",
       "      <th></th>\n",
       "    </tr>\n",
       "  </thead>\n",
       "  <tbody>\n",
       "    <tr>\n",
       "      <th>0</th>\n",
       "      <td>536</td>\n",
       "      <td>176</td>\n",
       "    </tr>\n",
       "    <tr>\n",
       "      <th>1</th>\n",
       "      <td>567</td>\n",
       "      <td>217</td>\n",
       "    </tr>\n",
       "  </tbody>\n",
       "</table>\n",
       "</div>"
      ],
      "text/plain": [
       "admitted    0    1\n",
       "harvard           \n",
       "0         536  176\n",
       "1         567  217"
      ]
     },
     "execution_count": 450,
     "metadata": {},
     "output_type": "execute_result"
    }
   ],
   "source": [
    "# your code here\n",
    "pd.crosstab(college_train['harvard'], college_train['admitted'])"
   ]
  },
  {
   "cell_type": "markdown",
   "metadata": {
    "cell_id": "0a790850-87c6-4f46-b89e-048a2295c92b",
    "colab_type": "text",
    "id": "IGFtXJmQap2q"
   },
   "source": [
    "<!-- END QUESTION -->\n",
    "\n",
    "<!-- BEGIN QUESTION -->\n",
    "\n",
    "<div class='exercise-r'>\n",
    "\n",
    "**Q1.6** Compare the estimated probabilities of being admitted into the schools to the overall acceptance rate (as seen [here](https://www.ivycoach.com/2023-ivy-league-admissions-statistics/)).  Why may what you've observed in this comparison be the case?\n",
    "    \n",
    "</div>\n",
    "\n",
    "_Points:_ 2"
   ]
  },
  {
   "cell_type": "markdown",
   "metadata": {},
   "source": [
    "The overall acceptance rate is much much lower for both Harvard and Yale, at around 4.5% and 5.9%, respectively. In fact, unlike our calculations, Harvard is actually HARDER to get into than Yale. Our calculations of ~27% and ~24% is grossly inaccurate."
   ]
  },
  {
   "cell_type": "markdown",
   "metadata": {},
   "source": [
    "<!-- END QUESTION -->\n",
    "\n",
    "---"
   ]
  },
  {
   "cell_type": "markdown",
   "metadata": {},
   "source": [
    "<a id=\"part2\"></a>\n",
    "\n",
    "## <div class='exercise'>Question 2: Interpretable modeling [18 pts]</div>\n",
    "\n",
    "[Return to contents](#contents)"
   ]
  },
  {
   "cell_type": "markdown",
   "metadata": {
    "cell_id": "0a790850-87c6-4f46-b89e-048a2295c92b",
    "colab_type": "text",
    "id": "IGFtXJmQap2q"
   },
   "source": [
    "<div class='exercise-r'>\n",
    "\n",
    "**Q2.1** \n",
    "    \n",
    "- Fit a logistic regression model to predict `admitted` from `test_score` alone. Call it `logit2_1`.\n",
    "- Store the learned parameters in `logit2_1_beta0` and `logit2_1_beta1`. \n",
    "- Store the train and test classification accuracies for this model in `acc_train_logit2_1` and `acc_test_logit2_1`.\n",
    "    \n",
    "</div>\n",
    "\n",
    "_Points:_ 3"
   ]
  },
  {
   "cell_type": "code",
   "execution_count": 451,
   "metadata": {
    "tags": []
   },
   "outputs": [],
   "source": [
    "# your code here\n",
    "x_train = college_train[['test_score']]\n",
    "x_test = college_test[['test_score']]\n",
    "y_train = college_train['admitted']\n",
    "y_test = college_test['admitted']\n",
    "\n",
    "logit2_1 = LogisticRegression(penalty='none', max_iter = 1000).fit(x_train, y_train)\n",
    "\n",
    "y_pred_train = logit2_1.predict(x_train)\n",
    "y_pred_test = logit2_1.predict(x_test)\n",
    "\n",
    "logit2_1_beta0 = logit2_1.intercept_[0]\n",
    "logit2_1_beta1 = logit2_1.coef_[0][0]\n",
    "\n",
    "\n",
    "acc_train_logit2_1 = accuracy_score(y_train, y_pred_train)\n",
    "acc_test_logit2_1 = accuracy_score(y_test, y_pred_test)"
   ]
  },
  {
   "cell_type": "code",
   "execution_count": 452,
   "metadata": {},
   "outputs": [],
   "source": [
    "logit2_1_intercept, logit2_1_coef_test = logit2_1_beta0, logit2_1_beta1"
   ]
  },
  {
   "cell_type": "code",
   "execution_count": 453,
   "metadata": {},
   "outputs": [
    {
     "name": "stdout",
     "output_type": "stream",
     "text": [
      "The intercept and coefficient for the 'logit2_1' model are:\n",
      "\tintercept           -9.4136\n",
      "\ttest                0.0038\n",
      "\n",
      "The classification accuracies for 'logit2_1' are:\n",
      "\n",
      "\tTrain\t0.7373\n",
      "\tTEST\t0.7013\n"
     ]
    }
   ],
   "source": [
    "print(\"The intercept and coefficient for the 'logit2_1' model are:\")\n",
    "\n",
    "print(\"\\t{:<20}{:.4f}\".format('intercept', logit2_1_intercept))\n",
    "print(\"\\t{:<20}{:.4f}\".format('test', logit2_1_coef_test))\n",
    "\n",
    "print(\n",
    "    \"\\nThe classification accuracies for 'logit2_1' are:\"\n",
    "    \"\\n\\n\\tTrain\\t{:.4f}\\n\\tTEST\\t{:.4f}\".format(\n",
    "        acc_train_logit2_1, acc_test_logit2_1\n",
    "    )\n",
    ")\n",
    "# END SOLUTION"
   ]
  },
  {
   "cell_type": "code",
   "execution_count": 454,
   "metadata": {
    "deletable": false,
    "editable": false
   },
   "outputs": [
    {
     "data": {
      "text/html": [
       "<p><strong><pre style='display: inline;'>q2.1</pre></strong> passed! 🌈</p>"
      ],
      "text/plain": [
       "q2.1 results: All test cases passed!"
      ]
     },
     "execution_count": 454,
     "metadata": {},
     "output_type": "execute_result"
    }
   ],
   "source": [
    "grader.check(\"q2.1\")"
   ]
  },
  {
   "cell_type": "markdown",
   "metadata": {
    "cell_id": "0a790850-87c6-4f46-b89e-048a2295c92b",
    "colab_type": "text",
    "id": "IGFtXJmQap2q"
   },
   "source": [
    "<div class='exercise-r'>\n",
    "\n",
    "**Q2.2**\n",
    "    \n",
    "- What is the estimated probability of an applicant being admitted with an *average* `test` score of 2250? Store this in `prop_test_2250`.\n",
    "- What about if they had a perfect test score of 2400? Store this in `prop_test_2400`.\n",
    "- What test score would be needed to have a 50-50 chance (i.e. 0.5 probability) of being admitted? Store this in `test_50_50`.\n",
    "    \n",
    "</div>\n",
    "\n",
    "_Points:_ 4"
   ]
  },
  {
   "cell_type": "markdown",
   "metadata": {},
   "source": [
    "The logit2_1 model can be used to predict the p(admission) for various test scores. An average test score of 2250 leads to a ~29.3% probability of admission, whereas a perfect test score of 2400 increases the probability to ~42.3%. The score where there'd be a 50-50 chance is predicted to be 2482, which is unrealistic, as the max for `test_score` is 2400."
   ]
  },
  {
   "cell_type": "code",
   "execution_count": 455,
   "metadata": {
    "tags": []
   },
   "outputs": [
    {
     "name": "stderr",
     "output_type": "stream",
     "text": [
      "c:\\Users\\sykri\\anaconda3\\envs\\cs109a\\lib\\site-packages\\sklearn\\base.py:450: UserWarning: X does not have valid feature names, but LogisticRegression was fitted with feature names\n",
      "  warnings.warn(\n",
      "c:\\Users\\sykri\\anaconda3\\envs\\cs109a\\lib\\site-packages\\sklearn\\base.py:450: UserWarning: X does not have valid feature names, but LogisticRegression was fitted with feature names\n",
      "  warnings.warn(\n"
     ]
    }
   ],
   "source": [
    "# your code here\n",
    "prob_test_2250 = logit2_1.predict_proba([[2250]])[0][1]\n",
    "prob_test_2400 = logit2_1.predict_proba([[2400]])[0][1]\n",
    "\n",
    "test_50_50 = (np.log(0.5/0.5) - logit2_1_intercept)/logit2_1_coef_test"
   ]
  },
  {
   "cell_type": "code",
   "execution_count": 456,
   "metadata": {},
   "outputs": [
    {
     "name": "stdout",
     "output_type": "stream",
     "text": [
      "The estimated chances of an applicant being admitted with the following two 'test' scores:\n",
      "\n",
      "\tscore\tprobabilities\n",
      "\t2250\t0.2929\n",
      "\t2400\t0.4226\n",
      "\n",
      "The test score required to have a 50-50 chance of being admitted is approximately:\n",
      "\n",
      "\t2482.34\n"
     ]
    }
   ],
   "source": [
    "# your code here\n",
    "print(\n",
    "    \"The estimated chances of an applicant being admitted with \"\n",
    "    \"the following two 'test' scores:\\n\\n\\tscore\\tprobabilities\"\n",
    "    \"\\n\\t2250\\t{:.4f}\\n\\t2400\\t{:.4f}\\n\"\n",
    "    .format(prob_test_2250, prob_test_2400)\n",
    ")\n",
    "\n",
    "print(\n",
    "    \"The test score required to have a 50-50 chance of being \"\n",
    "    \"admitted is approximately:\\n\\n\\t{:.2f}\"\n",
    "    .format(test_50_50)\n",
    ")\n",
    "# END SOLUTION"
   ]
  },
  {
   "cell_type": "code",
   "execution_count": 457,
   "metadata": {
    "deletable": false,
    "editable": false
   },
   "outputs": [
    {
     "data": {
      "text/html": [
       "<p><strong><pre style='display: inline;'>q2.2</pre></strong> passed! 🚀</p>"
      ],
      "text/plain": [
       "q2.2 results: All test cases passed!"
      ]
     },
     "execution_count": 457,
     "metadata": {},
     "output_type": "execute_result"
    }
   ],
   "source": [
    "grader.check(\"q2.2\")"
   ]
  },
  {
   "cell_type": "markdown",
   "metadata": {
    "cell_id": "0a790850-87c6-4f46-b89e-048a2295c92b",
    "colab_type": "text",
    "id": "IGFtXJmQap2q"
   },
   "source": [
    "<div class='exercise-r'>\n",
    "\n",
    "**Q2.3** Fit a logistic regression model to predict `admitted` from `test_score` and `avg_ap` (call it `logit2_3`).  Print out the coefficient estimates along with the classification accuracies for this model (on both train and test data).\n",
    "    \n",
    "</div>\n",
    "\n",
    "_Points:_ 3"
   ]
  },
  {
   "cell_type": "code",
   "execution_count": 458,
   "metadata": {
    "tags": []
   },
   "outputs": [],
   "source": [
    "# your code here\n",
    "\n",
    "x_train = college_train[[\"test_score\", \"avg_ap\"]]\n",
    "x_test = college_test[[\"test_score\", \"avg_ap\"]]\n",
    "y_train = college_train['admitted']\n",
    "y_test = college_test['admitted']\n",
    "\n",
    "logit2_3 = LogisticRegression(penalty='none', max_iter = 1000).fit(x_train, y_train)\n",
    "\n",
    "logit2_3_coef_test = logit2_3.coef_[0][0]\n",
    "logit2_3_coef_avg_ap = logit2_3.coef_[0][1]\n",
    "logit2_3_intercept = logit2_3.intercept_[0]\n",
    "\n",
    "y_pred_train = logit2_3.predict(x_train)\n",
    "y_pred_test = logit2_3.predict(x_test)\n",
    "\n",
    "acc_train_logit2_3 = accuracy_score(y_train, y_pred_train)\n",
    "acc_test_logit2_3 = accuracy_score(y_test, y_pred_test)"
   ]
  },
  {
   "cell_type": "code",
   "execution_count": 459,
   "metadata": {},
   "outputs": [
    {
     "name": "stdout",
     "output_type": "stream",
     "text": [
      "The intercept and coefficients for the 'logit2_3' model are:\n",
      "\tintercept           -0.0188\n",
      "\ttest                -0.0005\n",
      "\tavg_ap              0.0533\n",
      "\n",
      "The classification accuracies for 'logit2_3' are:\n",
      "\n",
      "\tTrain\t0.7373\n",
      "\tTEST\t0.7013\n"
     ]
    }
   ],
   "source": [
    "# Print the parameters of logit2_3\n",
    "print(\"The intercept and coefficients for the 'logit2_3' model are:\")\n",
    "print(\"\\t{:<20}{:.4f}\".format('intercept', logit2_3_intercept))\n",
    "print(\"\\t{:<20}{:.4f}\".format('test', logit2_3_coef_test))\n",
    "print(\"\\t{:<20}{:.4f}\".format('avg_ap', logit2_3_coef_avg_ap))\n",
    "\n",
    "print(\n",
    "    \"\\nThe classification accuracies for 'logit2_3' are:\\n\\n\\tTrain\\t{:.4f}\\n\\tTEST\\t{:.4f}\"\n",
    "    .format(acc_train_logit2_3, acc_test_logit2_3)\n",
    ")"
   ]
  },
  {
   "cell_type": "code",
   "execution_count": 460,
   "metadata": {
    "deletable": false,
    "editable": false
   },
   "outputs": [
    {
     "data": {
      "text/html": [
       "<p><strong><pre style='display: inline;'>q2.3</pre></strong> passed! 🚀</p>"
      ],
      "text/plain": [
       "q2.3 results: All test cases passed!"
      ]
     },
     "execution_count": 460,
     "metadata": {},
     "output_type": "execute_result"
    }
   ],
   "source": [
    "grader.check(\"q2.3\")"
   ]
  },
  {
   "cell_type": "markdown",
   "metadata": {
    "cell_id": "0a790850-87c6-4f46-b89e-048a2295c92b",
    "colab_type": "text",
    "id": "IGFtXJmQap2q"
   },
   "source": [
    "<!-- BEGIN QUESTION -->\n",
    "\n",
    "<div class='exercise-r'>\n",
    "\n",
    "**Q2.4** Interpret the coefficient estimates for both predictors in `logit2_3` and compare the coefficient estimate for `test_score` to the one from `logit2_1`.  Why has this estimate changed?\n",
    "\n",
    "You should inspect the relationship between `test_score` and `avg_ap` to help get a better sense for what might be happening here.\n",
    "\n",
    "</div>\n",
    "\n",
    "_Points:_ 4"
   ]
  },
  {
   "cell_type": "code",
   "execution_count": 461,
   "metadata": {},
   "outputs": [
    {
     "name": "stdout",
     "output_type": "stream",
     "text": [
      "The intercept and coefficient for the 'logit2_1' model are:\n",
      "\tintercept           -9.4136\n",
      "\ttest_score          0.0038\n",
      "The intercept and coefficients for the 'logit2_3' model are:\n",
      "\tintercept           -0.0188\n",
      "\ttest_score          -0.0005\n",
      "\tavg_ap              0.0533\n"
     ]
    }
   ],
   "source": [
    "# Print the parameters of the last 2 models\n",
    "print(\"The intercept and coefficient for the 'logit2_1' model are:\")\n",
    "\n",
    "print(\"\\t{:<20}{:.4f}\".format('intercept', logit2_1_intercept))\n",
    "print(\"\\t{:<20}{:.4f}\".format('test_score', logit2_1_coef_test))\n",
    "\n",
    "print(\"The intercept and coefficients for the 'logit2_3' model are:\")\n",
    "print(\"\\t{:<20}{:.4f}\".format('intercept', logit2_3_intercept))\n",
    "print(\"\\t{:<20}{:.4f}\".format('test_score', logit2_3_coef_test))\n",
    "print(\"\\t{:<20}{:.4f}\".format('avg_ap', logit2_3_coef_avg_ap))"
   ]
  },
  {
   "cell_type": "markdown",
   "metadata": {},
   "source": [
    "In `logit2_1`, a one unit change in test_score is associated with an e^0.0038 change in the odds of admission. However, this is quite a weak correlation as it is close to 0.\n",
    "\n",
    "For `logit2_3`, the `test score` coefficient is flipped to negative, and becomes further non-significant. While a one unit increase in `avg_ap` is associated with an e^0.0533 increase in the odds of admission. `avg_ap` seems to be a better predictor of admission than `test_score`.\n",
    "\n",
    "However, the caveat of `logit2_3`, is that plot Q2.4 below shows a slight positive relationship between `avg_ap` and `test_score` when `avg_ap` != 0/ This is supported by a correlation score of 0.376 between `avg_ap` and `test_score`. It seems like students who take more ap classes have higher test_scores."
   ]
  },
  {
   "cell_type": "code",
   "execution_count": 462,
   "metadata": {},
   "outputs": [
    {
     "data": {
      "text/html": [
       "<div>\n",
       "<style scoped>\n",
       "    .dataframe tbody tr th:only-of-type {\n",
       "        vertical-align: middle;\n",
       "    }\n",
       "\n",
       "    .dataframe tbody tr th {\n",
       "        vertical-align: top;\n",
       "    }\n",
       "\n",
       "    .dataframe thead th {\n",
       "        text-align: right;\n",
       "    }\n",
       "</style>\n",
       "<table border=\"1\" class=\"dataframe\">\n",
       "  <thead>\n",
       "    <tr style=\"text-align: right;\">\n",
       "      <th></th>\n",
       "      <th>test_score</th>\n",
       "      <th>avg_ap</th>\n",
       "    </tr>\n",
       "  </thead>\n",
       "  <tbody>\n",
       "    <tr>\n",
       "      <th>test_score</th>\n",
       "      <td>1.000</td>\n",
       "      <td>0.376</td>\n",
       "    </tr>\n",
       "    <tr>\n",
       "      <th>avg_ap</th>\n",
       "      <td>0.376</td>\n",
       "      <td>1.000</td>\n",
       "    </tr>\n",
       "  </tbody>\n",
       "</table>\n",
       "</div>"
      ],
      "text/plain": [
       "            test_score  avg_ap\n",
       "test_score       1.000   0.376\n",
       "avg_ap           0.376   1.000"
      ]
     },
     "execution_count": 462,
     "metadata": {},
     "output_type": "execute_result"
    }
   ],
   "source": [
    "college_train[[\"test_score\", \"avg_ap\"]].corr()"
   ]
  },
  {
   "cell_type": "code",
   "execution_count": 463,
   "metadata": {
    "tags": []
   },
   "outputs": [
    {
     "data": {
      "image/png": "[encoded data removed]",
      "text/plain": [
       "<Figure size 1200x800 with 1 Axes>"
      ]
     },
     "metadata": {},
     "output_type": "display_data"
    }
   ],
   "source": [
    "plt.figure(figsize=(12,8))\n",
    "\n",
    "# plot train and testing data\n",
    "plt.scatter(college['test_score'], college['avg_ap'], alpha=0.45, label='train')\n",
    "\n",
    "# plt.scatter(x_test, y_test_pred, alpha=0.35, label='test_predicted')\n",
    "plt.xlabel('test_score')\n",
    "plt.ylabel('avg_ap')\n",
    "plt.title(f'Q2.4: Plotting test_score vs avg_ap')\n",
    "plt.legend()\n",
    "plt.grid()\n",
    "plt.show()"
   ]
  },
  {
   "cell_type": "markdown",
   "metadata": {
    "cell_id": "0a790850-87c6-4f46-b89e-048a2295c92b",
    "colab_type": "text",
    "id": "IGFtXJmQap2q"
   },
   "source": [
    "<!-- END QUESTION -->\n",
    "\n",
    "<!-- BEGIN QUESTION -->\n",
    "\n",
    "<div class='exercise-r'>\n",
    "\n",
    "**Q2.5** Interpret and compare the classification accuracies for the two models, `logit2_1` and `logit2_3`.  Explain why these accuracies are the same or different, and what about the data makes these accuracies so similar or different.\n",
    "\n",
    "</div>\n",
    "\n",
    "_Points:_ 4"
   ]
  },
  {
   "cell_type": "code",
   "execution_count": 464,
   "metadata": {},
   "outputs": [
    {
     "name": "stdout",
     "output_type": "stream",
     "text": [
      "\n",
      "The classification accuracies for 'logit2_1' are:\n",
      "\n",
      "\tTrain\t0.7373\n",
      "\tTEST\t0.7013\n",
      "\n",
      "The classification accuracies for 'logit2_3' are:\n",
      "\n",
      "\tTrain\t0.7373\n",
      "\tTEST\t0.7013\n"
     ]
    }
   ],
   "source": [
    "# Display accuracies of last 2 models\n",
    "print(\n",
    "    \"\\nThe classification accuracies for 'logit2_1' are:\\n\\n\\tTrain\\t{:.4f}\\n\\tTEST\\t{:.4f}\"\n",
    "    .format(acc_train_logit2_1, acc_test_logit2_1)\n",
    ")\n",
    "print(\n",
    "    \"\\nThe classification accuracies for 'logit2_3' are:\\n\\n\\tTrain\\t{:.4f}\\n\\tTEST\\t{:.4f}\"\n",
    "    .format(acc_train_logit2_3, acc_test_logit2_3)\n",
    ")"
   ]
  },
  {
   "cell_type": "markdown",
   "metadata": {},
   "source": [
    "Despite the diffrences in number of predictors, both accuracies for `logit2_1` and `logit2_3` are similar! They are similar since the additional variable avg_ap did not add predictive value to the model, due to the possible multiocollinearity between avg_ap and test_scores. Additionally, the training accuracies are higher than test, suggesting that the model does not generalize that well.\n",
    "\n",
    "These similar accuracies are suspicious, and could also be explained by the majority of the points >73% classified as not-admitted. This data bias can affect model accuracies, leading to similar accuracies by chance."
   ]
  },
  {
   "cell_type": "markdown",
   "metadata": {},
   "source": [
    "<!-- END QUESTION -->\n",
    "\n",
    "---"
   ]
  },
  {
   "cell_type": "markdown",
   "metadata": {},
   "source": [
    "<a id=\"part3\"></a>\n",
    "\n",
    "## <div class='exercise'>Question 3: Harvard and Yale? [30 pts]</div>\n",
    "\n",
    "[Return to contents](#contents)"
   ]
  },
  {
   "cell_type": "markdown",
   "metadata": {
    "cell_id": "0a790850-87c6-4f46-b89e-048a2295c92b",
    "colab_type": "text",
    "id": "IGFtXJmQap2q"
   },
   "source": [
    "<!-- BEGIN QUESTION -->\n",
    "\n",
    "<div class='exercise-r'>\n",
    "\n",
    "**Q3.1**\n",
    "- Fit a logistic regression model (call it `logit3_1`) to predict `admitted` from 7 predictors: `[\"harvard\", \"test_score\", \"ap\", \"avg_ap\", \"gpa\", \"female\", \"minority\"]`.\n",
    "- Store the train and test accuracies in `acc_train_logit3_1` and `acc_test_logit3_1`.\n",
    "- Use the code provided to output the coefficient estimates. Interpret the coefficients for the binary predictors in this model.\n",
    "\n",
    "**HINT:** If you have convergence warnings, increasing the maximum number of iterations will likely solve this issue.\n",
    "    \n",
    "</div>\n",
    "\n",
    "_Points:_ 4"
   ]
  },
  {
   "cell_type": "code",
   "execution_count": 465,
   "metadata": {},
   "outputs": [],
   "source": [
    "# Print statements below assume predictors used in this order\n",
    "logit3_1_predictors = [\"harvard\", \"test_score\", \"ap\", \"avg_ap\", \"gpa\", \"female\", \"minority\"]"
   ]
  },
  {
   "cell_type": "markdown",
   "metadata": {},
   "source": [
    "Interpretations for the following binary predictors are:\n",
    "- Applying to Harvard (`harvard` = 1) is associated with an e^0.06 change in the odds of admission into Harvard, while controlling other confounders (predictors)\n",
    "- Females (`female` = 1) are associated with an e^0.0476 change in the odds of admission into Harvard, while controlling other confounders (predictors)\n",
    "- Minorities (`minority` = 1) are associated with an e^0.6372 change in the odds of admission into Harvard, while controlling other confounders (predictors)"
   ]
  },
  {
   "cell_type": "code",
   "execution_count": 466,
   "metadata": {
    "scrolled": true,
    "tags": []
   },
   "outputs": [],
   "source": [
    "# your code here\n",
    "x_train = college_train[logit3_1_predictors]\n",
    "x_test = college_test[logit3_1_predictors]\n",
    "y_train = college_train['admitted']\n",
    "y_test = college_test['admitted']\n",
    "\n",
    "logit3_1 = LogisticRegression(penalty='none', max_iter = 1000).fit(x_train, y_train)\n",
    "\n",
    "y_pred_train = logit3_1.predict(x_train)\n",
    "y_pred_test = logit3_1.predict(x_test)\n",
    "\n",
    "acc_train_logit3_1 = accuracy_score(y_train, y_pred_train)\n",
    "acc_test_logit3_1 = accuracy_score(y_test, y_pred_test)"
   ]
  },
  {
   "cell_type": "code",
   "execution_count": 467,
   "metadata": {
    "scrolled": true,
    "tags": []
   },
   "outputs": [
    {
     "name": "stdout",
     "output_type": "stream",
     "text": [
      "The intercept and coefficients for the 'logit3_1' model are:\n",
      "\n",
      "\tintercept           -0.7303\n",
      "\tharvard             0.0600\n",
      "\ttest_score          0.0027\n",
      "\tap                  -0.0204\n",
      "\tavg_ap              0.0372\n",
      "\tgpa                 -1.6980\n",
      "\tfemale              0.0476\n",
      "\tminority            0.6372\n",
      "\n",
      "The classification accuracies for 'logit3_1' are:\n",
      "\n",
      "\tTrain\t0.7306\n",
      "\tTEST\t0.6987\n"
     ]
    }
   ],
   "source": [
    "# Grab model's intercept and coefs regardless of their shape\n",
    "# (which depends on how x and y were shaped)\n",
    "logit3_1_intercept = np.array(logit3_1.intercept_).flatten()[0]\n",
    "logit3_1_coefs = logit3_1.coef_.flatten()\n",
    "\n",
    "print(\n",
    "    \"The intercept and coefficients for the 'logit3_1' model are:\"\n",
    "    \"\\n\\n\\t{:<20}{:.4f}\".format(\n",
    "        \"intercept\", logit3_1_intercept\n",
    "    )\n",
    ")\n",
    "for predictor, coef in zip(logit3_1_predictors, logit3_1_coefs):\n",
    "    print(\"\\t{:<20}{:.4f}\".format(predictor, coef))\n",
    "\n",
    "print(\n",
    "    \"\\nThe classification accuracies for 'logit3_1' are:\"\n",
    "    \"\\n\\n\\tTrain\\t{:.4f}\\n\\tTEST\\t{:.4f}\"\n",
    "    .format(acc_train_logit3_1, acc_test_logit3_1)\n",
    ")"
   ]
  },
  {
   "cell_type": "code",
   "execution_count": 468,
   "metadata": {
    "deletable": false,
    "editable": false
   },
   "outputs": [
    {
     "data": {
      "text/html": [
       "<p><strong><pre style='display: inline;'>q3.1</pre></strong> passed! 💯</p>"
      ],
      "text/plain": [
       "q3.1 results: All test cases passed!"
      ]
     },
     "execution_count": 468,
     "metadata": {},
     "output_type": "execute_result"
    }
   ],
   "source": [
    "grader.check(\"q3.1\")"
   ]
  },
  {
   "cell_type": "markdown",
   "metadata": {
    "cell_id": "0a790850-87c6-4f46-b89e-048a2295c92b",
    "colab_type": "text",
    "id": "IGFtXJmQap2q"
   },
   "source": [
    "<!-- END QUESTION -->\n",
    "\n",
    "<div class='exercise-r'>\n",
    "\n",
    "**Q3.2** Fit a logistic regression model (call it `logit3_2`) to predict `admitted` from 3 predictors: `[\"harvard\", \"test_score\", \"ap\"]` along with the 2 interaction terms: `harvard` with `test_score` and `harvard` with `ap`. Name the columns for these interaction terms `harvard_test_score` and `harvard_ap`.\n",
    "\n",
    "</div>\n",
    "\n",
    "_Points:_ 3"
   ]
  },
  {
   "cell_type": "code",
   "execution_count": 469,
   "metadata": {},
   "outputs": [],
   "source": [
    "# Print statement below assumes this order of predictors\n",
    "logit3_2_predictors = [\"harvard\", \"test_score\", \"ap\", \"harvard_test_score\", \"harvard_ap\"]"
   ]
  },
  {
   "cell_type": "code",
   "execution_count": 470,
   "metadata": {
    "tags": []
   },
   "outputs": [
    {
     "name": "stderr",
     "output_type": "stream",
     "text": [
      "C:\\Users\\sykri\\AppData\\Local\\Temp\\ipykernel_6120\\690820655.py:8: SettingWithCopyWarning: \n",
      "A value is trying to be set on a copy of a slice from a DataFrame.\n",
      "Try using .loc[row_indexer,col_indexer] = value instead\n",
      "\n",
      "See the caveats in the documentation: https://pandas.pydata.org/pandas-docs/stable/user_guide/indexing.html#returning-a-view-versus-a-copy\n",
      "  df[\"harvard_test_score\"] = df[[\"harvard\", \"test_score\"]].apply(lambda x: x[\"harvard\"] * x[\"test_score\"], axis =1)\n",
      "C:\\Users\\sykri\\AppData\\Local\\Temp\\ipykernel_6120\\690820655.py:9: SettingWithCopyWarning: \n",
      "A value is trying to be set on a copy of a slice from a DataFrame.\n",
      "Try using .loc[row_indexer,col_indexer] = value instead\n",
      "\n",
      "See the caveats in the documentation: https://pandas.pydata.org/pandas-docs/stable/user_guide/indexing.html#returning-a-view-versus-a-copy\n",
      "  df[\"harvard_ap\"] = df[[\"harvard\", \"ap\"]].apply(lambda x: x[\"harvard\"] * x[\"ap\"], axis =1)\n",
      "C:\\Users\\sykri\\AppData\\Local\\Temp\\ipykernel_6120\\690820655.py:8: SettingWithCopyWarning: \n",
      "A value is trying to be set on a copy of a slice from a DataFrame.\n",
      "Try using .loc[row_indexer,col_indexer] = value instead\n",
      "\n",
      "See the caveats in the documentation: https://pandas.pydata.org/pandas-docs/stable/user_guide/indexing.html#returning-a-view-versus-a-copy\n",
      "  df[\"harvard_test_score\"] = df[[\"harvard\", \"test_score\"]].apply(lambda x: x[\"harvard\"] * x[\"test_score\"], axis =1)\n",
      "C:\\Users\\sykri\\AppData\\Local\\Temp\\ipykernel_6120\\690820655.py:9: SettingWithCopyWarning: \n",
      "A value is trying to be set on a copy of a slice from a DataFrame.\n",
      "Try using .loc[row_indexer,col_indexer] = value instead\n",
      "\n",
      "See the caveats in the documentation: https://pandas.pydata.org/pandas-docs/stable/user_guide/indexing.html#returning-a-view-versus-a-copy\n",
      "  df[\"harvard_ap\"] = df[[\"harvard\", \"ap\"]].apply(lambda x: x[\"harvard\"] * x[\"ap\"], axis =1)\n"
     ]
    }
   ],
   "source": [
    "# your code here\n",
    "x_train = college_train[[\"harvard\", \"test_score\", \"ap\"]]\n",
    "x_test = college_test[[\"harvard\", \"test_score\", \"ap\"]]\n",
    "y_train = college_train['admitted']\n",
    "y_test = college_test['admitted']\n",
    "\n",
    "for df in [x_train, x_test]:\n",
    "    df[\"harvard_test_score\"] = df[[\"harvard\", \"test_score\"]].apply(lambda x: x[\"harvard\"] * x[\"test_score\"], axis =1)\n",
    "    df[\"harvard_ap\"] = df[[\"harvard\", \"ap\"]].apply(lambda x: x[\"harvard\"] * x[\"ap\"], axis =1)\n",
    "\n",
    "logit3_2 = LogisticRegression(penalty='none', max_iter = 1000).fit(x_train, y_train)"
   ]
  },
  {
   "cell_type": "code",
   "execution_count": 471,
   "metadata": {
    "tags": []
   },
   "outputs": [
    {
     "name": "stdout",
     "output_type": "stream",
     "text": [
      "The intercept and coefficients for the 'logit3_2' model are:\n",
      "\n",
      "\tintercept           -7.1344\n",
      "\tharvard             -4.4410\n",
      "\ttest_score          0.0027\n",
      "\tap                  0.0240\n",
      "\tharvard_test_score  0.0022\n",
      "\tharvard_ap          -0.1101\n"
     ]
    }
   ],
   "source": [
    "# Display results\n",
    "logit3_2_intercept = np.array(logit3_2.intercept_).flatten()[0]\n",
    "logit3_2_coefs = logit3_2.coef_.flatten()\n",
    "\n",
    "print(\n",
    "    \"The intercept and coefficients for the 'logit3_2' model are:\"\n",
    "    \"\\n\\n\\t{:<20}{:.4f}\".format(\n",
    "        \"intercept\", logit3_2_intercept\n",
    "    )\n",
    ")\n",
    "\n",
    "for predictor, coef in zip(logit3_2_predictors, logit3_2_coefs):\n",
    "    print(\"\\t{:<20}{:.4f}\".format(predictor, coef))"
   ]
  },
  {
   "cell_type": "code",
   "execution_count": 472,
   "metadata": {
    "deletable": false,
    "editable": false
   },
   "outputs": [
    {
     "data": {
      "text/html": [
       "<p><strong><pre style='display: inline;'>q3.2</pre></strong> passed! 🌈</p>"
      ],
      "text/plain": [
       "q3.2 results: All test cases passed!"
      ]
     },
     "execution_count": 472,
     "metadata": {},
     "output_type": "execute_result"
    }
   ],
   "source": [
    "grader.check(\"q3.2\")"
   ]
  },
  {
   "cell_type": "markdown",
   "metadata": {
    "cell_id": "0a790850-87c6-4f46-b89e-048a2295c92b",
    "colab_type": "text",
    "id": "IGFtXJmQap2q"
   },
   "source": [
    "<!-- BEGIN QUESTION -->\n",
    "\n",
    "<div class='exercise-r'>\n",
    "\n",
    "**Q3.3** Simplify and write out mathematically the above model from Question 3.2 for 2 applicants: (1) someone who is applying to Harvard and for (2) someone who is applying to Yale (keep `test_score` and `ap` as the unknown $X$s).  The basic framework given to you below may be helpful:\n",
    "\n",
    "$$ \\ln \\left( \\frac{P(Y=1)}{1-P(Y=1)} \\right) = \\beta_0 + \\beta_1 X_1 + \\dots + \\beta_p X_p $$\n",
    "    \n",
    "**NOTE:** All of your mathematical statements should be written out in your markdown cells using $\\LaTeX$. Show all your steps, not just the final result.\n",
    "\n",
    "</div>\n",
    "\n",
    "_Points:_ 4"
   ]
  },
  {
   "cell_type": "markdown",
   "metadata": {},
   "source": [
    "Let \n",
    "\n",
    "$P(Y=1) = P[admitted]$\n",
    "\n",
    "$1 - P(Y=1) = P[not\\ admitted]$\n",
    "\n",
    "The logistic regression equation for `logit3_2` model is:\n",
    "\n",
    "$$ \\ln \\left( \\frac{P(admitted)}{P(not\\ admitted)} \\right) =\\ -7.1344 +\\ -4.4410 (X_1) +\\ 0.0027 (X_2) +\\ 0.0240 (X_3) +\\ 0.0022 (X_1)(X_2) +\\ -0.1101(X_1)(X_3) $$\n",
    "\n",
    "(1) Applying to Harvard $(X_1 = 1)$\n",
    "\n",
    "$$ \\ln \\left( \\frac{P(admitted)}{P(not\\ admitted)} \\right) =\\ -7.1344 +\\ -4.4410 (1) +\\ 0.0027 (X_2) +\\ 0.0240 (X_3) +\\ 0.0022 (1)(X_2) +\\ -0.1101(1)(X_3) $$\n",
    "\n",
    "$$ \\ln \\left( \\frac{P(admitted)}{P(not\\ admitted)} \\right) =\\ -11.5754 +\\ 0.0049 (X_2) +\\ -0.0861(X_3) $$\n",
    "\n",
    "(2) Applying to Yale $(X_1 = 0)$\n",
    "\n",
    "$$ \\ln \\left( \\frac{P(admitted)}{P(not\\ admitted)} \\right) =\\ -7.1344 +\\ -4.4410 (0) +\\ 0.0027 (X_2) +\\ 0.0240 (X_3) +\\ 0.0022 (0)(X_2) +\\ -0.1101(0)(X_3) $$\n",
    "\n",
    "$$ \\ln \\left( \\frac{P(admitted)}{P(not\\ admitted)} \\right) =\\ -7.1344 +\\ 0.0027 (X_2) +\\ 0.0240 (X_3) $$"
   ]
  },
  {
   "cell_type": "markdown",
   "metadata": {
    "cell_id": "0a790850-87c6-4f46-b89e-048a2295c92b",
    "colab_type": "text",
    "id": "IGFtXJmQap2q"
   },
   "source": [
    "<!-- END QUESTION -->\n",
    "\n",
    "<!-- BEGIN QUESTION -->\n",
    "\n",
    "<div class='exercise-r'>\n",
    "\n",
    "**Q3.4** Determine two classification boundaries mathematically for the model in the previous part (using the estimated coefficients): What range of values of `test_score` as a function of `ap` would an applicant be predicted to have a better than 50% chance (i.e. 0.5 probability) of being admitted into the college they applied to? \n",
    "\n",
    "Use the function for Harvard to answer the following question: if a student scored a perfect 2400 on `test_score`, what is the range of AP tests they should take in order to have a better than 50% chance of being admitted into Harvard?\n",
    "\n",
    "Again, you should show your work in $\\LaTeX$.\n",
    "</div>\n",
    "\n",
    "_Points:_ 5"
   ]
  },
  {
   "cell_type": "markdown",
   "metadata": {},
   "source": [
    "Our decision boundary is at where our algorithm hesitates when predicting which class to classify at\n",
    "\n",
    "$P(admitted) = P(not\\ admitted) = 0.5$\n",
    "\n",
    "Translating this into our previous model `logit3_2`'s equation:\n",
    "\n",
    "$$ \\ln \\left( \\frac{P(admitted)}{P(not\\ admitted)} \\right) =\\ -7.1344 +\\ -4.4410 (X_1) +\\ 0.0027 (X_2) +\\ 0.0240 (X_3) +\\ 0.0022 (X_1)(X_2) +\\ -0.1101(X_1)(X_3) $$\n",
    "\n",
    "$$ \\ln \\left( \\frac{0.5}{0.5} \\right) =\\ -7.1344 +\\ -4.4410 (X_1) +\\ 0.0027 (X_2) +\\ 0.0240 (X_3) +\\ 0.0022 (X_1)(X_2) +\\ -0.1101(X_1)(X_3) $$\n",
    "\n",
    "$$ \\ 0 =\\ -7.1344 +\\ -4.4410 (X_1) +\\ 0.0027 (X_2) +\\ 0.0240 (X_3) +\\ 0.0022 (X_1)(X_2) +\\ -0.1101(X_1)(X_3) $$\n",
    "\n",
    "Therefore, say a person applied to Harvard $(X_1 = 1)$\n",
    "\n",
    "$$ \\ 0 =\\ -11.5754 +\\ 0.0049 (X_2) +\\ -0.0861(X_3) $$\n",
    "\n",
    "Solving for `test_score` $(X_2)$\n",
    "\n",
    "$$ \\ X_2 =\\ \\frac{ \\left(11.5754 - 0.0861(X_3) \\right)}{0.0049} $$\n",
    "\n",
    "With `ap` $= X_3 = [0,1,2,3,4,5,6,7]$, \n",
    "\n",
    "The corresponding of `test_score`s would be $[2362.327, 2344.755, 2327.184, 2309.612, 2292.041, 2274.469, 2256.898, 2239.327]$\n",
    "\n",
    "With a range between $(2239.327, 2362.327)$\n",
    "\n",
    " \n",
    "\n",
    "On the other hand, say a person applied to Yale $(X_1 = 0)$\n",
    "\n",
    "Solving for `test_score` $(X_2)$\n",
    "\n",
    "$$ \\ X_2 =\\ \\frac{ \\left(7.1344 - 0.0240(X_3) \\right)}{0.0027} $$\n",
    "\n",
    "With `ap` $= X_3 = [0,1,2,3,4,5,6,7]$, \n",
    "\n",
    "The corresponding `test_score` would be $[2362.327, 2344.755, 2327.184, 2309.612, 2292.041, 2274.469, 2256.898, 2239.327]$\n",
    "\n",
    "With a range between $(2580.148, 2642.370)$"
   ]
  },
  {
   "cell_type": "code",
   "execution_count": 473,
   "metadata": {},
   "outputs": [
    {
     "data": {
      "text/plain": [
       "('2362.327, 2344.755, 2327.184, 2309.612, 2292.041, 2274.469, 2256.898, 2239.327',\n",
       " '2239.327',\n",
       " '2362.327')"
      ]
     },
     "execution_count": 473,
     "metadata": {},
     "output_type": "execute_result"
    }
   ],
   "source": [
    "# Calculating range of values for X_1 = 1\n",
    "scores_harvard = [f\"{((11.5754 - 0.0861*(i))/0.0049):.3f}\" for i in range(8)]\n",
    "\", \".join(scores_harvard), min(scores_harvard), max(scores_harvard)"
   ]
  },
  {
   "cell_type": "code",
   "execution_count": 474,
   "metadata": {},
   "outputs": [
    {
     "data": {
      "text/plain": [
       "('2642.370, 2633.481, 2624.593, 2615.704, 2606.815, 2597.926, 2589.037, 2580.148',\n",
       " '2580.148',\n",
       " '2642.370')"
      ]
     },
     "execution_count": 474,
     "metadata": {},
     "output_type": "execute_result"
    }
   ],
   "source": [
    "# Calculating range of values for X_1 = 0S\n",
    "scores_yale = [f\"{((7.1344 - 0.0240*(i))/0.0027):.3f}\" for i in range(8)]\n",
    "\", \".join(scores_yale), min(scores_yale), max(scores_yale)"
   ]
  },
  {
   "cell_type": "markdown",
   "metadata": {
    "cell_id": "0a790850-87c6-4f46-b89e-048a2295c92b",
    "colab_type": "text",
    "id": "IGFtXJmQap2q"
   },
   "source": [
    "<!-- END QUESTION -->\n",
    "\n",
    "<!-- BEGIN QUESTION -->\n",
    "\n",
    "<div class='exercise-r'>\n",
    "\n",
    "**Q3.5** Create two separate scatterplots (one for Harvard applicants and one for Yale applicants) with the predictor `test_score` on the y-axis and `ap` on the x-axis where `admitted` is color-coded and the marker denotes train vs. test data.  Then add the appropriate classification boundary from the previous part.  Compare these two plots (including both the location of the boundaries and where the points lie around these boundaries).\n",
    "\n",
    "**NOTE:** As always, please be certain (a) your plot is titled, (b) everything is clearly labeled, and (c) the plot itself is formatted in a manner that makes it easy to read and interpret. It will likely take some careful work here to generate plots with data points that are clear and easy to see. You might try 'dithering' the points with a random offset so they are not all on top of one another.\n",
    "    \n",
    "</div>\n",
    "\n",
    "_Points:_ 5"
   ]
  },
  {
   "cell_type": "markdown",
   "metadata": {},
   "source": [
    "Comparing admitted vs non-admitted points in both plots suggest that admitted students have higher mean `test_scores` over non-admitted. Non-admitted points in blue also have more outliers with lower `test_scores`. Ideally, a good classification boundary would be where datapoints under it maximizes for non-admission and datapoints above it maximizes for admission.\n",
    "\n",
    "In both plots, it seems like the negative sloped boundary lines suggest a negative linear relationship between `test_score` and `ap`.\n",
    "\n",
    "The boundary line on the Harvard applicants scatterplot made sense - controlling for test_score, more ap subjects taken increases the probability of admission. The location of points around the boundaries supports harvard's low admission rate, where most admitted applicants score close to 2400.\n",
    "\n",
    "However, the boundary line on the Yale applicants scatterplot sits way above the max test_score of 2400. Model `logit3_2` predicts that a Yale applicant with 7 ap subjects needs to score 2580 (unrealistic!) to have a better than 50% chance of admission. Thus, the boundary line is far away from any single points. This is untrue, as Yale's admission rate is comparable to Harvard's, and certainly not 0%, so we are expecting its boundary to be comparable to Harvard's.\n",
    "\n",
    "In conclusion, Yale's scatter plot suggests that the model `logit3_2` is still inaccurate as it does relatively well with predicting admission into Harvard, but not Yale applicants."
   ]
  },
  {
   "cell_type": "code",
   "execution_count": 475,
   "metadata": {},
   "outputs": [
    {
     "data": {
      "image/png": "[encoded data removed]",
      "text/plain": [
       "<Figure size 1600x500 with 2 Axes>"
      ]
     },
     "metadata": {},
     "output_type": "display_data"
    }
   ],
   "source": [
    "def plot_boundaries(ax, school):\n",
    "    xx = np.linspace(0,7)\n",
    "    if school == \"harvard\":\n",
    "        yy = (11.5754 - 0.0861*(xx))/0.0049\n",
    "    else:\n",
    "        yy = (7.1344 - 0.0240*(xx))/0.0027\n",
    "\n",
    "    ax.plot(xx, yy, 'k-')\n",
    "\n",
    "def plot_model(q, school, ax, x_train, y_train, x_test, y_test):\n",
    "\n",
    "    # Plot test_score vs ap\n",
    "    names = [\"Not admitted\",\"Admitted\"]\n",
    "    colors = [\"tab:blue\", \"tab:orange\"]\n",
    "    dithers = [1, 0.94+0.06]\n",
    "    \n",
    "    ps, dithers = [1,1],[-0.5,-0.3]\n",
    "    for i, y_class in enumerate(set(y_train.values.flatten())):\n",
    "        \n",
    "        index = (y_train == y_class).values\n",
    "        ax.scatter(\n",
    "            ps[i]*x_train.loc[index][\"ap\"]+dithers[i],\n",
    "            x_train.loc[index][\"test_score\"],\n",
    "            c=colors[i],\n",
    "            marker='s',\n",
    "            s=65, alpha=0.35, \n",
    "            edgecolor='w',\n",
    "            label=f\"(Train) {names[i]}\",\n",
    "        )\n",
    "    ps, dithers = [1,1],[-0.15,0.05]\n",
    "    for i, y_class in enumerate(set(y_test.values.flatten())):\n",
    "        \n",
    "        index = (y_test == y_class).values\n",
    "        ax.scatter(\n",
    "            ps[i]*x_test.loc[index][\"ap\"]+dithers[i],\n",
    "            x_test.loc[index][\"test_score\"],\n",
    "            c=colors[i],\n",
    "            marker='o',\n",
    "            s=65, alpha=0.35, \n",
    "            edgecolor='w',\n",
    "            label=f\"(Test) {names[i]}\",\n",
    "        )\n",
    "        # plot decision boundaries\n",
    "\n",
    "    # Plot labels, legend, and titles\n",
    "    ax.legend(bbox_to_anchor=(1, 1), loc='upper left', ncol=1)\n",
    "    ax.set_title(f'Q{q}: Plotting train and test data for {str(school)} applicants: test_score over ap', fontsize=14)\n",
    "    ax.set_ylabel('test_score', fontsize=14)\n",
    "    ax.set_xlabel('ap', fontsize=14)\n",
    "\n",
    "\n",
    "f, ax = plt.subplots(1, 2, figsize=(16, 5))\n",
    "\n",
    "x_train = college_train.loc[college_train[\"harvard\"] == 1][[\"harvard\",\"test_score\",\"ap\"]]\n",
    "x_test = college_test.loc[college_test[\"harvard\"] == 1][[\"harvard\",\"test_score\",\"ap\"]]\n",
    "y_train = college_train.loc[college_train[\"harvard\"] == 1][\"admitted\"]\n",
    "y_test = college_test.loc[college_test[\"harvard\"] == 1][\"admitted\"]\n",
    "plot_boundaries(ax[0], \"harvard\")\n",
    "plot_model(3.5, \"Harvard\",ax[0], x_train, y_train, x_test, y_test)\n",
    "\n",
    "# scatterplot for yale applicants: test_score over admitted\n",
    "x_train = college_train.loc[college_train[\"harvard\"] == 0][[\"harvard\",\"test_score\",\"ap\"]]\n",
    "x_test = college_test.loc[college_test[\"harvard\"] == 0][[\"harvard\",\"test_score\",\"ap\"]]\n",
    "y_train = college_train.loc[college_train[\"harvard\"] == 0][\"admitted\"]\n",
    "y_test = college_test.loc[college_test[\"harvard\"] == 0][\"admitted\"]\n",
    "plot_boundaries(ax[1], \"yale\")\n",
    "plot_model(3.5, \"Yale\", ax[1], x_train, y_train, x_test, y_test)\n",
    "\n",
    "plt.tight_layout()\n",
    "plt.show()"
   ]
  },
  {
   "cell_type": "markdown",
   "metadata": {
    "cell_id": "0a790850-87c6-4f46-b89e-048a2295c92b",
    "colab_type": "text",
    "id": "IGFtXJmQap2q"
   },
   "source": [
    "<!-- END QUESTION -->\n",
    "\n",
    "<div class='exercise-r'>\n",
    "\n",
    "**Q3.6** Fit a logistic regression model (call it `logit3_6`) to predict `admitted` from 4 predictors: `[\"harvard\", \"test_score\", \"female\", \"minority\"]` along with 2 interaction terms: `harvard` with `female` and `harvard` with `minority`. \n",
    "    \n",
    "</div>\n",
    "\n",
    "_Points:_ 3"
   ]
  },
  {
   "cell_type": "code",
   "execution_count": 476,
   "metadata": {},
   "outputs": [],
   "source": [
    "# Provided code assumes this order of predictors\n",
    "logit3_6_predictors = [\"harvard\",\n",
    "                       \"test_score\",\n",
    "                       \"female\",\n",
    "                       \"minority\",\n",
    "                       \"harvard_female\",\n",
    "                       \"harvard_minority\"\n",
    "                      ]"
   ]
  },
  {
   "cell_type": "code",
   "execution_count": 477,
   "metadata": {
    "tags": []
   },
   "outputs": [
    {
     "name": "stderr",
     "output_type": "stream",
     "text": [
      "C:\\Users\\sykri\\AppData\\Local\\Temp\\ipykernel_6120\\602271125.py:8: SettingWithCopyWarning: \n",
      "A value is trying to be set on a copy of a slice from a DataFrame.\n",
      "Try using .loc[row_indexer,col_indexer] = value instead\n",
      "\n",
      "See the caveats in the documentation: https://pandas.pydata.org/pandas-docs/stable/user_guide/indexing.html#returning-a-view-versus-a-copy\n",
      "  df[\"harvard_female\"] = df.apply(lambda x: x[\"harvard\"] * x[\"female\"], axis =1)\n",
      "C:\\Users\\sykri\\AppData\\Local\\Temp\\ipykernel_6120\\602271125.py:9: SettingWithCopyWarning: \n",
      "A value is trying to be set on a copy of a slice from a DataFrame.\n",
      "Try using .loc[row_indexer,col_indexer] = value instead\n",
      "\n",
      "See the caveats in the documentation: https://pandas.pydata.org/pandas-docs/stable/user_guide/indexing.html#returning-a-view-versus-a-copy\n",
      "  df[\"harvard_minority\"] = df.apply(lambda x: x[\"harvard\"] * x[\"minority\"], axis =1)\n",
      "C:\\Users\\sykri\\AppData\\Local\\Temp\\ipykernel_6120\\602271125.py:8: SettingWithCopyWarning: \n",
      "A value is trying to be set on a copy of a slice from a DataFrame.\n",
      "Try using .loc[row_indexer,col_indexer] = value instead\n",
      "\n",
      "See the caveats in the documentation: https://pandas.pydata.org/pandas-docs/stable/user_guide/indexing.html#returning-a-view-versus-a-copy\n",
      "  df[\"harvard_female\"] = df.apply(lambda x: x[\"harvard\"] * x[\"female\"], axis =1)\n",
      "C:\\Users\\sykri\\AppData\\Local\\Temp\\ipykernel_6120\\602271125.py:9: SettingWithCopyWarning: \n",
      "A value is trying to be set on a copy of a slice from a DataFrame.\n",
      "Try using .loc[row_indexer,col_indexer] = value instead\n",
      "\n",
      "See the caveats in the documentation: https://pandas.pydata.org/pandas-docs/stable/user_guide/indexing.html#returning-a-view-versus-a-copy\n",
      "  df[\"harvard_minority\"] = df.apply(lambda x: x[\"harvard\"] * x[\"minority\"], axis =1)\n"
     ]
    }
   ],
   "source": [
    "# your code here\n",
    "x_train = college_train[[\"harvard\", \"test_score\", \"female\", \"minority\"]]\n",
    "x_test = college_test[[\"harvard\", \"test_score\", \"female\", \"minority\"]]\n",
    "y_train = college_train['admitted']\n",
    "y_test = college_test['admitted']\n",
    "\n",
    "for df in [x_train, x_test]:\n",
    "    df[\"harvard_female\"] = df.apply(lambda x: x[\"harvard\"] * x[\"female\"], axis =1)\n",
    "    df[\"harvard_minority\"] = df.apply(lambda x: x[\"harvard\"] * x[\"minority\"], axis =1)\n",
    "\n",
    "logit3_6 = LogisticRegression(penalty='none', max_iter = 1000).fit(x_train, y_train)\n",
    "\n"
   ]
  },
  {
   "cell_type": "code",
   "execution_count": 478,
   "metadata": {
    "deletable": false,
    "editable": false
   },
   "outputs": [
    {
     "data": {
      "text/html": [
       "<p><strong><pre style='display: inline;'>q3.6</pre></strong> passed! ✨</p>"
      ],
      "text/plain": [
       "q3.6 results: All test cases passed!"
      ]
     },
     "execution_count": 478,
     "metadata": {},
     "output_type": "execute_result"
    }
   ],
   "source": [
    "grader.check(\"q3.6\")"
   ]
  },
  {
   "cell_type": "markdown",
   "metadata": {
    "cell_id": "0a790850-87c6-4f46-b89e-048a2295c92b",
    "colab_type": "text",
    "id": "IGFtXJmQap2q"
   },
   "source": [
    "<!-- BEGIN QUESTION -->\n",
    "\n",
    "<div class='exercise-r'>\n",
    "\n",
    "**Q3.7** Interpret the coefficients associated with `female` and `minority` (the two main effects AND the two interaction terms).\n",
    "    \n",
    "</div>\n",
    "\n",
    "_Points:_ 4"
   ]
  },
  {
   "cell_type": "code",
   "execution_count": 479,
   "metadata": {},
   "outputs": [
    {
     "name": "stdout",
     "output_type": "stream",
     "text": [
      "The intercept and coefficients for the 'logit3_6' model are:\n",
      "\n",
      "\tintercept           -10.6474\n",
      "\tharvard             0.3888\n",
      "\ttest_score          0.0042\n",
      "\tfemale              0.0208\n",
      "\tminority            1.4366\n",
      "\tharvard_female      0.0740\n",
      "\tharvard_minority    -1.0630\n"
     ]
    }
   ],
   "source": [
    "# Display results\n",
    "logit3_6_intercept = np.array(logit3_6.intercept_).flatten()[0]\n",
    "logit3_6_coefs = logit3_6.coef_.flatten()\n",
    "\n",
    "print(\n",
    "    \"The intercept and coefficients for the 'logit3_6' model are:\"\n",
    "    \"\\n\\n\\t{:<20}{:.4f}\".format(\n",
    "        \"intercept\", logit3_6_intercept\n",
    "    )\n",
    ")\n",
    "\n",
    "for predictor, coef in zip(logit3_6_predictors, logit3_6_coefs):\n",
    "    print(\"\\t{:<20}{:.4f}\".format(predictor, coef))"
   ]
  },
  {
   "cell_type": "markdown",
   "metadata": {},
   "source": [
    "From model `logit3_6`, below are the interpretations of the coefficients associated with `female` and `minority`:\n",
    "- `harvard`: Applying to Harvard ('harvard' = 1) is associated with an e^0.389 increase in the odds of admission than applying to Yale, while controlling for other confounders (predictors).\n",
    "- `test_score`: Every one unit increase in `test_score` is associated with an e^0.0042 increase in the odds of admission, while controlling for other confounders (predictors).\n",
    "- `harvard_female`: Harvard female applicants are associated with e^0.074 increase in the odds of admission, while controlling for other confounders (predictors).\n",
    "- `harvard_minority`: Minority applicants to Harvard are at a disadvantage, with e^-1.063 odds of admission, while controlling for other confounders (predictors)."
   ]
  },
  {
   "cell_type": "markdown",
   "metadata": {
    "cell_id": "0a790850-87c6-4f46-b89e-048a2295c92b",
    "colab_type": "text",
    "id": "IGFtXJmQap2q"
   },
   "source": [
    "<!-- END QUESTION -->\n",
    "\n",
    "<!-- BEGIN QUESTION -->\n",
    "\n",
    "<div class='exercise-r'>\n",
    "\n",
    "**Q3.8** Based on this sample, how does it appear that Harvard and Yale compare in admitting women and minorities?  Why would it be wrong to take this interpretation as truth?\n",
    "\n",
    "</div>\n",
    "\n",
    "_Points:_ 2"
   ]
  },
  {
   "cell_type": "markdown",
   "metadata": {},
   "source": [
    "Based on `logit3_6`, it would be more difficult for females to be admitted to Yale. However, minorities have a higher chance of getting admitted into Yale. However, this interpretation could be wrong, as 1) the coefficient values for `female` and `harvard_female` are close to 0 == insignificance, and 2) it appears as if `minority` is the most important predictor - minorities lead to the highest increase in odds of admission into Yale, which could be unrealistic as college admissions should be merit-based, not by race. Additionally, why is no interaction between `female_minority` accounted for? This model does not account for female minority applicants."
   ]
  },
  {
   "cell_type": "markdown",
   "metadata": {},
   "source": [
    "<!-- END QUESTION -->\n",
    "\n",
    "---"
   ]
  },
  {
   "cell_type": "markdown",
   "metadata": {},
   "source": [
    "<a id=\"part4\"></a>\n",
    "\n",
    "## <div class='exercise'>Question 4: Building predictive models for admitted [24 pts]</div>\n",
    "\n",
    "[Return to contents](#contents)"
   ]
  },
  {
   "cell_type": "markdown",
   "metadata": {
    "cell_id": "0a790850-87c6-4f46-b89e-048a2295c92b",
    "colab_type": "text",
    "id": "IGFtXJmQap2q"
   },
   "source": [
    "<div class='exercise-r'>\n",
    "\n",
    "**Q4.1** You were instructed to NOT scale predictors in the prior sections above. The primary reason for this was to focus instead on the interpretability of our logistic regression coefficients. However, as we're sure you noticed, the numeric scale among our different predictors varies greatly (i.e. `test_score` values are in the 1,000's while others are much, much smaller). In practice, we might want to put our predictors all on a similar scale, particularly for regularized regression and/or distance-based algorithms such as $k$-NN classification. **(1)** Please explain why scaling under these circumstances might be important. Then, **(2)** actually apply standardized scaling to all of the **non-binary** predictors in our original set of 12 predictors. **For the sake of consistency, fit your scaler on just the training data. Then use it to transform both train and test.**\n",
    "\n",
    "**IMPORTANT:** These scaled predictors should be used instead of the original unscaled versions of the predictors for the remainder of this problem set. Tests from this point on assume that `X_train` and `X_test` have been standardized with the approach outlined above. \n",
    "\n",
    "</div>\n",
    "\n",
    "_Points:_ 4"
   ]
  },
  {
   "cell_type": "markdown",
   "metadata": {},
   "source": [
    "KNN classification is a distance algorithm, which can be biased by features with large magnitudes. The higehr weightage from these feature(s) will negatively impact prediction accuracy. Scaling the data removes the bias, the k distances will be more standardized, which could reveal important predictors with low magnitudes.\n",
    "\n",
    "On the other hand, regularization penalizes the model for large coefficients. These large coefficients can be due to 1) its relationship to the reponse and/or 2) units of measurement. Scaling removes potential biases/large coefficients coming from 2) e.g. poor choice of units of measurements (e.g K vs C or mm vs km). With a scaled dataset, we can ensure that we penalize coefficients that are more likely to have a strong relationship with the response, instead of coefficients with inflated unit values. Thus, scaling data improves the performance of regularization."
   ]
  },
  {
   "cell_type": "code",
   "execution_count": 480,
   "metadata": {},
   "outputs": [
    {
     "data": {
      "text/html": [
       "<div>\n",
       "<style scoped>\n",
       "    .dataframe tbody tr th:only-of-type {\n",
       "        vertical-align: middle;\n",
       "    }\n",
       "\n",
       "    .dataframe tbody tr th {\n",
       "        vertical-align: top;\n",
       "    }\n",
       "\n",
       "    .dataframe thead th {\n",
       "        text-align: right;\n",
       "    }\n",
       "</style>\n",
       "<table border=\"1\" class=\"dataframe\">\n",
       "  <thead>\n",
       "    <tr style=\"text-align: right;\">\n",
       "      <th></th>\n",
       "      <th>test_score</th>\n",
       "      <th>ap</th>\n",
       "      <th>avg_ap</th>\n",
       "      <th>sat_subjects</th>\n",
       "      <th>gpa</th>\n",
       "      <th>female</th>\n",
       "      <th>minority</th>\n",
       "      <th>international</th>\n",
       "      <th>sports</th>\n",
       "      <th>harvard</th>\n",
       "      <th>early_app</th>\n",
       "      <th>alumni</th>\n",
       "    </tr>\n",
       "  </thead>\n",
       "  <tbody>\n",
       "    <tr>\n",
       "      <th>count</th>\n",
       "      <td>1496.000</td>\n",
       "      <td>1496.000</td>\n",
       "      <td>1496.000</td>\n",
       "      <td>1496.000</td>\n",
       "      <td>1496.000</td>\n",
       "      <td>1496.0</td>\n",
       "      <td>1496.000</td>\n",
       "      <td>1496.000</td>\n",
       "      <td>1496.000</td>\n",
       "      <td>1496.000</td>\n",
       "      <td>1496.000</td>\n",
       "      <td>1496.000</td>\n",
       "    </tr>\n",
       "    <tr>\n",
       "      <th>mean</th>\n",
       "      <td>2185.496</td>\n",
       "      <td>3.436</td>\n",
       "      <td>3.724</td>\n",
       "      <td>2.864</td>\n",
       "      <td>3.878</td>\n",
       "      <td>0.5</td>\n",
       "      <td>0.207</td>\n",
       "      <td>0.060</td>\n",
       "      <td>0.035</td>\n",
       "      <td>0.524</td>\n",
       "      <td>0.177</td>\n",
       "      <td>0.049</td>\n",
       "    </tr>\n",
       "    <tr>\n",
       "      <th>std</th>\n",
       "      <td>170.109</td>\n",
       "      <td>2.333</td>\n",
       "      <td>1.700</td>\n",
       "      <td>1.290</td>\n",
       "      <td>0.199</td>\n",
       "      <td>0.5</td>\n",
       "      <td>0.405</td>\n",
       "      <td>0.238</td>\n",
       "      <td>0.183</td>\n",
       "      <td>0.500</td>\n",
       "      <td>0.382</td>\n",
       "      <td>0.217</td>\n",
       "    </tr>\n",
       "    <tr>\n",
       "      <th>min</th>\n",
       "      <td>1150.000</td>\n",
       "      <td>0.000</td>\n",
       "      <td>0.000</td>\n",
       "      <td>0.000</td>\n",
       "      <td>1.980</td>\n",
       "      <td>0.0</td>\n",
       "      <td>0.000</td>\n",
       "      <td>0.000</td>\n",
       "      <td>0.000</td>\n",
       "      <td>0.000</td>\n",
       "      <td>0.000</td>\n",
       "      <td>0.000</td>\n",
       "    </tr>\n",
       "    <tr>\n",
       "      <th>25%</th>\n",
       "      <td>2110.000</td>\n",
       "      <td>2.000</td>\n",
       "      <td>3.593</td>\n",
       "      <td>2.000</td>\n",
       "      <td>3.830</td>\n",
       "      <td>0.0</td>\n",
       "      <td>0.000</td>\n",
       "      <td>0.000</td>\n",
       "      <td>0.000</td>\n",
       "      <td>0.000</td>\n",
       "      <td>0.000</td>\n",
       "      <td>0.000</td>\n",
       "    </tr>\n",
       "    <tr>\n",
       "      <th>50%</th>\n",
       "      <td>2220.000</td>\n",
       "      <td>3.000</td>\n",
       "      <td>4.429</td>\n",
       "      <td>3.000</td>\n",
       "      <td>3.960</td>\n",
       "      <td>0.5</td>\n",
       "      <td>0.000</td>\n",
       "      <td>0.000</td>\n",
       "      <td>0.000</td>\n",
       "      <td>1.000</td>\n",
       "      <td>0.000</td>\n",
       "      <td>0.000</td>\n",
       "    </tr>\n",
       "    <tr>\n",
       "      <th>75%</th>\n",
       "      <td>2310.000</td>\n",
       "      <td>5.000</td>\n",
       "      <td>5.000</td>\n",
       "      <td>3.000</td>\n",
       "      <td>4.000</td>\n",
       "      <td>1.0</td>\n",
       "      <td>0.000</td>\n",
       "      <td>0.000</td>\n",
       "      <td>0.000</td>\n",
       "      <td>1.000</td>\n",
       "      <td>0.000</td>\n",
       "      <td>0.000</td>\n",
       "    </tr>\n",
       "    <tr>\n",
       "      <th>max</th>\n",
       "      <td>2400.000</td>\n",
       "      <td>7.000</td>\n",
       "      <td>5.000</td>\n",
       "      <td>6.000</td>\n",
       "      <td>4.000</td>\n",
       "      <td>1.0</td>\n",
       "      <td>1.000</td>\n",
       "      <td>1.000</td>\n",
       "      <td>1.000</td>\n",
       "      <td>1.000</td>\n",
       "      <td>1.000</td>\n",
       "      <td>1.000</td>\n",
       "    </tr>\n",
       "  </tbody>\n",
       "</table>\n",
       "</div>"
      ],
      "text/plain": [
       "       test_score        ap    avg_ap  sat_subjects       gpa  female  \\\n",
       "count    1496.000  1496.000  1496.000      1496.000  1496.000  1496.0   \n",
       "mean     2185.496     3.436     3.724         2.864     3.878     0.5   \n",
       "std       170.109     2.333     1.700         1.290     0.199     0.5   \n",
       "min      1150.000     0.000     0.000         0.000     1.980     0.0   \n",
       "25%      2110.000     2.000     3.593         2.000     3.830     0.0   \n",
       "50%      2220.000     3.000     4.429         3.000     3.960     0.5   \n",
       "75%      2310.000     5.000     5.000         3.000     4.000     1.0   \n",
       "max      2400.000     7.000     5.000         6.000     4.000     1.0   \n",
       "\n",
       "       minority  international    sports   harvard  early_app    alumni  \n",
       "count  1496.000       1496.000  1496.000  1496.000   1496.000  1496.000  \n",
       "mean      0.207          0.060     0.035     0.524      0.177     0.049  \n",
       "std       0.405          0.238     0.183     0.500      0.382     0.217  \n",
       "min       0.000          0.000     0.000     0.000      0.000     0.000  \n",
       "25%       0.000          0.000     0.000     0.000      0.000     0.000  \n",
       "50%       0.000          0.000     0.000     1.000      0.000     0.000  \n",
       "75%       0.000          0.000     0.000     1.000      0.000     0.000  \n",
       "max       1.000          1.000     1.000     1.000      1.000     1.000  "
      ]
     },
     "execution_count": 480,
     "metadata": {},
     "output_type": "execute_result"
    }
   ],
   "source": [
    "X_train = college_train[predictors]\n",
    "X_test = college_test[predictors]\n",
    "y_train = college_train[\"admitted\"]\n",
    "y_test = college_test[\"admitted\"]\n",
    "\n",
    "# find non_binary predictors\n",
    "X_train.describe()"
   ]
  },
  {
   "cell_type": "code",
   "execution_count": 481,
   "metadata": {
    "tags": []
   },
   "outputs": [
    {
     "name": "stderr",
     "output_type": "stream",
     "text": [
      "C:\\Users\\sykri\\AppData\\Local\\Temp\\ipykernel_6120\\3394689362.py:8: SettingWithCopyWarning: \n",
      "A value is trying to be set on a copy of a slice from a DataFrame.\n",
      "Try using .loc[row_indexer,col_indexer] = value instead\n",
      "\n",
      "See the caveats in the documentation: https://pandas.pydata.org/pandas-docs/stable/user_guide/indexing.html#returning-a-view-versus-a-copy\n",
      "  X_train[non_binary_predictors] = scaler.transform(X_train[non_binary_predictors])\n",
      "C:\\Users\\sykri\\AppData\\Local\\Temp\\ipykernel_6120\\3394689362.py:9: SettingWithCopyWarning: \n",
      "A value is trying to be set on a copy of a slice from a DataFrame.\n",
      "Try using .loc[row_indexer,col_indexer] = value instead\n",
      "\n",
      "See the caveats in the documentation: https://pandas.pydata.org/pandas-docs/stable/user_guide/indexing.html#returning-a-view-versus-a-copy\n",
      "  X_test[non_binary_predictors] = scaler.transform(X_test[non_binary_predictors])\n"
     ]
    }
   ],
   "source": [
    "# scale non_binary predictors\n",
    "non_binary_predictors = [\"test_score\", \"ap\", \"avg_ap\", \"sat_subjects\", \"gpa\"]\n",
    "\n",
    "# Be certain to ONLY EVER fit your scaler on X train (NEVER fit it on test)\n",
    "scaler = StandardScaler().fit(X_train[non_binary_predictors])\n",
    "\n",
    "# Use your train-fitted scaler to transform both X train and X test\n",
    "X_train[non_binary_predictors] = scaler.transform(X_train[non_binary_predictors])\n",
    "X_test[non_binary_predictors] = scaler.transform(X_test[non_binary_predictors])\n"
   ]
  },
  {
   "cell_type": "code",
   "execution_count": 482,
   "metadata": {},
   "outputs": [
    {
     "data": {
      "text/html": [
       "<div>\n",
       "<style scoped>\n",
       "    .dataframe tbody tr th:only-of-type {\n",
       "        vertical-align: middle;\n",
       "    }\n",
       "\n",
       "    .dataframe tbody tr th {\n",
       "        vertical-align: top;\n",
       "    }\n",
       "\n",
       "    .dataframe thead th {\n",
       "        text-align: right;\n",
       "    }\n",
       "</style>\n",
       "<table border=\"1\" class=\"dataframe\">\n",
       "  <thead>\n",
       "    <tr style=\"text-align: right;\">\n",
       "      <th></th>\n",
       "      <th>test_score</th>\n",
       "      <th>ap</th>\n",
       "      <th>avg_ap</th>\n",
       "      <th>sat_subjects</th>\n",
       "      <th>gpa</th>\n",
       "      <th>female</th>\n",
       "      <th>minority</th>\n",
       "      <th>international</th>\n",
       "      <th>sports</th>\n",
       "      <th>harvard</th>\n",
       "      <th>early_app</th>\n",
       "      <th>alumni</th>\n",
       "    </tr>\n",
       "  </thead>\n",
       "  <tbody>\n",
       "    <tr>\n",
       "      <th>count</th>\n",
       "      <td>1.496e+03</td>\n",
       "      <td>1.496e+03</td>\n",
       "      <td>1.496e+03</td>\n",
       "      <td>1.496e+03</td>\n",
       "      <td>1.496e+03</td>\n",
       "      <td>1496.0</td>\n",
       "      <td>1496.000</td>\n",
       "      <td>1496.000</td>\n",
       "      <td>1496.000</td>\n",
       "      <td>1496.000</td>\n",
       "      <td>1496.000</td>\n",
       "      <td>1496.000</td>\n",
       "    </tr>\n",
       "    <tr>\n",
       "      <th>mean</th>\n",
       "      <td>1.320e-15</td>\n",
       "      <td>-4.037e-17</td>\n",
       "      <td>2.375e-16</td>\n",
       "      <td>3.325e-17</td>\n",
       "      <td>1.502e-16</td>\n",
       "      <td>0.5</td>\n",
       "      <td>0.207</td>\n",
       "      <td>0.060</td>\n",
       "      <td>0.035</td>\n",
       "      <td>0.524</td>\n",
       "      <td>0.177</td>\n",
       "      <td>0.049</td>\n",
       "    </tr>\n",
       "    <tr>\n",
       "      <th>std</th>\n",
       "      <td>1.000e+00</td>\n",
       "      <td>1.000e+00</td>\n",
       "      <td>1.000e+00</td>\n",
       "      <td>1.000e+00</td>\n",
       "      <td>1.000e+00</td>\n",
       "      <td>0.5</td>\n",
       "      <td>0.405</td>\n",
       "      <td>0.238</td>\n",
       "      <td>0.183</td>\n",
       "      <td>0.500</td>\n",
       "      <td>0.382</td>\n",
       "      <td>0.217</td>\n",
       "    </tr>\n",
       "    <tr>\n",
       "      <th>min</th>\n",
       "      <td>-6.089e+00</td>\n",
       "      <td>-1.473e+00</td>\n",
       "      <td>-2.191e+00</td>\n",
       "      <td>-2.221e+00</td>\n",
       "      <td>-9.529e+00</td>\n",
       "      <td>0.0</td>\n",
       "      <td>0.000</td>\n",
       "      <td>0.000</td>\n",
       "      <td>0.000</td>\n",
       "      <td>0.000</td>\n",
       "      <td>0.000</td>\n",
       "      <td>0.000</td>\n",
       "    </tr>\n",
       "    <tr>\n",
       "      <th>25%</th>\n",
       "      <td>-4.440e-01</td>\n",
       "      <td>-6.158e-01</td>\n",
       "      <td>-7.730e-02</td>\n",
       "      <td>-6.703e-01</td>\n",
       "      <td>-2.432e-01</td>\n",
       "      <td>0.0</td>\n",
       "      <td>0.000</td>\n",
       "      <td>0.000</td>\n",
       "      <td>0.000</td>\n",
       "      <td>0.000</td>\n",
       "      <td>0.000</td>\n",
       "      <td>0.000</td>\n",
       "    </tr>\n",
       "    <tr>\n",
       "      <th>50%</th>\n",
       "      <td>2.029e-01</td>\n",
       "      <td>-1.871e-01</td>\n",
       "      <td>4.144e-01</td>\n",
       "      <td>1.052e-01</td>\n",
       "      <td>4.093e-01</td>\n",
       "      <td>0.5</td>\n",
       "      <td>0.000</td>\n",
       "      <td>0.000</td>\n",
       "      <td>0.000</td>\n",
       "      <td>1.000</td>\n",
       "      <td>0.000</td>\n",
       "      <td>0.000</td>\n",
       "    </tr>\n",
       "    <tr>\n",
       "      <th>75%</th>\n",
       "      <td>7.322e-01</td>\n",
       "      <td>6.703e-01</td>\n",
       "      <td>7.506e-01</td>\n",
       "      <td>1.052e-01</td>\n",
       "      <td>6.101e-01</td>\n",
       "      <td>1.0</td>\n",
       "      <td>0.000</td>\n",
       "      <td>0.000</td>\n",
       "      <td>0.000</td>\n",
       "      <td>1.000</td>\n",
       "      <td>0.000</td>\n",
       "      <td>0.000</td>\n",
       "    </tr>\n",
       "    <tr>\n",
       "      <th>max</th>\n",
       "      <td>1.261e+00</td>\n",
       "      <td>1.528e+00</td>\n",
       "      <td>7.506e-01</td>\n",
       "      <td>2.432e+00</td>\n",
       "      <td>6.101e-01</td>\n",
       "      <td>1.0</td>\n",
       "      <td>1.000</td>\n",
       "      <td>1.000</td>\n",
       "      <td>1.000</td>\n",
       "      <td>1.000</td>\n",
       "      <td>1.000</td>\n",
       "      <td>1.000</td>\n",
       "    </tr>\n",
       "  </tbody>\n",
       "</table>\n",
       "</div>"
      ],
      "text/plain": [
       "       test_score         ap     avg_ap  sat_subjects        gpa  female  \\\n",
       "count   1.496e+03  1.496e+03  1.496e+03     1.496e+03  1.496e+03  1496.0   \n",
       "mean    1.320e-15 -4.037e-17  2.375e-16     3.325e-17  1.502e-16     0.5   \n",
       "std     1.000e+00  1.000e+00  1.000e+00     1.000e+00  1.000e+00     0.5   \n",
       "min    -6.089e+00 -1.473e+00 -2.191e+00    -2.221e+00 -9.529e+00     0.0   \n",
       "25%    -4.440e-01 -6.158e-01 -7.730e-02    -6.703e-01 -2.432e-01     0.0   \n",
       "50%     2.029e-01 -1.871e-01  4.144e-01     1.052e-01  4.093e-01     0.5   \n",
       "75%     7.322e-01  6.703e-01  7.506e-01     1.052e-01  6.101e-01     1.0   \n",
       "max     1.261e+00  1.528e+00  7.506e-01     2.432e+00  6.101e-01     1.0   \n",
       "\n",
       "       minority  international    sports   harvard  early_app    alumni  \n",
       "count  1496.000       1496.000  1496.000  1496.000   1496.000  1496.000  \n",
       "mean      0.207          0.060     0.035     0.524      0.177     0.049  \n",
       "std       0.405          0.238     0.183     0.500      0.382     0.217  \n",
       "min       0.000          0.000     0.000     0.000      0.000     0.000  \n",
       "25%       0.000          0.000     0.000     0.000      0.000     0.000  \n",
       "50%       0.000          0.000     0.000     1.000      0.000     0.000  \n",
       "75%       0.000          0.000     0.000     1.000      0.000     0.000  \n",
       "max       1.000          1.000     1.000     1.000      1.000     1.000  "
      ]
     },
     "execution_count": 482,
     "metadata": {},
     "output_type": "execute_result"
    }
   ],
   "source": [
    "# preview summary stats after standardizing\n",
    "X_train.describe()"
   ]
  },
  {
   "cell_type": "code",
   "execution_count": 483,
   "metadata": {
    "deletable": false,
    "editable": false
   },
   "outputs": [
    {
     "data": {
      "text/html": [
       "<p><strong><pre style='display: inline;'>q4.1</pre></strong> passed! 🚀</p>"
      ],
      "text/plain": [
       "q4.1 results: All test cases passed!"
      ]
     },
     "execution_count": 483,
     "metadata": {},
     "output_type": "execute_result"
    }
   ],
   "source": [
    "grader.check(\"q4.1\")"
   ]
  },
  {
   "cell_type": "markdown",
   "metadata": {
    "cell_id": "0a790850-87c6-4f46-b89e-048a2295c92b",
    "colab_type": "text",
    "id": "IGFtXJmQap2q"
   },
   "source": [
    "<!-- BEGIN QUESTION -->\n",
    "\n",
    "<div class='exercise-r'>\n",
    "\n",
    "**Q4.2** Fit a well-tuned $k$-NN classification model with main effects of all 12 predictors in it (call it `knn_model`).  Use `ks = [1, 3, 5, 9, 15, 21, 51, 71, 101, 131, 171, 201]` and 10-fold cross-validation with classification accuracy as the scoring metric. Plot, on a single set of axes, your resulting cross-validation mean training and mean validation scores at each value $k$. Then, store your chosen $k$ in `best_k` and the classification accuracy on train and test for your final fitted model as `knn_train_acc` and `knn_test_acc`.\n",
    "    \n",
    "</div>\n",
    "\n",
    "_Points:_ 4"
   ]
  },
  {
   "cell_type": "code",
   "execution_count": 484,
   "metadata": {
    "tags": []
   },
   "outputs": [],
   "source": [
    "np.random.seed(121) # Do not delete or modify this line of code\n",
    "ks = [1, 3, 5, 9, 15, 21, 51, 71, 101, 131, 171, 201]\n",
    "n=10\n",
    "\n",
    "model_ks = []\n",
    "model_ks_test_accs_scores = []\n",
    "model_ks_train_accs_scores = []\n",
    "train_mses_mean, val_mses_mean, val_mses_std = [], [], []\n",
    "\n",
    "# your code here\n",
    "\n",
    "for test, k in enumerate(ks):\n",
    "\n",
    "    # fit kNN classifier\n",
    "    model_ks.append(KNeighborsClassifier(n_neighbors=k).fit(X_train, y_train))\n",
    "\n",
    "    # predict X_train and X_test\n",
    "    y_pred_train = model_ks[test].predict(X_train)\n",
    "    y_pred_test = model_ks[test].predict(X_test)\n",
    "    model_ks_train_accs_scores.append(accuracy_score(y_train, y_pred_train))\n",
    "    model_ks_test_accs_scores.append(accuracy_score(y_test, y_pred_test))\n",
    "\n",
    "    # cross validation on modified data iwht neg_mean_squared error\n",
    "    knn_cv = cross_validate(model_ks[test], X_train, y_train, cv=n,\n",
    "                            scoring=('neg_mean_squared_error'), return_train_score=True)\n",
    "\n",
    "    # Append the MSEs to their respective lists \n",
    "    train_mses_mean.append(-np.mean(knn_cv['train_score']))\n",
    "    val_mses_mean.append(-np.mean(knn_cv['test_score']))\n",
    "    val_mses_std.append(np.std(knn_cv['test_score']))\n",
    "\n",
    "\n",
    "best_idx = np.argmin(val_mses_mean)\n",
    "best_k = ks[best_idx]\n",
    "\n",
    "knn_train_acc = model_ks_train_accs_scores[best_idx]\n",
    "knn_test_acc = model_ks_test_accs_scores[best_idx]"
   ]
  },
  {
   "cell_type": "code",
   "execution_count": 485,
   "metadata": {
    "tags": []
   },
   "outputs": [
    {
     "data": {
      "image/png": "[encoded data removed]",
      "text/plain": [
       "<Figure size 1200x800 with 1 Axes>"
      ]
     },
     "metadata": {},
     "output_type": "display_data"
    }
   ],
   "source": [
    "# Plot cross-validation results\n",
    "# Plotting training and testing dataset with regression line\n",
    "plt.figure(figsize=(12,8))\n",
    "plt.plot(ks, train_mses_mean, label='train_mse_mean', color='orange')\n",
    "plt.plot(ks, val_mses_mean, label='validation_mse_mean', color='blue')\n",
    "# plt.yscale(\"log\")\n",
    "plt.axvline(best_k, c='k', ls='--', label=rf'best k={best_k}')\n",
    "plt.xlabel(r'KNN Values (k)')\n",
    "plt.ylabel('MSE')\n",
    "plt.title('Q4.2: MSE loss as a function of KNN k-value')\n",
    "plt.legend()\n",
    "plt.errorbar(ks, val_mses_mean, yerr=val_mses_std, ecolor='grey', elinewidth=1, capsize=2.5)\n",
    "plt.show()"
   ]
  },
  {
   "cell_type": "code",
   "execution_count": 486,
   "metadata": {},
   "outputs": [
    {
     "name": "stdout",
     "output_type": "stream",
     "text": [
      "The classification accuracies for 'knn_model' where k=21 are:\n",
      "\n",
      "\tTrain\t0.7447\n",
      "\tTEST\t0.7013\n"
     ]
    }
   ],
   "source": [
    "print(\n",
    "    \"The classification accuracies for 'knn_model' where k={} \"\n",
    "    \"are:\\n\\n\\tTrain\\t{:.4f}\\n\\tTEST\\t{:.4f}\"\n",
    "    .format(\n",
    "        best_k, knn_train_acc, knn_test_acc\n",
    "    )\n",
    ")\n",
    "\n",
    "# create dict for storing test scores for each Q4 model\n",
    "q4_test_scores = {\"knn_model\": knn_test_acc}\n",
    "q4_train_scores = {\"knn_model\": knn_train_acc}"
   ]
  },
  {
   "cell_type": "markdown",
   "metadata": {
    "cell_id": "0a790850-87c6-4f46-b89e-048a2295c92b",
    "colab_type": "text",
    "id": "IGFtXJmQap2q"
   },
   "source": [
    "<!-- END QUESTION -->\n",
    "\n",
    "<div class='exercise-r'>\n",
    "\n",
    "**Q4.3** Fit the full logistic regression model (without penalty) with main effects of all 12 predictors in it (call it `logit_full`). Store the classification accuracy on train and test for this model in `logit_full_train_acc` and `logit_full_test_acc`.\n",
    "\n",
    "**HINT:** If you have convergence warnings, increasing the maximum number of iterations will likely solve this issue.\n",
    "    \n",
    "</div>\n",
    "\n",
    "_Points:_ 3"
   ]
  },
  {
   "cell_type": "code",
   "execution_count": 487,
   "metadata": {},
   "outputs": [],
   "source": [
    "# The code that prints your results assumes\n",
    "# predictors were given to the model in this order\n",
    "predictor_list = [\n",
    "    \"test_score\", \"ap\", \"avg_ap\", \"sat_subjects\",\n",
    "    \"gpa\", \"female\", \"minority\", \"international\",\n",
    "    \"sports\", \"harvard\", \"early_app\", \"alumni\",\n",
    "]"
   ]
  },
  {
   "cell_type": "code",
   "execution_count": 488,
   "metadata": {},
   "outputs": [
    {
     "data": {
      "text/html": [
       "<div>\n",
       "<style scoped>\n",
       "    .dataframe tbody tr th:only-of-type {\n",
       "        vertical-align: middle;\n",
       "    }\n",
       "\n",
       "    .dataframe tbody tr th {\n",
       "        vertical-align: top;\n",
       "    }\n",
       "\n",
       "    .dataframe thead th {\n",
       "        text-align: right;\n",
       "    }\n",
       "</style>\n",
       "<table border=\"1\" class=\"dataframe\">\n",
       "  <thead>\n",
       "    <tr style=\"text-align: right;\">\n",
       "      <th></th>\n",
       "      <th>test_score</th>\n",
       "      <th>ap</th>\n",
       "      <th>avg_ap</th>\n",
       "      <th>sat_subjects</th>\n",
       "      <th>gpa</th>\n",
       "      <th>female</th>\n",
       "      <th>minority</th>\n",
       "      <th>international</th>\n",
       "      <th>sports</th>\n",
       "      <th>harvard</th>\n",
       "      <th>early_app</th>\n",
       "      <th>alumni</th>\n",
       "    </tr>\n",
       "  </thead>\n",
       "  <tbody>\n",
       "    <tr>\n",
       "      <th>584</th>\n",
       "      <td>-0.620</td>\n",
       "      <td>0.670</td>\n",
       "      <td>0.398</td>\n",
       "      <td>0.881</td>\n",
       "      <td>0.108</td>\n",
       "      <td>1</td>\n",
       "      <td>0</td>\n",
       "      <td>0</td>\n",
       "      <td>0</td>\n",
       "      <td>1</td>\n",
       "      <td>1</td>\n",
       "      <td>0</td>\n",
       "    </tr>\n",
       "    <tr>\n",
       "      <th>1817</th>\n",
       "      <td>0.026</td>\n",
       "      <td>1.099</td>\n",
       "      <td>-0.034</td>\n",
       "      <td>0.105</td>\n",
       "      <td>0.460</td>\n",
       "      <td>1</td>\n",
       "      <td>0</td>\n",
       "      <td>0</td>\n",
       "      <td>0</td>\n",
       "      <td>0</td>\n",
       "      <td>0</td>\n",
       "      <td>0</td>\n",
       "    </tr>\n",
       "    <tr>\n",
       "      <th>1308</th>\n",
       "      <td>-0.268</td>\n",
       "      <td>-0.616</td>\n",
       "      <td>0.456</td>\n",
       "      <td>0.105</td>\n",
       "      <td>-0.896</td>\n",
       "      <td>0</td>\n",
       "      <td>0</td>\n",
       "      <td>0</td>\n",
       "      <td>0</td>\n",
       "      <td>0</td>\n",
       "      <td>0</td>\n",
       "      <td>0</td>\n",
       "    </tr>\n",
       "    <tr>\n",
       "      <th>1336</th>\n",
       "      <td>-0.385</td>\n",
       "      <td>1.099</td>\n",
       "      <td>-0.230</td>\n",
       "      <td>0.105</td>\n",
       "      <td>0.610</td>\n",
       "      <td>1</td>\n",
       "      <td>0</td>\n",
       "      <td>0</td>\n",
       "      <td>0</td>\n",
       "      <td>0</td>\n",
       "      <td>1</td>\n",
       "      <td>0</td>\n",
       "    </tr>\n",
       "    <tr>\n",
       "      <th>3</th>\n",
       "      <td>1.261</td>\n",
       "      <td>0.670</td>\n",
       "      <td>0.751</td>\n",
       "      <td>1.656</td>\n",
       "      <td>0.610</td>\n",
       "      <td>1</td>\n",
       "      <td>0</td>\n",
       "      <td>0</td>\n",
       "      <td>0</td>\n",
       "      <td>1</td>\n",
       "      <td>0</td>\n",
       "      <td>0</td>\n",
       "    </tr>\n",
       "    <tr>\n",
       "      <th>...</th>\n",
       "      <td>...</td>\n",
       "      <td>...</td>\n",
       "      <td>...</td>\n",
       "      <td>...</td>\n",
       "      <td>...</td>\n",
       "      <td>...</td>\n",
       "      <td>...</td>\n",
       "      <td>...</td>\n",
       "      <td>...</td>\n",
       "      <td>...</td>\n",
       "      <td>...</td>\n",
       "      <td>...</td>\n",
       "    </tr>\n",
       "    <tr>\n",
       "      <th>1114</th>\n",
       "      <td>0.262</td>\n",
       "      <td>-0.616</td>\n",
       "      <td>0.456</td>\n",
       "      <td>0.105</td>\n",
       "      <td>0.610</td>\n",
       "      <td>1</td>\n",
       "      <td>0</td>\n",
       "      <td>0</td>\n",
       "      <td>0</td>\n",
       "      <td>0</td>\n",
       "      <td>0</td>\n",
       "      <td>0</td>\n",
       "    </tr>\n",
       "    <tr>\n",
       "      <th>368</th>\n",
       "      <td>0.262</td>\n",
       "      <td>0.670</td>\n",
       "      <td>0.633</td>\n",
       "      <td>-0.670</td>\n",
       "      <td>0.610</td>\n",
       "      <td>0</td>\n",
       "      <td>0</td>\n",
       "      <td>0</td>\n",
       "      <td>0</td>\n",
       "      <td>1</td>\n",
       "      <td>1</td>\n",
       "      <td>0</td>\n",
       "    </tr>\n",
       "    <tr>\n",
       "      <th>648</th>\n",
       "      <td>-0.973</td>\n",
       "      <td>-1.473</td>\n",
       "      <td>-2.191</td>\n",
       "      <td>0.105</td>\n",
       "      <td>0.610</td>\n",
       "      <td>1</td>\n",
       "      <td>0</td>\n",
       "      <td>1</td>\n",
       "      <td>0</td>\n",
       "      <td>1</td>\n",
       "      <td>0</td>\n",
       "      <td>1</td>\n",
       "    </tr>\n",
       "    <tr>\n",
       "      <th>121</th>\n",
       "      <td>0.909</td>\n",
       "      <td>-1.473</td>\n",
       "      <td>-2.191</td>\n",
       "      <td>-0.670</td>\n",
       "      <td>0.610</td>\n",
       "      <td>0</td>\n",
       "      <td>0</td>\n",
       "      <td>0</td>\n",
       "      <td>0</td>\n",
       "      <td>1</td>\n",
       "      <td>0</td>\n",
       "      <td>0</td>\n",
       "    </tr>\n",
       "    <tr>\n",
       "      <th>1537</th>\n",
       "      <td>1.144</td>\n",
       "      <td>1.099</td>\n",
       "      <td>0.751</td>\n",
       "      <td>0.105</td>\n",
       "      <td>0.610</td>\n",
       "      <td>1</td>\n",
       "      <td>0</td>\n",
       "      <td>0</td>\n",
       "      <td>0</td>\n",
       "      <td>1</td>\n",
       "      <td>0</td>\n",
       "      <td>0</td>\n",
       "    </tr>\n",
       "  </tbody>\n",
       "</table>\n",
       "<p>1496 rows × 12 columns</p>\n",
       "</div>"
      ],
      "text/plain": [
       "      test_score     ap  avg_ap  sat_subjects    gpa  female  minority  \\\n",
       "584       -0.620  0.670   0.398         0.881  0.108       1         0   \n",
       "1817       0.026  1.099  -0.034         0.105  0.460       1         0   \n",
       "1308      -0.268 -0.616   0.456         0.105 -0.896       0         0   \n",
       "1336      -0.385  1.099  -0.230         0.105  0.610       1         0   \n",
       "3          1.261  0.670   0.751         1.656  0.610       1         0   \n",
       "...          ...    ...     ...           ...    ...     ...       ...   \n",
       "1114       0.262 -0.616   0.456         0.105  0.610       1         0   \n",
       "368        0.262  0.670   0.633        -0.670  0.610       0         0   \n",
       "648       -0.973 -1.473  -2.191         0.105  0.610       1         0   \n",
       "121        0.909 -1.473  -2.191        -0.670  0.610       0         0   \n",
       "1537       1.144  1.099   0.751         0.105  0.610       1         0   \n",
       "\n",
       "      international  sports  harvard  early_app  alumni  \n",
       "584               0       0        1          1       0  \n",
       "1817              0       0        0          0       0  \n",
       "1308              0       0        0          0       0  \n",
       "1336              0       0        0          1       0  \n",
       "3                 0       0        1          0       0  \n",
       "...             ...     ...      ...        ...     ...  \n",
       "1114              0       0        0          0       0  \n",
       "368               0       0        1          1       0  \n",
       "648               1       0        1          0       1  \n",
       "121               0       0        1          0       0  \n",
       "1537              0       0        1          0       0  \n",
       "\n",
       "[1496 rows x 12 columns]"
      ]
     },
     "execution_count": 488,
     "metadata": {},
     "output_type": "execute_result"
    }
   ],
   "source": [
    "X_train[predictor_list]"
   ]
  },
  {
   "cell_type": "code",
   "execution_count": 489,
   "metadata": {
    "tags": []
   },
   "outputs": [
    {
     "name": "stderr",
     "output_type": "stream",
     "text": [
      "C:\\Users\\sykri\\AppData\\Local\\Temp\\ipykernel_6120\\1782036842.py:14: SettingWithCopyWarning: \n",
      "A value is trying to be set on a copy of a slice from a DataFrame.\n",
      "Try using .loc[row_indexer,col_indexer] = value instead\n",
      "\n",
      "See the caveats in the documentation: https://pandas.pydata.org/pandas-docs/stable/user_guide/indexing.html#returning-a-view-versus-a-copy\n",
      "  X_train[non_binary_predictors] = scaler.transform(X_train[non_binary_predictors])\n",
      "C:\\Users\\sykri\\AppData\\Local\\Temp\\ipykernel_6120\\1782036842.py:15: SettingWithCopyWarning: \n",
      "A value is trying to be set on a copy of a slice from a DataFrame.\n",
      "Try using .loc[row_indexer,col_indexer] = value instead\n",
      "\n",
      "See the caveats in the documentation: https://pandas.pydata.org/pandas-docs/stable/user_guide/indexing.html#returning-a-view-versus-a-copy\n",
      "  X_test[non_binary_predictors] = scaler.transform(X_test[non_binary_predictors])\n"
     ]
    }
   ],
   "source": [
    "# your code here\n",
    "X_train = college_train[predictor_list]\n",
    "X_test = college_test[predictor_list]\n",
    "y_train = college_train[\"admitted\"]\n",
    "y_test = college_test[\"admitted\"]\n",
    "\n",
    "# scale non_binary predictors\n",
    "non_binary_predictors = [\"test_score\", \"ap\", \"avg_ap\", \"sat_subjects\", \"gpa\"]\n",
    "\n",
    "# Be certain to ONLY EVER fit your scaler on X train (NEVER fit it on test)\n",
    "scaler = StandardScaler().fit(X_train[non_binary_predictors])\n",
    "\n",
    "# Use your train-fitted scaler to transform both X train and X test\n",
    "X_train[non_binary_predictors] = scaler.transform(X_train[non_binary_predictors])\n",
    "X_test[non_binary_predictors] = scaler.transform(X_test[non_binary_predictors])\n",
    "\n",
    "logit_full = LogisticRegression(penalty='none', max_iter = 1000).fit(X_train, y_train)\n",
    "\n",
    "#Predict\n",
    "y_pred_train = logit_full.predict(X_train)\n",
    "y_pred_test = logit_full.predict(X_test)\n",
    "\n",
    "logit_full_train_acc = accuracy_score(y_train, y_pred_train)\n",
    "logit_full_test_acc = accuracy_score(y_test, y_pred_test)"
   ]
  },
  {
   "cell_type": "code",
   "execution_count": 490,
   "metadata": {
    "tags": []
   },
   "outputs": [
    {
     "name": "stdout",
     "output_type": "stream",
     "text": [
      "The intercept and coefficients for the 'logit_full' model are:\n",
      "\n",
      "\tintercept           -1.7090\n",
      "\ttest_score          0.7838\n",
      "\tap                  -0.1403\n",
      "\tavg_ap              0.0975\n",
      "\tsat_subjects        -0.0952\n",
      "\tgpa                 0.1056\n",
      "\tfemale              0.0518\n",
      "\tminority            0.9165\n",
      "\tinternational       0.4500\n",
      "\tsports              1.2334\n",
      "\tharvard             0.2581\n",
      "\tearly_app           0.3737\n",
      "\talumni              0.6629\n",
      "\n",
      "The classification accuracies for 'logit_full' are:\n",
      "\n",
      "\tTrain\t0.7453\n",
      "\tTEST\t0.7147\n"
     ]
    }
   ],
   "source": [
    "# display your results\n",
    "print(\n",
    "    \"The intercept and coefficients for the 'logit_full' model are:\"\n",
    "    \"\\n\\n\\t{:<20}{:.4f}\".format(\n",
    "        \"intercept\", np.array(logit_full.intercept_).flatten()[0]\n",
    "    )\n",
    ")\n",
    "\n",
    "for predictor, coef in zip(predictor_list, logit_full.coef_.flatten()):\n",
    "    print(\"\\t{:<20}{:.4f}\".format(predictor, coef))\n",
    "\n",
    "print(\n",
    "    \"\\nThe classification accuracies for 'logit_full' are:\"\n",
    "    \"\\n\\n\\tTrain\\t{:.4f}\\n\\tTEST\\t{:.4f}\"\n",
    "    .format(logit_full_train_acc, logit_full_test_acc)\n",
    ")\n",
    "\n",
    "# store test score to dict for later use\n",
    "q4_test_scores[\"logit_full\"] = logit_full_test_acc\n",
    "q4_train_scores[\"logit_full\"] = logit_full_train_acc"
   ]
  },
  {
   "cell_type": "code",
   "execution_count": 491,
   "metadata": {
    "deletable": false,
    "editable": false
   },
   "outputs": [
    {
     "data": {
      "text/html": [
       "<p><strong><pre style='display: inline;'>q4.3</pre></strong> passed! 🌟</p>"
      ],
      "text/plain": [
       "q4.3 results: All test cases passed!"
      ]
     },
     "execution_count": 491,
     "metadata": {},
     "output_type": "execute_result"
    }
   ],
   "source": [
    "grader.check(\"q4.3\")"
   ]
  },
  {
   "cell_type": "markdown",
   "metadata": {
    "cell_id": "0a790850-87c6-4f46-b89e-048a2295c92b",
    "colab_type": "text",
    "id": "IGFtXJmQap2q"
   },
   "source": [
    "<div class='exercise-r'>\n",
    "\n",
    "**Q4.4** Fit a well-tuned Lasso-like logistic regression model from all 12 predictors in it (call it `logit_lasso`). Use `Cs = [1e-4, 1e-3, 1e-2, 1e-1, 1e0, 1e1, 1e2, 1e3, 1e4]` and 10-fold cross-validation with classification accuracy as the scoring metric. Store the classification accuracy on train and test for this model in `logit_lasso_train_acc` and `logit_lasso_test_acc`.\n",
    "\n",
    "</div>\n",
    "\n",
    "_Points:_ 4"
   ]
  },
  {
   "cell_type": "code",
   "execution_count": 492,
   "metadata": {},
   "outputs": [
    {
     "name": "stderr",
     "output_type": "stream",
     "text": [
      "C:\\Users\\sykri\\AppData\\Local\\Temp\\ipykernel_6120\\1502113757.py:13: SettingWithCopyWarning: \n",
      "A value is trying to be set on a copy of a slice from a DataFrame.\n",
      "Try using .loc[row_indexer,col_indexer] = value instead\n",
      "\n",
      "See the caveats in the documentation: https://pandas.pydata.org/pandas-docs/stable/user_guide/indexing.html#returning-a-view-versus-a-copy\n",
      "  X_train[non_binary_predictors] = scaler.transform(X_train[non_binary_predictors])\n",
      "C:\\Users\\sykri\\AppData\\Local\\Temp\\ipykernel_6120\\1502113757.py:14: SettingWithCopyWarning: \n",
      "A value is trying to be set on a copy of a slice from a DataFrame.\n",
      "Try using .loc[row_indexer,col_indexer] = value instead\n",
      "\n",
      "See the caveats in the documentation: https://pandas.pydata.org/pandas-docs/stable/user_guide/indexing.html#returning-a-view-versus-a-copy\n",
      "  X_test[non_binary_predictors] = scaler.transform(X_test[non_binary_predictors])\n"
     ]
    }
   ],
   "source": [
    "X_train = college_train[predictor_list]\n",
    "X_test = college_test[predictor_list]\n",
    "y_train = college_train[\"admitted\"]\n",
    "y_test = college_test[\"admitted\"]\n",
    "\n",
    "# scale non_binary predictors\n",
    "non_binary_predictors = [\"test_score\", \"ap\", \"avg_ap\", \"sat_subjects\", \"gpa\"]\n",
    "\n",
    "# Be certain to ONLY EVER fit your scaler on X train (NEVER fit it on test)\n",
    "scaler = StandardScaler().fit(X_train[non_binary_predictors])\n",
    "\n",
    "# Use your train-fitted scaler to transform both X train and X test\n",
    "X_train[non_binary_predictors] = scaler.transform(X_train[non_binary_predictors])\n",
    "X_test[non_binary_predictors] = scaler.transform(X_test[non_binary_predictors])"
   ]
  },
  {
   "cell_type": "code",
   "execution_count": 493,
   "metadata": {
    "tags": []
   },
   "outputs": [],
   "source": [
    "Cs = [1e-4,1e-3,1e-2,1e-1,1e0,1e1,1e2,1e3,1e4]\n",
    "cv = 3\n",
    "penalty = 'l1'\n",
    "solver = 'liblinear'\n",
    "\n",
    "logit_lasso = LogisticRegressionCV(\n",
    "    Cs=Cs, cv=cv, penalty=penalty, solver='liblinear'\n",
    ").fit(X_train, y_train)\n",
    "\n",
    "logit_lasso_train_acc = logit_lasso.score(X_train, y_train)\n",
    "logit_lasso_test_acc = logit_lasso.score(X_test, y_test)"
   ]
  },
  {
   "cell_type": "code",
   "execution_count": 494,
   "metadata": {
    "tags": []
   },
   "outputs": [
    {
     "name": "stdout",
     "output_type": "stream",
     "text": [
      "The intercept and coefficients for the 'logit_lasso' model are:\n",
      "\n",
      "\tintercept           -1.7011\n",
      "\ttest_score          0.7819\n",
      "\tap                  -0.1388\n",
      "\tavg_ap              0.0952\n",
      "\tsat_subjects        -0.0943\n",
      "\tgpa                 0.1045\n",
      "\tfemale              0.0491\n",
      "\tminority            0.9120\n",
      "\tinternational       0.4403\n",
      "\tsports              1.2213\n",
      "\tharvard             0.2544\n",
      "\tearly_app           0.3700\n",
      "\talumni              0.6562\n",
      "\n",
      "The classification accuracies for 'logit_lasso' are:\n",
      "\n",
      "\tTrain\t0.7453\n",
      "\tTEST\t0.7147\n"
     ]
    }
   ],
   "source": [
    "# Display your results\n",
    "print(\n",
    "    \"The intercept and coefficients for the 'logit_lasso' model are:\"\n",
    "    \"\\n\\n\\t{:<20}{:.4f}\".format(\n",
    "        \"intercept\", np.array(logit_lasso.intercept_).flatten()[0]\n",
    "    )\n",
    ")\n",
    "\n",
    "# Again, this code assumes predictors were given to the model\n",
    "# in the order defined in `predictor_list`\n",
    "for predictor, coef in zip(predictor_list, logit_lasso.coef_.flatten()):\n",
    "    print(\"\\t{:<20}{:.4f}\".format(predictor, coef))\n",
    "\n",
    "print(\n",
    "    \"\\nThe classification accuracies for 'logit_lasso' are:\"\n",
    "    \"\\n\\n\\tTrain\\t{:.4f}\\n\\tTEST\\t{:.4f}\"\n",
    "    .format(logit_lasso_train_acc, logit_lasso_test_acc)\n",
    ")\n",
    "\n",
    "# store test score to dict for later use\n",
    "q4_test_scores[\"logit_lasso\"] = logit_lasso_test_acc\n",
    "q4_train_scores[\"logit_lasso\"] = logit_lasso_train_acc"
   ]
  },
  {
   "cell_type": "code",
   "execution_count": 495,
   "metadata": {
    "deletable": false,
    "editable": false
   },
   "outputs": [
    {
     "data": {
      "text/html": [
       "<p><strong><pre style='display: inline;'>q4.4</pre></strong> passed! 💯</p>"
      ],
      "text/plain": [
       "q4.4 results: All test cases passed!"
      ]
     },
     "execution_count": 495,
     "metadata": {},
     "output_type": "execute_result"
    }
   ],
   "source": [
    "grader.check(\"q4.4\")"
   ]
  },
  {
   "cell_type": "markdown",
   "metadata": {
    "cell_id": "0a790850-87c6-4f46-b89e-048a2295c92b",
    "colab_type": "text",
    "id": "IGFtXJmQap2q"
   },
   "source": [
    "<div class='exercise-r'>\n",
    "\n",
    "**4.5** Which predictors were deemed important in `logit_lasso`?  Which were deemed unimportant? Please remember that, as a general practice, zero-value Lasso coefficients (i.e. $\\beta_i=0$) are considered \"unimportant\". Store your results in `predictors_important` and `predictors_not_important`.\n",
    " \n",
    "</div>\n",
    "\n",
    "_Points:_ 3"
   ]
  },
  {
   "cell_type": "code",
   "execution_count": 496,
   "metadata": {},
   "outputs": [
    {
     "data": {
      "text/plain": [
       "[('test_score', 0.7818896727487106),\n",
       " ('ap', -0.13875027929447895),\n",
       " ('avg_ap', 0.09519351986963881),\n",
       " ('sat_subjects', -0.09432375141734753),\n",
       " ('gpa', 0.10453626651256194),\n",
       " ('female', 0.0491499120202736),\n",
       " ('minority', 0.9119747353939811),\n",
       " ('international', 0.44032922005913283),\n",
       " ('sports', 1.2213047743233063),\n",
       " ('harvard', 0.25437904633661845),\n",
       " ('early_app', 0.3700282521737498),\n",
       " ('alumni', 0.6562321632463909)]"
      ]
     },
     "execution_count": 496,
     "metadata": {},
     "output_type": "execute_result"
    }
   ],
   "source": [
    "# pd.DataFrame(zip(predictor_list, logit_lasso.coef_.flatten()), columns=[\"Predictors\",\"Coefficient\"])\n",
    "list(zip(predictor_list, logit_lasso.coef_.flatten()))"
   ]
  },
  {
   "cell_type": "code",
   "execution_count": 497,
   "metadata": {
    "tags": []
   },
   "outputs": [],
   "source": [
    "# your code here\n",
    "imp = []\n",
    "non_imp = [] \n",
    "for i, coef in enumerate(logit_lasso.coef_.flatten()):\n",
    "    if coef != 0:\n",
    "        imp.append(predictor_list[i])\n",
    "    else:\n",
    "        non_imp.append(predictor_list[i])\n",
    "\n",
    "predictors_important = imp\n",
    "predictors_not_important = non_imp"
   ]
  },
  {
   "cell_type": "code",
   "execution_count": 498,
   "metadata": {
    "tags": []
   },
   "outputs": [
    {
     "name": "stdout",
     "output_type": "stream",
     "text": [
      "The following predictors were deemed important by 'logit_lasso' (i.e. coef != 0):\n",
      "\n",
      "\t['test_score', 'ap', 'avg_ap', 'sat_subjects', 'gpa', 'female', 'minority', 'international', 'sports', 'harvard', 'early_app', 'alumni']\n",
      "\n",
      "\n",
      "While, the remaining were deemed unimportant (i.e. coef == 0):\n",
      "\n",
      "\t[]\n"
     ]
    }
   ],
   "source": [
    "# display results\n",
    "print(\n",
    "    \"The following predictors were deemed important by \"\n",
    "    \"'logit_lasso' (i.e. coef != 0):\\n\\n\\t{}\\n\\n\\n\"\n",
    "    \"While, the remaining were deemed unimportant (i.e. \"\n",
    "    \"coef == 0):\\n\\n\\t{}\"\n",
    "    .format(\n",
    "        predictors_important,\n",
    "        predictors_not_important,\n",
    "    )\n",
    ")"
   ]
  },
  {
   "cell_type": "code",
   "execution_count": 499,
   "metadata": {
    "deletable": false,
    "editable": false
   },
   "outputs": [
    {
     "data": {
      "text/html": [
       "<p><strong><pre style='display: inline;'>q4.5</pre></strong> passed! 🌟</p>"
      ],
      "text/plain": [
       "q4.5 results: All test cases passed!"
      ]
     },
     "execution_count": 499,
     "metadata": {},
     "output_type": "execute_result"
    }
   ],
   "source": [
    "grader.check(\"q4.5\")"
   ]
  },
  {
   "cell_type": "markdown",
   "metadata": {
    "cell_id": "0a790850-87c6-4f46-b89e-048a2295c92b",
    "colab_type": "text",
    "id": "IGFtXJmQap2q"
   },
   "source": [
    "<div class='exercise-r'>\n",
    "\n",
    "**Q4.6** Fit a well-tuned Lasso-like logistic regression model with all important predictors from `logit_lasso` and all the unique 2-way interactions between them (call it `lasso_interact`).  Again use `Cs = [1e-4, 1e-3, 1e-2, 1e-1, 1e0, 1e1, 1e2, 1e3, 1e4]` and 10-fold cross-validation with classification accuracy as the scoring metric. Record the accuracy on train and test for this model in `lasso_interact_train_acc` and `lasso_interact_test_acc`.\n",
    "\n",
    "</div>\n",
    "\n",
    "_Points:_ 4"
   ]
  },
  {
   "cell_type": "code",
   "execution_count": 500,
   "metadata": {},
   "outputs": [
    {
     "name": "stderr",
     "output_type": "stream",
     "text": [
      "C:\\Users\\sykri\\AppData\\Local\\Temp\\ipykernel_6120\\3726512184.py:13: SettingWithCopyWarning: \n",
      "A value is trying to be set on a copy of a slice from a DataFrame.\n",
      "Try using .loc[row_indexer,col_indexer] = value instead\n",
      "\n",
      "See the caveats in the documentation: https://pandas.pydata.org/pandas-docs/stable/user_guide/indexing.html#returning-a-view-versus-a-copy\n",
      "  X_train[non_binary_predictors] = scaler.transform(X_train[non_binary_predictors])\n",
      "C:\\Users\\sykri\\AppData\\Local\\Temp\\ipykernel_6120\\3726512184.py:14: SettingWithCopyWarning: \n",
      "A value is trying to be set on a copy of a slice from a DataFrame.\n",
      "Try using .loc[row_indexer,col_indexer] = value instead\n",
      "\n",
      "See the caveats in the documentation: https://pandas.pydata.org/pandas-docs/stable/user_guide/indexing.html#returning-a-view-versus-a-copy\n",
      "  X_test[non_binary_predictors] = scaler.transform(X_test[non_binary_predictors])\n"
     ]
    }
   ],
   "source": [
    "X_train = college_train[predictor_list]\n",
    "X_test = college_test[predictor_list]\n",
    "y_train = college_train[\"admitted\"]\n",
    "y_test = college_test[\"admitted\"]\n",
    "\n",
    "# scale non_binary predictors\n",
    "non_binary_predictors = [\"test_score\", \"ap\", \"avg_ap\", \"sat_subjects\", \"gpa\"]\n",
    "\n",
    "# Be certain to ONLY EVER fit your scaler on X train (NEVER fit it on test)\n",
    "scaler = StandardScaler().fit(X_train[non_binary_predictors])\n",
    "\n",
    "# Use your train-fitted scaler to transform both X train and X test\n",
    "X_train[non_binary_predictors] = scaler.transform(X_train[non_binary_predictors])\n",
    "X_test[non_binary_predictors] = scaler.transform(X_test[non_binary_predictors])\n"
   ]
  },
  {
   "cell_type": "code",
   "execution_count": 501,
   "metadata": {},
   "outputs": [],
   "source": [
    "# Get interaction terms\n",
    "poly = PolynomialFeatures(interaction_only=True, include_bias=False)\n",
    "X_poly_train = poly.fit_transform(X_train)\n",
    "X_poly_test = poly.transform(X_test)\n",
    "\n",
    "# make into DataFrame\n",
    "X_poly_train_df = pd.DataFrame(X_poly_train, columns=poly.get_feature_names_out())\n",
    "X_poly_test_df = pd.DataFrame(X_poly_test, columns=poly.get_feature_names_out())"
   ]
  },
  {
   "cell_type": "code",
   "execution_count": 502,
   "metadata": {
    "scrolled": true,
    "tags": []
   },
   "outputs": [],
   "source": [
    "# your code here\n",
    "Cs = [1e-4,1e-3,1e-2,1e-1,1e0,1e1,1e2,1e3,1e4]\n",
    "cv = 10\n",
    "penalty = 'l1'\n",
    "solver = 'liblinear'\n",
    "\n",
    "lasso_interact = LogisticRegressionCV(\n",
    "    Cs=Cs, cv=cv, penalty=penalty, solver='liblinear'\n",
    ").fit(X_poly_train_df, y_train)\n",
    "\n",
    "lasso_interact_train_acc = lasso_interact.score(X_poly_train_df, y_train)\n",
    "lasso_interact_test_acc = lasso_interact.score(X_poly_test_df, y_test)"
   ]
  },
  {
   "cell_type": "code",
   "execution_count": 503,
   "metadata": {
    "scrolled": true,
    "tags": []
   },
   "outputs": [
    {
     "name": "stdout",
     "output_type": "stream",
     "text": [
      "\n",
      "The classification accuracies for 'logit_lasso_interact' are:\n",
      "\n",
      "\tTrain\t0.7647\n",
      "\tTEST\t0.7040\n",
      "\n"
     ]
    }
   ],
   "source": [
    "print(\n",
    "    \"\\nThe classification accuracies for 'logit_lasso_interact' are:\"\n",
    "    \"\\n\\n\\tTrain\\t{:.4f}\\n\\tTEST\\t{:.4f}\\n\"\n",
    "    .format(lasso_interact_train_acc, lasso_interact_test_acc)\n",
    ")\n",
    "\n",
    "# store test score to dict for later use\n",
    "q4_test_scores[\"lasso_interact\"] = lasso_interact_test_acc\n",
    "q4_train_scores[\"lasso_interact\"] = lasso_interact_train_acc"
   ]
  },
  {
   "cell_type": "markdown",
   "metadata": {
    "cell_id": "0a790850-87c6-4f46-b89e-048a2295c92b",
    "colab_type": "text",
    "id": "IGFtXJmQap2q"
   },
   "source": [
    "<div class='exercise-r'>\n",
    "\n",
    "**Q4.7** How many of the predictors in our `logit_lasso_interact` model were deemed important and unimportant? Store these numbers in `num_important_coefs` and `num_unimportant_coefs`. \n",
    "    \n",
    "</div>\n",
    "\n",
    "_Points:_ 2"
   ]
  },
  {
   "cell_type": "code",
   "execution_count": 504,
   "metadata": {
    "tags": []
   },
   "outputs": [],
   "source": [
    "# your code here\n",
    "imp = []\n",
    "non_imp = [] \n",
    "col_headers = X_poly_train_df.columns\n",
    "for i, coef in enumerate(lasso_interact.coef_.flatten()):\n",
    "    if coef != 0:\n",
    "        imp.append(col_headers[i])\n",
    "    else:\n",
    "        non_imp.append(col_headers[i])\n",
    "\n",
    "num_important_coefs = len(imp)\n",
    "num_unimportant_coefs = list(lasso_interact.coef_.flatten()).count(0)"
   ]
  },
  {
   "cell_type": "code",
   "execution_count": 505,
   "metadata": {},
   "outputs": [
    {
     "data": {
      "text/plain": [
       "18"
      ]
     },
     "execution_count": 505,
     "metadata": {},
     "output_type": "execute_result"
    }
   ],
   "source": [
    "list(lasso_interact.coef_.flatten()).count(0)"
   ]
  },
  {
   "cell_type": "code",
   "execution_count": 506,
   "metadata": {
    "tags": []
   },
   "outputs": [
    {
     "name": "stdout",
     "output_type": "stream",
     "text": [
      "Of the 78 predictors used in our 'logit_lasso_interact' model:\n",
      "\n",
      "\t60 predictors were deemed 'important' by our model\n",
      "\t18 predictors were deemed 'unimportant' with 0-valued coefficients\n"
     ]
    }
   ],
   "source": [
    "print(\n",
    "    \"Of the {} predictors used in our 'logit_lasso_interact' model:\"\n",
    "    \"\\n\\n\\t{} predictors were deemed 'important' by our model\"\n",
    "    \"\\n\\t{} predictors were deemed 'unimportant' with 0-valued \"\n",
    "    \"coefficients\".format(\n",
    "        num_important_coefs + num_unimportant_coefs,\n",
    "        num_important_coefs,\n",
    "        num_unimportant_coefs\n",
    "    )\n",
    ")"
   ]
  },
  {
   "cell_type": "markdown",
   "metadata": {},
   "source": [
    "---"
   ]
  },
  {
   "cell_type": "markdown",
   "metadata": {},
   "source": [
    "<a id=\"part5\"></a>\n",
    "\n",
    "## <div class='exercise'>Question 5: Evaluating results [12 pts]</div>\n",
    "\n",
    "[Return to contents](#contents)"
   ]
  },
  {
   "cell_type": "markdown",
   "metadata": {
    "cell_id": "0a790850-87c6-4f46-b89e-048a2295c92b",
    "colab_type": "text",
    "id": "IGFtXJmQap2q"
   },
   "source": [
    "<!-- BEGIN QUESTION -->\n",
    "\n",
    "<div class='exercise-r'>\n",
    "\n",
    "**Q5.1** Which of the 4 models in Question 4 performs the best based on classification accuracy?  Which performs the worst? Based on these accuracies, how do these models perform compared to your baseline \"naive\" model back in Question 1.1? What does this comparison to the \"naive\" model tell us?\n",
    "    \n",
    "</div>\n",
    "\n",
    "_Points:_ 2.5"
   ]
  },
  {
   "cell_type": "code",
   "execution_count": 507,
   "metadata": {},
   "outputs": [
    {
     "name": "stdout",
     "output_type": "stream",
     "text": [
      "The TEST accuracies for the 4 models in Q4 are:\n",
      "\n",
      "\tknn_model                0.7013\n",
      "\tlogit_full               0.7147\n",
      "\tlogit_lasso              0.7147\n",
      "\tlasso_interact           0.7040\n",
      "\n",
      "The TEST accuracy for our original baseline \"naive\" model was 0.7013\n"
     ]
    }
   ],
   "source": [
    "# your code here\n",
    "print(\"The TEST accuracies for the 4 models in Q4 are:\\n\")\n",
    "for key, value in q4_test_scores.items():\n",
    "    print(\"\\t{:<25}{:.4f}\".format(key, value))\n",
    "print(\n",
    "    \"\\nThe TEST accuracy for our original baseline \\\"naive\\\" \"\n",
    "    \"model was {:.4f}\".format(naive_test_acc)\n",
    ")"
   ]
  },
  {
   "cell_type": "markdown",
   "metadata": {},
   "source": [
    "The best model(s) based on classification accuracy are `logit_full` and `logit_lasso`, followed by `lasso_interact`. All three models are improvements over the \"naive\" model. In all cases, these improvements are marginal. The equal accuracies between `logit_full` and `logit_lasso` suggest that adding a regularization term does NOT improve the model, and adding interaction terms slightly worsens the accuracy closer to the \"naive\" model.\n",
    "\n",
    "The worst model is `knn_model`, which performs equally as the \"naive\" model. This means that predictions by `knn_model` is no better than assigning the same value to all datapoints. Revisiting the MSE plots shows high MSE standard deviation for training data at the best k that overlaps with poorer ks - supporting this model's unreliability in predicting admission."
   ]
  },
  {
   "cell_type": "markdown",
   "metadata": {
    "cell_id": "0a790850-87c6-4f46-b89e-048a2295c92b",
    "colab_type": "text",
    "id": "IGFtXJmQap2q"
   },
   "source": [
    "<!-- END QUESTION -->\n",
    "\n",
    "<!-- BEGIN QUESTION -->\n",
    "\n",
    "<div class='exercise-r'>\n",
    "\n",
    "**Q5.2** Draw the four ROC curves on the same set of axes using the test data.  How do these ROC curves compare?  Do the ROC curves support that the best model identified in Question 5.1 is better than the worst model identified in 5.1?  How do you know?\n",
    "    \n",
    "</div>\n",
    "\n",
    "_Points:_ 4.5"
   ]
  },
  {
   "cell_type": "markdown",
   "metadata": {},
   "source": [
    "The ROC curves do support the best models identified in Question 5.1. In plot Q5.2.4 below, ROC plots for `logit_full` and `logit_lasso` seem to overlap each other. Overall, the ROC curves support the the best model identified in Question 5.1 is better than the worst model. When overlaid with the 2 other worse models, it can be observed regions where `logit_full` and `logit_lasso` curves are higher up the y-axis than the other 2 models, suggesting more Area Under the Curve (AUC). \n",
    "\n",
    "The `knn model` (worst model) has a clear underperforming region at FPRs between 0.4 and 0.7. KNN's performance is equal to the \"naive' model, but is still slightly better than chance - this is suspicious because it suggests a bias in the data (in this case, a bias against admission). This bias gives the \"naive\" and knn model has a higher probability of correctly classifying admission."
   ]
  },
  {
   "cell_type": "code",
   "execution_count": 508,
   "metadata": {
    "tags": []
   },
   "outputs": [
    {
     "data": {
      "image/png": "[encoded data removed]",
      "text/plain": [
       "<Figure size 640x480 with 1 Axes>"
      ]
     },
     "metadata": {},
     "output_type": "display_data"
    }
   ],
   "source": [
    "# KNN Model\n",
    "# Plot the ROC curve\n",
    "# model_ks[best_idx] was used for KNN model\n",
    "yhat_knn = model_ks[best_idx].predict_proba(X_test)[:,1]\n",
    "\n",
    "fpr, tpr, thresholds = roc_curve(y_test, yhat_knn)\n",
    "\n",
    "x=np.arange(0,100)/100\n",
    "plt.plot(x,x,'--',color=\"gray\",alpha=0.3)\n",
    "plt.plot(fpr,tpr,label=\"Test Data\")\n",
    "plt.ylabel(\"True Positive Rate\")\n",
    "plt.xlabel(\"False Positive Rate\")\n",
    "plt.title(f\"Q5.2.1: ROC Curve for Predicting college admission in a KNN Model of best k = {ks[best_idx]}\")\n",
    "plt.legend()\n",
    "plt.show()"
   ]
  },
  {
   "cell_type": "code",
   "execution_count": 509,
   "metadata": {
    "tags": []
   },
   "outputs": [
    {
     "data": {
      "image/png": "[encoded data removed]",
      "text/plain": [
       "<Figure size 640x480 with 1 Axes>"
      ]
     },
     "metadata": {},
     "output_type": "display_data"
    }
   ],
   "source": [
    "# Logit Full\n",
    "# Plot the ROC curve\n",
    "yhat_logit_full = logit_full.predict_proba(X_test)[:,1]\n",
    "\n",
    "fpr, tpr, thresholds = roc_curve(y_test, yhat_logit_full)\n",
    "\n",
    "x=np.arange(0,100)/100\n",
    "plt.plot(x,x,'--',color=\"gray\",alpha=0.3)\n",
    "plt.plot(fpr,tpr,label=\"Test Data\")\n",
    "plt.ylabel(\"True Positive Rate\")\n",
    "plt.xlabel(\"False Positive Rate\")\n",
    "plt.title(f\"Q5.2.2: ROC Curve for Predicting college admission for logit_full model\")\n",
    "plt.legend()\n",
    "plt.show()"
   ]
  },
  {
   "cell_type": "code",
   "execution_count": 510,
   "metadata": {},
   "outputs": [
    {
     "data": {
      "image/png": "[encoded data removed]",
      "text/plain": [
       "<Figure size 640x480 with 1 Axes>"
      ]
     },
     "metadata": {},
     "output_type": "display_data"
    }
   ],
   "source": [
    "# Logit Full\n",
    "# Plot the ROC curve\n",
    "yhat_logit_lasso = logit_lasso.predict_proba(X_test)[:,1]\n",
    "\n",
    "fpr1, tpr1, thresholds1 = roc_curve(y_test, yhat_logit_lasso)\n",
    "\n",
    "\n",
    "x=np.arange(0,100)/100\n",
    "plt.plot(x,x,'--',color=\"gray\",alpha=0.3)\n",
    "plt.plot(fpr1,tpr1,label=\"Test Data\")\n",
    "plt.ylabel(\"True Positive Rate\")\n",
    "plt.xlabel(\"False Positive Rate\")\n",
    "plt.title(f\"Q5.2.3: ROC Curve for Predicting college admission for logit_lasso model\")\n",
    "plt.legend()\n",
    "plt.show()"
   ]
  },
  {
   "cell_type": "code",
   "execution_count": 511,
   "metadata": {},
   "outputs": [
    {
     "data": {
      "image/png": "[encoded data removed]",
      "text/plain": [
       "<Figure size 640x480 with 1 Axes>"
      ]
     },
     "metadata": {},
     "output_type": "display_data"
    }
   ],
   "source": [
    "# Logit Full\n",
    "# Plot the ROC curve\n",
    "yhat_lasso_interact = lasso_interact.predict_proba(X_poly_test_df)[:,1]\n",
    "\n",
    "fpr, tpr, thresholds = roc_curve(y_test, yhat_lasso_interact)\n",
    "\n",
    "\n",
    "x=np.arange(0,100)/100\n",
    "plt.plot(x,x,'--',color=\"gray\",alpha=0.3)\n",
    "plt.plot(fpr,tpr,label=\"Test Data\")\n",
    "plt.ylabel(\"True Positive Rate\")\n",
    "plt.xlabel(\"False Positive Rate\")\n",
    "plt.title(f\"Q5.2.4: ROC Curve for Predicting college admission for lasso interact model\")\n",
    "plt.legend()\n",
    "plt.show()"
   ]
  },
  {
   "cell_type": "code",
   "execution_count": 512,
   "metadata": {
    "tags": []
   },
   "outputs": [
    {
     "data": {
      "image/png": "[encoded data removed]",
      "text/plain": [
       "<Figure size 640x480 with 1 Axes>"
      ]
     },
     "metadata": {},
     "output_type": "display_data"
    }
   ],
   "source": [
    "# All Four on the same plot\n",
    "# Plot the ROC curve\n",
    "\n",
    "fpr_knn, tpr_knn, thresholds_knn = roc_curve(y_test, yhat_knn)\n",
    "fpr_logit_full, tpr_logit_full, thresholds_logit_full, = roc_curve(y_test, yhat_logit_full)\n",
    "fpr_logit_lasso, tpr_logit_lasso, thresholds_logit_lasso, = roc_curve(y_test, yhat_logit_lasso)\n",
    "fpr_lasso_interact, tpr_lasso_interact, thresholds_lasso_interact, = roc_curve(y_test, yhat_lasso_interact)\n",
    "\n",
    "x=np.arange(0,100)/100\n",
    "plt.plot(x,x,'--',color=\"gray\",alpha=0.3)\n",
    "plt.plot(fpr_knn, tpr_knn,alpha=0.3,label=list(q4_test_scores.items())[0])\n",
    "plt.plot(fpr_logit_full, tpr_logit_full,alpha=0.3,label=list(q4_test_scores.items())[1])\n",
    "plt.plot(fpr_logit_lasso, tpr_logit_lasso,alpha=0.3,label=list(q4_test_scores.items())[2])\n",
    "plt.plot(fpr_lasso_interact, tpr_lasso_interact,alpha=0.3,label=list(q4_test_scores.items())[3])\n",
    "plt.ylabel(\"True Positive Rate\")\n",
    "plt.xlabel(\"False Positive Rate\")\n",
    "plt.title(f\"ROC Curve for Predicting college admission for all models\")\n",
    "plt.legend()\n",
    "plt.show()"
   ]
  },
  {
   "cell_type": "markdown",
   "metadata": {
    "cell_id": "0a790850-87c6-4f46-b89e-048a2295c92b",
    "colab_type": "text",
    "id": "IGFtXJmQap2q"
   },
   "source": [
    "<!-- END QUESTION -->\n",
    "\n",
    "<!-- BEGIN QUESTION -->\n",
    "\n",
    "<div class='exercise-r'>\n",
    "\n",
    "**5.3** Calculate the AUC for all 4 models and store these in `auc_list`. **The order of AUCs in the list should match the order of the model as they appear in `q4_test_scores`.**\n",
    "    \n",
    "Do the rankings of these 4 models based on AUC match those for classification accuracy?  Why do you think this is the case?\n",
    "    \n",
    "</div>\n",
    "\n",
    "_Points:_ 3"
   ]
  },
  {
   "cell_type": "markdown",
   "metadata": {},
   "source": [
    "Yes, the rankings of these 4 models based on AUC match classification accuracy. This makes sense because AUC and ROC are connected: better accuracies == better TPR over FPR and probability of classifying admission (ROC curve), which in turn == higher measure of separability (AUC)"
   ]
  },
  {
   "cell_type": "code",
   "execution_count": 513,
   "metadata": {},
   "outputs": [
    {
     "data": {
      "text/plain": [
       "{'knn_model': 0.7013333333333334,\n",
       " 'logit_full': 0.7146666666666667,\n",
       " 'logit_lasso': 0.7146666666666667,\n",
       " 'lasso_interact': 0.704}"
      ]
     },
     "execution_count": 513,
     "metadata": {},
     "output_type": "execute_result"
    }
   ],
   "source": [
    "q4_test_scores"
   ]
  },
  {
   "cell_type": "code",
   "execution_count": 514,
   "metadata": {
    "tags": []
   },
   "outputs": [],
   "source": [
    "# your code here\n",
    "# calculate each model's AUC using its ROC fpr and tpr\n",
    "auc_list = [\n",
    "    roc_auc_score(y_test,yhat_knn),\n",
    "    roc_auc_score(y_test,yhat_logit_full),\n",
    "    roc_auc_score(y_test, yhat_logit_lasso),\n",
    "    roc_auc_score(y_test,yhat_lasso_interact),\n",
    "    ]"
   ]
  },
  {
   "cell_type": "code",
   "execution_count": 515,
   "metadata": {},
   "outputs": [
    {
     "data": {
      "text/plain": [
       "[0.6737167300380228,\n",
       " 0.6964964693101575,\n",
       " 0.6965643671917436,\n",
       " 0.6826113525258012]"
      ]
     },
     "execution_count": 515,
     "metadata": {},
     "output_type": "execute_result"
    }
   ],
   "source": [
    "auc_list"
   ]
  },
  {
   "cell_type": "code",
   "execution_count": 516,
   "metadata": {
    "tags": []
   },
   "outputs": [
    {
     "name": "stdout",
     "output_type": "stream",
     "text": [
      "The TEST accuracies vs. AUC scores for the 4 models in Q4 are:\n",
      "\n",
      "\t\t\t\tAccuracy\tAUC\n",
      "\tknn_model               0.7013\t\t0.6737\n",
      "\tlogit_full              0.7147\t\t0.6965\n",
      "\tlogit_lasso             0.7147\t\t0.6966\n",
      "\tlasso_interact          0.7040\t\t0.6826\n"
     ]
    }
   ],
   "source": [
    "print(\n",
    "    \"The TEST accuracies vs. AUC scores for the 4 models in Q4 are:\"\n",
    "    \"\\n\\n\\t\\t\\t\\tAccuracy\\tAUC\"\n",
    ")\n",
    "for (key, value), auc_value in zip(q4_test_scores.items(), auc_list):\n",
    "    print(\"\\t{:<24}{:.4f}\\t\\t{:.4f}\".format(key, value, auc_value))"
   ]
  },
  {
   "cell_type": "code",
   "execution_count": 517,
   "metadata": {
    "deletable": false,
    "editable": false
   },
   "outputs": [
    {
     "data": {
      "text/html": [
       "<p><strong><pre style='display: inline;'>q5.3</pre></strong> passed! 🚀</p>"
      ],
      "text/plain": [
       "q5.3 results: All test cases passed!"
      ]
     },
     "execution_count": 517,
     "metadata": {},
     "output_type": "execute_result"
    }
   ],
   "source": [
    "grader.check(\"q5.3\")"
   ]
  },
  {
   "cell_type": "markdown",
   "metadata": {
    "cell_id": "0a790850-87c6-4f46-b89e-048a2295c92b",
    "colab_type": "text",
    "id": "IGFtXJmQap2q"
   },
   "source": [
    "<!-- END QUESTION -->\n",
    "\n",
    "<!-- BEGIN QUESTION -->\n",
    "\n",
    "<div class='exercise-r'>\n",
    "\n",
    "**Q5.4** If you were to use one of these 4 models to present as a prediction model for the website [collegedata.com](https://www.collegedata.com/), which would you use and why?  What may be the biggest issue if this was a publicly available tool for college applicants to use to determine their chances of getting into Harvard and/or Yale?\n",
    "    \n",
    "</div>\n",
    "\n",
    "_Points:_ 2"
   ]
  },
  {
   "cell_type": "code",
   "execution_count": 518,
   "metadata": {},
   "outputs": [
    {
     "name": "stdout",
     "output_type": "stream",
     "text": [
      "The TRAIN, TEST accuracies, AUC scores for the 4 models in Q4 are:\n",
      "\n",
      "\t\t\t\tTrain Accuracy\tTest Accuracy\tAUC\n",
      "\tknn_model               0.7447\t\t0.7013\t\t0.6737\n",
      "\tlogit_full              0.7453\t\t0.7147\t\t0.6965\n",
      "\tlogit_lasso             0.7453\t\t0.7147\t\t0.6966\n",
      "\tlasso_interact          0.7647\t\t0.7040\t\t0.6826\n"
     ]
    }
   ],
   "source": [
    "print(\n",
    "    \"The TRAIN, TEST accuracies, AUC scores for the 4 models in Q4 are:\"\n",
    "    \"\\n\\n\\t\\t\\t\\tTrain Accuracy\\tTest Accuracy\\tAUC\"\n",
    ")\n",
    "for (key1, value1), (key2, value2), auc_value in zip(q4_train_scores.items(), q4_test_scores.items(), auc_list):\n",
    "    print(\"\\t{:<24}{:.4f}\\t\\t{:.4f}\\t\\t{:.4f}\".format(key1, value1, value2, auc_value))"
   ]
  },
  {
   "cell_type": "markdown",
   "metadata": {},
   "source": [
    "I would use `logit_lasso` model. Firstly, the `lasso_full` model is an improvement over knn. Including lasso-like regularization did not yield any improvement in accuracy - which is suspicious, as it suggests there are other variables unaccounted for. However, this model is better than `lasso_interact`, which seems to be the most overfitted model - largest gap between train and test accuracies. The regularization aspect is important to penalize large coefficients.\n",
    "\n",
    "The biggest issue if this was a publicly available tool is that it has a relatively low accuracy rate of ~70%  for predicting admission into Yale! Additionally, the higher train accuracies over test suggest that the model is slightly overfitted. Perhaps we can eliminate predictors to reduce the overfitting issue.\n",
    "\n",
    "Additionally, another issue for these models is that there seems to be a weak correlation between `test_score` and `avg_ap`, suggesting multicollinearity, which could increase the standard error of predicted coefficients. This is not solved by regularization, inclusion of all predictors, and interaction terms in the `lasso_interact model`. \n",
    "\n",
    "Also, another important component of college applications is their personal statement, which isn't captured by the dataset. There might even be more unknown predictors unaccounted for. "
   ]
  },
  {
   "cell_type": "markdown",
   "metadata": {},
   "source": [
    "<!-- END QUESTION -->\n",
    "\n",
    "**This concludes HW5. Thank you!**\n",
    "\n",
    "[Return to contents](#contents)"
   ]
  }
 ],
 "metadata": {
  "kernelspec": {
   "display_name": "Python 3.10.6 ('cs109a')",
   "language": "python",
   "name": "python3"
  },
  "language_info": {
   "codemirror_mode": {
    "name": "ipython",
    "version": 3
   },
   "file_extension": ".py",
   "mimetype": "text/x-python",
   "name": "python",
   "nbconvert_exporter": "python",
   "pygments_lexer": "ipython3",
   "version": "3.10.6"
  },
  "otter": {
   "OK_FORMAT": true,
   "tests": {
    "q1.1": {
     "name": "q1.1",
     "points": 2.5,
     "suites": [
      {
       "cases": [
        {
         "code": ">>> to_test =  [prop_admitted_train, naive_train_acc, naive_test_acc]\n>>> for var in to_test:\n...     assert isinstance(prop_admitted_train, (float, np.float_)),\\\n...     \"all requested variables should be a floats\"\n...     assert var >= 0 and var <= 1,\\\n...     \"all requested variables should be in the range [0,1]\"\n",
         "hidden": false,
         "locked": false
        }
       ],
       "scored": true,
       "setup": "",
       "teardown": "",
       "type": "doctest"
      }
     ]
    },
    "q1.2": {
     "name": "q1.2",
     "points": 3,
     "suites": [
      {
       "cases": [
        {
         "code": ">>> assert 'harvard' in X_train.columns, \"'harvard' should be a new column in your train dataframe\"\n>>> assert 'harvard' in X_test.columns, \"'harvard' should be a new column in your test dataframe\"\n>>> assert set(X_train.harvard.unique()) == {0,1},\\\n...     \"'harvard' predictor in train should be zeros and ones\"\n>>> assert set(X_test.harvard.unique()) == {0,1},\\\n...     \"'harvard' predictor in test should be zeros and ones\"\n",
         "hidden": false,
         "locked": false,
         "points": 0
        }
       ],
       "scored": true,
       "setup": "",
       "teardown": "",
       "type": "doctest"
      }
     ]
    },
    "q1.4": {
     "name": "q1.4",
     "points": 4,
     "suites": [
      {
       "cases": [
        {
         "code": ">>> assert type(logit1_4) == type(LogisticRegression()),\\\n...     \"logit1_4 should be am sklearn LogisticRegression object\"\n>>> assert p_harvard > 0.24 and p_harvard < 0.28, \"p_harvard should be between 0.24 and 0.28\"\n>>> assert p_yale > 0.24 and p_yale < 0.28, \"p_yale should be between 0.24 and 0.28\"\n",
         "hidden": false,
         "locked": false,
         "points": 1
        },
        {
         "code": ">>> # HIDDEN\n>>> assert np.isclose(p_harvard, 0.2768, atol=0.0001), \"Incorrect value for p_harvard\"\n>>> assert np.isclose(p_yale, 0.2472, atol=0.0001), \"Incorrect value for p_yale\"\n",
         "hidden": false,
         "locked": false,
         "points": 1
        }
       ],
       "scored": true,
       "setup": "",
       "teardown": "",
       "type": "doctest"
      }
     ]
    },
    "q2.1": {
     "name": "q2.1",
     "points": 3,
     "suites": [
      {
       "cases": [
        {
         "code": ">>> assert logit2_1_intercept >= -10 and logit2_1_intercept <= 10,\\\n...     \"logit2_1_beta0 should be a float between -10 and 10\"\n>>> assert logit2_1_coef_test >= -1 and logit2_1_coef_test <= 1,\\\n...     \"logit2_1_beta1 should be a float between -1 and 1\"\n>>> assert acc_train_logit2_1 > 0.7 and acc_train_logit2_1 < 0.8,\\\n...     \"acc_train_logit2_1 should be a float between 0.7 and 0.8\"\n>>> assert acc_test_logit2_1 > 0.7 and acc_train_logit2_1 < 0.8,\\\n...     \"acc_train_logit2_1 should be a float between 0.7 and 0.8\"\n",
         "hidden": false,
         "locked": false,
         "points": 1
        }
       ],
       "scored": true,
       "setup": "",
       "teardown": "",
       "type": "doctest"
      }
     ]
    },
    "q2.2": {
     "name": "q2.2",
     "points": 4,
     "suites": [
      {
       "cases": [
        {
         "code": ">>> assert prob_test_2250 >= 0.25 and prob_test_2250 <= 0.5,\\\n...     \"prob_test_2250 should be a float between 0.25 and 0.5\"\n>>> assert prob_test_2400 >= 0.25 and prob_test_2250 <= 0.5,\\\n...     \"prob_test_2400 should be a float between 0.25 and 0.5\"\n>>> assert test_50_50 > 2200,\\\n...     \"test_50_50 should be a float greater than 2200\"\n",
         "hidden": false,
         "locked": false,
         "points": 1
        }
       ],
       "scored": true,
       "setup": "",
       "teardown": "",
       "type": "doctest"
      }
     ]
    },
    "q2.3": {
     "name": "q2.3",
     "points": 3,
     "suites": [
      {
       "cases": [
        {
         "code": ">>> assert logit2_3_intercept >= -1 and logit2_3_intercept <= 1,\\\n...     \"logit2_3_intercept should be a float between -10 and 10\"\n>>> assert logit2_3_coef_test >= -1 and logit2_3_coef_test <= 1,\\\n...     \"logit2_3_coef_test should be a float between -1 and 1\"\n>>> assert logit2_3_coef_avg_ap >= -1 and logit2_3_coef_avg_ap <= 1,\\\n...     \"logit2_3_coef_avg_ap should be a float between -1 and 1\"\n>>> assert acc_train_logit2_3 > 0.7 and acc_train_logit2_3 < 0.8,\\\n...     \"acc_train_logit2_3 should be a float between 0.7 and 0.8\"\n>>> assert acc_test_logit2_3 > 0.7 and acc_train_logit2_3 < 0.8,\\\n...     \"acc_train_logit2_3 should be a float between 0.7 and 0.8\"\n",
         "hidden": false,
         "locked": false,
         "points": 1
        }
       ],
       "scored": true,
       "setup": "",
       "teardown": "",
       "type": "doctest"
      }
     ]
    },
    "q3.1": {
     "name": "q3.1",
     "points": 4,
     "suites": [
      {
       "cases": [
        {
         "code": ">>> assert acc_train_logit3_1 > 0.68 and acc_train_logit3_1 < 0.78,\\\n...     \"acc_train_logit3_1 should be a float between 0.68 and 0.78\"\n>>> assert acc_test_logit3_1 > 0.68 and acc_train_logit3_1 < 0.78,\\\n...     \"acc_train_logit3_1 should be a float between 0.68 and 0.78\"\n",
         "hidden": false,
         "locked": false,
         "points": 1
        }
       ],
       "scored": true,
       "setup": "",
       "teardown": "",
       "type": "doctest"
      }
     ]
    },
    "q3.2": {
     "name": "q3.2",
     "points": 3,
     "suites": [
      {
       "cases": [
        {
         "code": ">>> assert len(logit3_2_coefs) == 5,\\\n...     \"logit3_2 should have 5 coefficients (not including the intercept)\"\n",
         "hidden": false,
         "locked": false,
         "points": 1
        }
       ],
       "scored": true,
       "setup": "",
       "teardown": "",
       "type": "doctest"
      }
     ]
    },
    "q3.6": {
     "name": "q3.6",
     "points": 3,
     "suites": [
      {
       "cases": [
        {
         "code": ">>> assert len(logit3_6.coef_.flatten()) == 6,\\\n...     \"logit3_6 should have 6 coefficients (not including the intercept)\"\n",
         "hidden": false,
         "locked": false,
         "points": 1
        }
       ],
       "scored": true,
       "setup": "",
       "teardown": "",
       "type": "doctest"
      }
     ]
    },
    "q4.1": {
     "name": "q4.1",
     "points": 4,
     "suites": [
      {
       "cases": [
        {
         "code": ">>> assert np.isclose(X_train[non_binary_predictors].values.mean(), 0),\\\n...     \"Non-binary predictors in train should now have mean 0\"\n>>> assert np.isclose(X_test[non_binary_predictors].values.mean(), 0, atol=0.1),\\\n...     \"Non-binary predictors in test should now have mean near 0\"\n>>> assert np.isclose(X_train[non_binary_predictors].values.std(), 1),\\\n...     \"Non-binary predictors in train should now have std 1\"\n>>> assert np.isclose(X_test[non_binary_predictors].values.std(), 1, atol=0.1),\\\n...     \"Non-binary predictors in test should now have std near 1\"\n>>> assert set(X_train['harvard'].unique()) == {0,1},\\\n...     \"You should not scale the binary predictors.\"\n",
         "hidden": false,
         "locked": false
        }
       ],
       "scored": true,
       "setup": "",
       "teardown": "",
       "type": "doctest"
      }
     ]
    },
    "q4.3": {
     "name": "q4.3",
     "points": 3,
     "suites": [
      {
       "cases": [
        {
         "code": ">>> assert logit_full_train_acc > 0.68 and logit_full_train_acc < 0.78,\\\n...     \"logit_full_train_acc should be a float between 0.68 and 0.78\"\n>>> assert logit_full_test_acc > 0.68 and logit_full_test_acc < 0.78,\\\n...     \"logit_full_test_acc should be a float between 0.68 and 0.78\"\n",
         "hidden": false,
         "locked": false,
         "points": 1
        }
       ],
       "scored": true,
       "setup": "",
       "teardown": "",
       "type": "doctest"
      }
     ]
    },
    "q4.4": {
     "name": "q4.4",
     "points": 4,
     "suites": [
      {
       "cases": [
        {
         "code": ">>> assert logit_lasso_train_acc > 0.68 and logit_lasso_train_acc < 0.78,\\\n...     \"logit_lasso_train_acc should be a float between 0.68 and 0.78\"\n>>> assert logit_lasso_test_acc > 0.68 and logit_lasso_test_acc < 0.78,\\\n...     \"logit_lasso_test_acc should be a float between 0.68 and 0.78\"\n",
         "hidden": false,
         "locked": false,
         "points": 1
        }
       ],
       "scored": true,
       "setup": "",
       "teardown": "",
       "type": "doctest"
      }
     ]
    },
    "q4.5": {
     "name": "q4.5",
     "points": 3,
     "suites": [
      {
       "cases": [
        {
         "code": ">>> assert len(predictors_important) >= 6,\\\n...     \"You should have more important predictors\"\n>>> assert len(predictors_not_important) <= 6,\\\n...     \"You should have fewer non-important predictors\"\n",
         "hidden": false,
         "locked": false,
         "points": 1
        }
       ],
       "scored": true,
       "setup": "",
       "teardown": "",
       "type": "doctest"
      }
     ]
    },
    "q4.7": {
     "name": "q4.7",
     "points": 2,
     "suites": [
      {
       "cases": [],
       "scored": true,
       "setup": "",
       "teardown": "",
       "type": "doctest"
      }
     ]
    },
    "q5.3": {
     "name": "q5.3",
     "points": 3,
     "suites": [
      {
       "cases": [
        {
         "code": ">>> assert len(auc_list) == 4,\\\n...     \"You should have 4 entries in auc_list\"\n",
         "hidden": false,
         "locked": false,
         "points": 0
        }
       ],
       "scored": true,
       "setup": "",
       "teardown": "",
       "type": "doctest"
      }
     ]
    }
   }
  },
  "vscode": {
   "interpreter": {
    "hash": "fab87ba93441783ec97b026944806fcb87c3ce807f5f578b37af4b422802fde1"
   }
  }
 },
 "nbformat": 4,
 "nbformat_minor": 4
}
