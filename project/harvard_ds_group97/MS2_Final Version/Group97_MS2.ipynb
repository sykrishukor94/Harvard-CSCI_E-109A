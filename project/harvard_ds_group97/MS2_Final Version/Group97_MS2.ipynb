{
 "cells": [
  {
   "cell_type": "markdown",
   "id": "b5fc8f1d-7c22-4c0b-adff-dca7c45528ec",
   "metadata": {},
   "source": [
    "# <img style=\"float: left; padding-right: 10px; width: 45px\" src=\"https://raw.githubusercontent.com/Harvard-IACS/2018-CS109A/master/content/styles/iacs.png\"> CS109A Introduction to Data Science\n",
    "\n",
    "## Project Milestone 2 using SEER Breast Cancer Dataset   \n",
    "\n",
    "\n",
    "**Harvard University**<br/>\n",
    "**Fall 2022**<br/>\n",
    "**Instructors**: Pavlos Protopapas, Natesh Pillai, and Chris Gumb\n",
    "\n",
    "<hr style=\"height:2pt\">"
   ]
  },
  {
   "cell_type": "code",
   "execution_count": 1,
   "id": "6904433d-1608-4c6b-a8d2-df394ac63a2f",
   "metadata": {},
   "outputs": [],
   "source": [
    "# RUN THIS CELL \n",
    "import os\n",
    "import pathlib\n",
    "working_dir = pathlib.Path().absolute()\n",
    "os.chdir(working_dir)\n",
    "\n",
    "# Import libraries\n",
    "import itertools\n",
    "import math\n",
    "\n",
    "import numpy as np\n",
    "import pandas as pd\n",
    "import seaborn as sns\n",
    "import matplotlib.pyplot as plt\n",
    "\n",
    "\n",
    "# pandas tricks for better display\n",
    "pd.options.display.max_columns = 50  \n",
    "pd.options.display.max_rows = 500     \n",
    "pd.options.display.max_colwidth = 100\n",
    "pd.options.display.precision = 3\n",
    "\n",
    "%matplotlib inline"
   ]
  },
  {
   "cell_type": "markdown",
   "id": "26d083cd-b53a-460d-a655-97e23bdb07c0",
   "metadata": {},
   "source": [
    "## Notebook Contents\n",
    "\n",
    "**Our group for this project is b_Project - Group # 97**\n",
    "\n",
    "* [Updates from Project Milestone 1](#update) \n",
    "* [Overview of Dataset](#overview) \n",
    "* [Exploratory Data Analysis (EDA)](#EDA)\n",
    "* [Baseline Model Design](#baseline)"
   ]
  },
  {
   "cell_type": "markdown",
   "id": "d7144043-3d76-4855-baba-99a81d3a7aec",
   "metadata": {},
   "source": [
    "## Updates from Project Milestone 1 <a class=\"anchor\" id=\"update\"></a>\n",
    "\n",
    "Using [this spreadsheet](https://docs.google.com/spreadsheets/d/1xM0WfSu73YWKTmy5ljiBWZk6U-470rOkliuZ02ZmNII/edit#gid=0) we decided on the following potential projects # 10, 18, 28, 2. \n",
    "\n",
    "As stated in the instructions of the MS2 assignment we proceed to go with our first project choice # 10 Cancer Treatment Decision Making for downstream analysis. However, the dataset was inaccessible. With staff approval, we decided to use a new dataset, SEER Breast Cancer Dataset. \n",
    "\n",
    "JING TENG (2019). SEER Breast Cancer Data. [IEEE Dataport](https://dx.doi.org/10.21227/a9qy-ph35)."
   ]
  },
  {
   "cell_type": "markdown",
   "id": "f679871f-27cd-4ece-aac4-b2f8e2e21d2c",
   "metadata": {},
   "source": [
    "## Overview of Dataset <a class=\"anchor\" id=\"overview\"></a>"
   ]
  },
  {
   "cell_type": "code",
   "execution_count": null,
   "id": "da977646-d0ac-46ed-bd2d-f2847f8473a1",
   "metadata": {},
   "outputs": [],
   "source": []
  },
  {
   "cell_type": "code",
   "execution_count": null,
   "id": "d4b397d6-2883-4770-a380-c0010bbc0333",
   "metadata": {},
   "outputs": [],
   "source": []
  },
  {
   "cell_type": "markdown",
   "id": "aa7c15a6-4aa8-4450-ae62-24fb119b8f5d",
   "metadata": {},
   "source": [
    "## Exploratory Data Analysis (EDA) <a class=\"anchor\" id=\"EDA\"></a>"
   ]
  },
  {
   "cell_type": "code",
   "execution_count": null,
   "id": "f5cf13d7-16cf-45f8-adec-c4cc1af37385",
   "metadata": {},
   "outputs": [],
   "source": []
  },
  {
   "cell_type": "code",
   "execution_count": null,
   "id": "fc627c48-e9e4-40bd-b430-17eb2c5ef7c5",
   "metadata": {},
   "outputs": [],
   "source": []
  },
  {
   "cell_type": "markdown",
   "id": "b60dcf69-54c8-402e-a940-c7f7b6468133",
   "metadata": {},
   "source": [
    "## Baseline Model Design <a class=\"anchor\" id=\"baseline\"></a>"
   ]
  },
  {
   "cell_type": "code",
   "execution_count": null,
   "id": "b0de71c6-a9f7-42bd-bd1b-4c6d79516da4",
   "metadata": {},
   "outputs": [],
   "source": []
  },
  {
   "cell_type": "code",
   "execution_count": null,
   "id": "a17238a8-c48c-4cf2-a063-11b47e0646f2",
   "metadata": {},
   "outputs": [],
   "source": []
  }
 ],
 "metadata": {
  "kernelspec": {
   "display_name": "Python 3 (ipykernel)",
   "language": "python",
   "name": "python3"
  },
  "language_info": {
   "codemirror_mode": {
    "name": "ipython",
    "version": 3
   },
   "file_extension": ".py",
   "mimetype": "text/x-python",
   "name": "python",
   "nbconvert_exporter": "python",
   "pygments_lexer": "ipython3",
   "version": "3.10.6"
  }
 },
 "nbformat": 4,
 "nbformat_minor": 5
}
