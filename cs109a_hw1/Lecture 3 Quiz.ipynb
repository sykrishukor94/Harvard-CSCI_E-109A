{
 "cells": [
  {
   "cell_type": "code",
   "execution_count": 3,
   "id": "0a7468b3-df29-469a-bece-aee83c78d2d3",
   "metadata": {},
   "outputs": [
    {
     "name": "stdout",
     "output_type": "stream",
     "text": [
      "['', 'just my luck', 'lady luck', 'racing luck', \"beginner's luck\", \"if i'm lucky\", 'high times potluck', 'the lucky number', 'bad luck love', 'the lucky man']\n",
      "                title\n",
      "0                    \n",
      "1        just my luck\n",
      "2           lady luck\n",
      "3         racing luck\n",
      "4     beginner's luck\n",
      "5        if i'm lucky\n",
      "6  high times potluck\n",
      "7    the lucky number\n",
      "8       bad luck love\n",
      "9       the lucky man\n"
     ]
    }
   ],
   "source": [
    "import pandas as pd\n",
    "my_list = ['',\n",
    " 'just my luck',\n",
    " 'lady luck',\n",
    " 'racing luck',\n",
    " 'beginner\\'s luck',\n",
    " 'if i\\'m lucky',\n",
    " 'high times potluck',\n",
    " 'the lucky number',\n",
    " 'bad luck love',\n",
    " 'the lucky man'\n",
    "]\n",
    "print(my_list)\n",
    "df = pd.DataFrame(my_list, columns = ['title'])\n",
    "print(df)"
   ]
  },
  {
   "cell_type": "code",
   "execution_count": 4,
   "id": "2ae490f9-1ea9-4adc-95b8-5911b06e0d86",
   "metadata": {},
   "outputs": [
    {
     "data": {
      "text/plain": [
       "<bound method IndexOpsMixin.value_counts of 0                 []\n",
       "1            [ luck]\n",
       "2            [ luck]\n",
       "3            [ luck]\n",
       "4            [ luck]\n",
       "5           [ lucky]\n",
       "6            [tluck]\n",
       "7    [ lucky number]\n",
       "8       [ luck love]\n",
       "9       [ lucky man]\n",
       "Name: title, dtype: object>"
      ]
     },
     "execution_count": 4,
     "metadata": {},
     "output_type": "execute_result"
    }
   ],
   "source": [
    "df.title.str.lower().str.findall(r'.luck.*').value_counts"
   ]
  },
  {
   "cell_type": "code",
   "execution_count": 5,
   "id": "b6889dda-5c25-4c42-ae67-5d31d832339b",
   "metadata": {},
   "outputs": [
    {
     "data": {
      "text/plain": [
       "<bound method IndexOpsMixin.value_counts of 0                      []\n",
       "1          [just my luck]\n",
       "2             [lady luck]\n",
       "3           [racing luck]\n",
       "4       [beginner's luck]\n",
       "5          [if i'm lucky]\n",
       "6    [high times potluck]\n",
       "7      [the lucky number]\n",
       "8         [bad luck love]\n",
       "9         [the lucky man]\n",
       "Name: title, dtype: object>"
      ]
     },
     "execution_count": 5,
     "metadata": {},
     "output_type": "execute_result"
    }
   ],
   "source": [
    "df.title.str.lower().str.findall(r'\\w+.+luck.*').value_counts"
   ]
  },
  {
   "cell_type": "code",
   "execution_count": 6,
   "id": "589af003-be8e-4aec-a697-551a251780ab",
   "metadata": {},
   "outputs": [
    {
     "data": {
      "text/plain": [
       "<bound method IndexOpsMixin.value_counts of 0                  []\n",
       "1            [y luck]\n",
       "2            [y luck]\n",
       "3            [g luck]\n",
       "4            [s luck]\n",
       "5           [m lucky]\n",
       "6            [otluck]\n",
       "7    [e lucky number]\n",
       "8       [d luck love]\n",
       "9       [e lucky man]\n",
       "Name: title, dtype: object>"
      ]
     },
     "execution_count": 6,
     "metadata": {},
     "output_type": "execute_result"
    }
   ],
   "source": [
    "df.title.str.lower().str.findall(r'\\w.luck.*').value_counts"
   ]
  },
  {
   "cell_type": "code",
   "execution_count": 7,
   "id": "894ed31b-2d4a-49e9-aaa9-707b548f2179",
   "metadata": {},
   "outputs": [
    {
     "data": {
      "text/plain": [
       "<bound method IndexOpsMixin.value_counts of 0                []\n",
       "1                []\n",
       "2                []\n",
       "3                []\n",
       "4                []\n",
       "5    [if i'm lucky]\n",
       "6                []\n",
       "7                []\n",
       "8                []\n",
       "9                []\n",
       "Name: title, dtype: object>"
      ]
     },
     "execution_count": 7,
     "metadata": {},
     "output_type": "execute_result"
    }
   ],
   "source": [
    "df.title.str.lower().str.findall(r'\\w+.+luck.$').value_counts"
   ]
  },
  {
   "cell_type": "code",
   "execution_count": null,
   "id": "75b86f53-7b86-4399-985e-8706b4aebfe1",
   "metadata": {},
   "outputs": [],
   "source": []
  }
 ],
 "metadata": {
  "kernelspec": {
   "display_name": "Python 3 (ipykernel)",
   "language": "python",
   "name": "python3"
  },
  "language_info": {
   "codemirror_mode": {
    "name": "ipython",
    "version": 3
   },
   "file_extension": ".py",
   "mimetype": "text/x-python",
   "name": "python",
   "nbconvert_exporter": "python",
   "pygments_lexer": "ipython3",
   "version": "3.10.6"
  }
 },
 "nbformat": 4,
 "nbformat_minor": 5
}
